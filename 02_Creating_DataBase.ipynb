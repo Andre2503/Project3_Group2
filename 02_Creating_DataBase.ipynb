{
 "cells": [
  {
   "cell_type": "code",
   "execution_count": 58,
   "id": "157e4918-d46f-48fe-aa38-9eeaec1556aa",
   "metadata": {},
   "outputs": [],
   "source": [
    "#import dependencies\n",
    "from sqlalchemy import create_engine, Column, Integer, String, Float, ForeignKey, Date\n",
    "from sqlalchemy.ext.declarative import declarative_base\n",
    "from sqlalchemy.orm import Session\n",
    "import pandas as pd\n",
    "from sqlalchemy.ext.automap import automap_base\n",
    "from sqlalchemy import func\n"
   ]
  },
  {
   "cell_type": "code",
   "execution_count": 34,
   "id": "f9982bbd-6ad9-4a87-b604-cd84b1fc3ed1",
   "metadata": {},
   "outputs": [
    {
     "data": {
      "text/html": [
       "<div>\n",
       "<style scoped>\n",
       "    .dataframe tbody tr th:only-of-type {\n",
       "        vertical-align: middle;\n",
       "    }\n",
       "\n",
       "    .dataframe tbody tr th {\n",
       "        vertical-align: top;\n",
       "    }\n",
       "\n",
       "    .dataframe thead th {\n",
       "        text-align: right;\n",
       "    }\n",
       "</style>\n",
       "<table border=\"1\" class=\"dataframe\">\n",
       "  <thead>\n",
       "    <tr style=\"text-align: right;\">\n",
       "      <th></th>\n",
       "      <th>Ticker</th>\n",
       "      <th>Date</th>\n",
       "      <th>Open</th>\n",
       "      <th>High</th>\n",
       "      <th>Low</th>\n",
       "      <th>Close</th>\n",
       "      <th>Adj Close</th>\n",
       "      <th>Volume</th>\n",
       "    </tr>\n",
       "  </thead>\n",
       "  <tbody>\n",
       "    <tr>\n",
       "      <th>0</th>\n",
       "      <td>ARB</td>\n",
       "      <td>2018-11-05</td>\n",
       "      <td>17.129999</td>\n",
       "      <td>17.540001</td>\n",
       "      <td>16.370001</td>\n",
       "      <td>17.150000</td>\n",
       "      <td>15.435927</td>\n",
       "      <td>1106127</td>\n",
       "    </tr>\n",
       "    <tr>\n",
       "      <th>1</th>\n",
       "      <td>ARB</td>\n",
       "      <td>2018-11-12</td>\n",
       "      <td>17.059999</td>\n",
       "      <td>17.370001</td>\n",
       "      <td>16.655001</td>\n",
       "      <td>17.100000</td>\n",
       "      <td>15.390924</td>\n",
       "      <td>1411720</td>\n",
       "    </tr>\n",
       "    <tr>\n",
       "      <th>2</th>\n",
       "      <td>ARB</td>\n",
       "      <td>2018-11-19</td>\n",
       "      <td>17.000000</td>\n",
       "      <td>17.700001</td>\n",
       "      <td>16.330000</td>\n",
       "      <td>17.120001</td>\n",
       "      <td>15.408929</td>\n",
       "      <td>917302</td>\n",
       "    </tr>\n",
       "    <tr>\n",
       "      <th>3</th>\n",
       "      <td>ARB</td>\n",
       "      <td>2018-11-26</td>\n",
       "      <td>17.020000</td>\n",
       "      <td>17.559999</td>\n",
       "      <td>16.750000</td>\n",
       "      <td>16.870001</td>\n",
       "      <td>15.183915</td>\n",
       "      <td>1240321</td>\n",
       "    </tr>\n",
       "    <tr>\n",
       "      <th>4</th>\n",
       "      <td>ARB</td>\n",
       "      <td>2018-12-03</td>\n",
       "      <td>17.379999</td>\n",
       "      <td>17.490000</td>\n",
       "      <td>16.110001</td>\n",
       "      <td>16.309999</td>\n",
       "      <td>14.679882</td>\n",
       "      <td>1164860</td>\n",
       "    </tr>\n",
       "  </tbody>\n",
       "</table>\n",
       "</div>"
      ],
      "text/plain": [
       "  Ticker        Date       Open       High        Low      Close  Adj Close  \\\n",
       "0    ARB  2018-11-05  17.129999  17.540001  16.370001  17.150000  15.435927   \n",
       "1    ARB  2018-11-12  17.059999  17.370001  16.655001  17.100000  15.390924   \n",
       "2    ARB  2018-11-19  17.000000  17.700001  16.330000  17.120001  15.408929   \n",
       "3    ARB  2018-11-26  17.020000  17.559999  16.750000  16.870001  15.183915   \n",
       "4    ARB  2018-12-03  17.379999  17.490000  16.110001  16.309999  14.679882   \n",
       "\n",
       "    Volume  \n",
       "0  1106127  \n",
       "1  1411720  \n",
       "2   917302  \n",
       "3  1240321  \n",
       "4  1164860  "
      ]
     },
     "execution_count": 34,
     "metadata": {},
     "output_type": "execute_result"
    }
   ],
   "source": [
    "# Step 1: Read CSV Files into DataFrames\n",
    "industry_groups_df = pd.read_csv('Resources/Industry_Groups.csv')\n",
    "top_ten_df = pd.read_csv('Resources/top_ten_with_industryID.csv')\n",
    "top_ten_historic_df = pd.read_csv('Resources/top_ten_historic_5y.csv')\n",
    "top_ten_historic_df.head()"
   ]
  },
  {
   "cell_type": "code",
   "execution_count": 56,
   "id": "851dfd25-d1b0-40a8-8829-76f823f8a644",
   "metadata": {},
   "outputs": [],
   "source": [
    "# #trying to see if i had any null values in 'Date' column of top_ten_historic_df\n",
    "# print(top_ten_historic_df['Ticker'].isnull().sum())"
   ]
  },
  {
   "cell_type": "code",
   "execution_count": 55,
   "id": "74600ca6-4dbb-4367-8b7b-33e06e6dce74",
   "metadata": {},
   "outputs": [],
   "source": [
    "# top_ten_df.info()"
   ]
  },
  {
   "cell_type": "code",
   "execution_count": 36,
   "id": "b52e06b7-4022-49f0-b2c1-1c27af362e70",
   "metadata": {},
   "outputs": [],
   "source": [
    "#convert datatype to date\n",
    "top_ten_historic_df['Date'] = pd.to_datetime(top_ten_historic_df['Date'])\n"
   ]
  },
  {
   "cell_type": "code",
   "execution_count": 42,
   "id": "c17d3c75-3871-494d-bc6e-4a45e188c968",
   "metadata": {},
   "outputs": [
    {
     "name": "stdout",
     "output_type": "stream",
     "text": [
      "<class 'pandas.core.frame.DataFrame'>\n",
      "RangeIndex: 60881 entries, 0 to 60880\n",
      "Data columns (total 8 columns):\n",
      " #   Column     Non-Null Count  Dtype         \n",
      "---  ------     --------------  -----         \n",
      " 0   Ticker     60881 non-null  object        \n",
      " 1   Date       60881 non-null  datetime64[ns]\n",
      " 2   Open       60881 non-null  float64       \n",
      " 3   High       60881 non-null  float64       \n",
      " 4   Low        60881 non-null  float64       \n",
      " 5   Close      60881 non-null  float64       \n",
      " 6   Adj Close  60881 non-null  float64       \n",
      " 7   Volume     60881 non-null  int64         \n",
      "dtypes: datetime64[ns](1), float64(5), int64(1), object(1)\n",
      "memory usage: 3.7+ MB\n"
     ]
    }
   ],
   "source": [
    "top_ten_historic_df.info()"
   ]
  },
  {
   "cell_type": "code",
   "execution_count": 30,
   "id": "73ca729a-b3b3-4ac7-901c-276a492de4f7",
   "metadata": {},
   "outputs": [],
   "source": [
    "top_ten_historic_df['Date'] = pd.to_datetime(top_ten_historic_df['Date']).apply(lambda x: x.date())"
   ]
  },
  {
   "cell_type": "code",
   "execution_count": 31,
   "id": "8988a7db-2a4a-41e5-8597-fd848b75c2db",
   "metadata": {},
   "outputs": [],
   "source": [
    "# print(top_ten_historic_df['Date'].unique())"
   ]
  },
  {
   "cell_type": "code",
   "execution_count": 39,
   "id": "095b7048-3d83-4822-b61a-d3a384a1c5b2",
   "metadata": {},
   "outputs": [
    {
     "name": "stdout",
     "output_type": "stream",
     "text": [
      "<class 'pandas.core.frame.DataFrame'>\n",
      "RangeIndex: 27 entries, 0 to 26\n",
      "Data columns (total 2 columns):\n",
      " #   Column         Non-Null Count  Dtype \n",
      "---  ------         --------------  ----- \n",
      " 0   industry_name  27 non-null     object\n",
      " 1   industry_id    27 non-null     int64 \n",
      "dtypes: int64(1), object(1)\n",
      "memory usage: 560.0+ bytes\n"
     ]
    }
   ],
   "source": [
    "industry_groups_df.info()"
   ]
  },
  {
   "cell_type": "code",
   "execution_count": 44,
   "id": "beac57a7-6de3-417c-ba58-20a8104a8382",
   "metadata": {},
   "outputs": [],
   "source": [
    "# Define Database Schema\n",
    "Base = declarative_base()\n",
    "\n",
    "class IndustryGroups(Base):\n",
    "    __tablename__ = 'industry_groups'\n",
    "    \n",
    "    industry_name = Column(String)\n",
    "    industry_id = Column(Integer, primary_key=True)\n",
    "    \n",
    "\n",
    "class TopTen(Base):\n",
    "    __tablename__ = 'top_ten'\n",
    "    \n",
    "    ticker = Column(String, primary_key=True)\n",
    "    company_name = Column(String)\n",
    "    market_cap = Column(Float)\n",
    "    industry_id = Column(Integer, ForeignKey('industry_groups.industry_id'))\n",
    "\n",
    "class TopTenHistoric(Base):\n",
    "    __tablename__ = 'top_ten_historic'\n",
    "    \n",
    "    id = Column (Integer, primary_key=True, autoincrement=True)\n",
    "    Ticker = Column(String, ForeignKey('top_ten.ticker'))\n",
    "    Date = Column(Date)\n",
    "    Open = Column(Float)\n",
    "    High = Column(Float)\n",
    "    Low = Column(Float)\n",
    "    Close = Column(Float)\n",
    "    Adj_Close = Column('Adj Close', Float)\n",
    "    Volume = Column(Integer)\n",
    "\n",
    "#Connect to the Database and Create Tables\n",
    "# Replace 'sqlite:///asx.db' with your actual database connection string\n",
    "engine = create_engine('sqlite:///Resources/top_ten_asx.db')\n",
    "Base.metadata.create_all(engine)\n"
   ]
  },
  {
   "cell_type": "code",
   "execution_count": 45,
   "id": "0a0716d9-cb2b-4bae-969c-3e3bd1014314",
   "metadata": {},
   "outputs": [],
   "source": [
    "#Insert DataFrames into Database\n",
    "Session = sessionmaker(bind=engine)\n",
    "session = Session()\n",
    "\n",
    "# Insert IndustryGroups\n",
    "session.bulk_insert_mappings(IndustryGroups, industry_groups_df.to_dict(orient=\"records\"))\n",
    "\n",
    "# Insert TopTen\n",
    "session.bulk_insert_mappings(TopTen, top_ten_df.to_dict(orient=\"records\"))\n",
    "\n",
    "# Insert TopTenHistoric\n",
    "session.bulk_insert_mappings(TopTenHistoric, top_ten_historic_df.to_dict(orient=\"records\"))\n",
    "\n",
    "\n",
    "\n"
   ]
  },
  {
   "cell_type": "code",
   "execution_count": 46,
   "id": "057a75da-b512-446a-bc6e-d5a9e53c6539",
   "metadata": {},
   "outputs": [],
   "source": [
    "# #commit changes\n",
    "# session.commit()"
   ]
  },
  {
   "cell_type": "code",
   "execution_count": null,
   "id": "ac595c54-fb53-4500-8d75-288bbdba1612",
   "metadata": {},
   "outputs": [],
   "source": [
    "# #Query the Database and Create DataFrame\n",
    "# # Example: Querying the TopTen table and creating a DataFrame\n",
    "# top_ten_query = session.query(TopTen).all()\n",
    "# asx = pd.DataFrame([{\n",
    "#     'ticker': record.ticker,\n",
    "#     'company_name': record.company_name,\n",
    "#     'market_cap': record.market_cap,\n",
    "#     'industry_id': record.industry_id\n",
    "# } for record in top_ten_query])\n",
    "\n",
    "# print(asx)\n"
   ]
  },
  {
   "cell_type": "code",
   "execution_count": 50,
   "id": "95fce3c2-9612-4227-81c7-680440277d4f",
   "metadata": {},
   "outputs": [],
   "source": [
    "#import dependencies for inspector\n",
    "from sqlalchemy import inspect"
   ]
  },
  {
   "cell_type": "code",
   "execution_count": 51,
   "id": "44823547-3362-4698-9a85-80a4092b83da",
   "metadata": {},
   "outputs": [],
   "source": [
    "# Instantiate an Inspector with the engine\n",
    "inspector = inspect(engine)"
   ]
  },
  {
   "cell_type": "code",
   "execution_count": 52,
   "id": "6201fbd9-7ade-46fe-ab01-87add0ef01e8",
   "metadata": {},
   "outputs": [
    {
     "name": "stdout",
     "output_type": "stream",
     "text": [
      "['industry_groups', 'top_ten', 'top_ten_historic']\n"
     ]
    }
   ],
   "source": [
    "# Get a list of table names\n",
    "table_names = inspector.get_table_names()\n",
    "print(table_names)"
   ]
  },
  {
   "cell_type": "code",
   "execution_count": 63,
   "id": "faf3b27b-cba3-4696-87fa-9cdcf7c3112a",
   "metadata": {},
   "outputs": [
    {
     "name": "stdout",
     "output_type": "stream",
     "text": [
      "ticker\n",
      "company_name\n",
      "market_cap\n",
      "industry_id\n"
     ]
    }
   ],
   "source": [
    "#Get columns of top_ten_historic\n",
    "columns = inspector.get_columns('top_ten')\n",
    "for column in columns:\n",
    "    print(column['name'])"
   ]
  },
  {
   "cell_type": "code",
   "execution_count": 59,
   "id": "dd5c6f98-7651-45d9-b347-c4acb465312a",
   "metadata": {},
   "outputs": [
    {
     "data": {
      "text/plain": [
       "['industry_groups', 'top_ten', 'top_ten_historic']"
      ]
     },
     "execution_count": 59,
     "metadata": {},
     "output_type": "execute_result"
    }
   ],
   "source": [
    "#reflect database into ORM classes \n",
    "Base = automap_base()\n",
    "Base.prepare(autoload_with=engine)\n",
    "Base.classes.keys()"
   ]
  },
  {
   "cell_type": "code",
   "execution_count": 60,
   "id": "be152779-09ed-4284-a347-ca027fb2f732",
   "metadata": {},
   "outputs": [
    {
     "data": {
      "text/plain": [
       "sqlalchemy.ext.automap.top_ten"
      ]
     },
     "execution_count": 60,
     "metadata": {},
     "output_type": "execute_result"
    }
   ],
   "source": [
    "#save a reference to the top_ten table as 'top_ten'\n",
    "top_ten = Base.classes.top_ten"
   ]
  },
  {
   "cell_type": "code",
   "execution_count": 61,
   "id": "208bbfda-cacd-4545-86aa-42ea8c47b4fb",
   "metadata": {},
   "outputs": [],
   "source": [
    "#create a database session object\n",
    "session = Session(engine)"
   ]
  },
  {
   "cell_type": "code",
   "execution_count": 62,
   "id": "7aa9d19f-4047-440a-a988-9724089182d5",
   "metadata": {},
   "outputs": [
    {
     "data": {
      "text/plain": [
       "[('360',),\n",
       " ('4DS',),\n",
       " ('A2M',),\n",
       " ('AAC',),\n",
       " ('ABB',),\n",
       " ('ABV',),\n",
       " ('AD8',),\n",
       " ('AFI',),\n",
       " ('AFP',),\n",
       " ('AGL',),\n",
       " ('AHL',),\n",
       " ('AIA',),\n",
       " ('AIZ',),\n",
       " ('AKP',),\n",
       " ('ALD',),\n",
       " ('ALL',),\n",
       " ('ALQ',),\n",
       " ('ALU',),\n",
       " ('ALX',),\n",
       " ('AMC',),\n",
       " ('AMP',),\n",
       " ('ANN',),\n",
       " ('ANZ',),\n",
       " ('APA',),\n",
       " ('APE',),\n",
       " ('APM',),\n",
       " ('ARB',),\n",
       " ('ARG',),\n",
       " ('ASX',),\n",
       " ('AUB',),\n",
       " ('AUI',),\n",
       " ('AVH',),\n",
       " ('AVJ',),\n",
       " ('AX1',),\n",
       " ('AXE',),\n",
       " ('AZJ',),\n",
       " ('BAP',),\n",
       " ('BEN',),\n",
       " ('BFL',),\n",
       " ('BGA',),\n",
       " ('BGP',),\n",
       " ('BHP',),\n",
       " ('BIO',),\n",
       " ('BKI',),\n",
       " ('BLG',),\n",
       " ('BOQ',),\n",
       " ('BPT',),\n",
       " ('BRG',),\n",
       " ('BXB',),\n",
       " ('BXN',),\n",
       " ('CAR',),\n",
       " ('CBA',),\n",
       " ('CBO',),\n",
       " ('CCO',),\n",
       " ('CDA',),\n",
       " ('CEN',),\n",
       " ('CGC',),\n",
       " ('CGF',),\n",
       " ('CHC',),\n",
       " ('CNU',),\n",
       " ('COH',),\n",
       " ('COL',),\n",
       " ('CPU',),\n",
       " ('CSL',),\n",
       " ('CTD',),\n",
       " ('CUV',),\n",
       " ('CVW',),\n",
       " ('CWP',),\n",
       " ('CWY',),\n",
       " ('D2O',),\n",
       " ('DBI',),\n",
       " ('DDR',),\n",
       " ('DDT',),\n",
       " ('DHG',),\n",
       " ('DMP',),\n",
       " ('DOW',),\n",
       " ('DTL',),\n",
       " ('DTZ',),\n",
       " ('DXS',),\n",
       " ('DY6',),\n",
       " ('EBO',),\n",
       " ('EDV',),\n",
       " ('ELD',),\n",
       " ('ERD',),\n",
       " ('EVT',),\n",
       " ('EXL',),\n",
       " ('FBU',),\n",
       " ('FLT',),\n",
       " ('FMG',),\n",
       " ('FPH',),\n",
       " ('FRI',),\n",
       " ('FRW',),\n",
       " ('FSG',),\n",
       " ('FWD',),\n",
       " ('GAP',),\n",
       " ('GDG',),\n",
       " ('GLB',),\n",
       " ('GMG',),\n",
       " ('GNC',),\n",
       " ('GNE',),\n",
       " ('GNX',),\n",
       " ('GPT',),\n",
       " ('GQG',),\n",
       " ('GUD',),\n",
       " ('HCT',),\n",
       " ('HGH',),\n",
       " ('HPC',),\n",
       " ('HRE',),\n",
       " ('HTA',),\n",
       " ('HUB',),\n",
       " ('HVN',),\n",
       " ('IAG',),\n",
       " ('IEL',),\n",
       " ('IFT',),\n",
       " ('IKE',),\n",
       " ('IMM',),\n",
       " ('IMU',),\n",
       " ('ING',),\n",
       " ('IPH',),\n",
       " ('IVC',),\n",
       " ('JBH',),\n",
       " ('JDO',),\n",
       " ('JHG',),\n",
       " ('JHX',),\n",
       " ('JLG',),\n",
       " ('KLI',),\n",
       " ('KLS',),\n",
       " ('LGI',),\n",
       " ('LIC',),\n",
       " ('LLC',),\n",
       " ('LNW',),\n",
       " ('LOV',),\n",
       " ('LSF',),\n",
       " ('MAD',),\n",
       " ('MAQ',),\n",
       " ('MCP',),\n",
       " ('MCY',),\n",
       " ('MEZ',),\n",
       " ('MFF',),\n",
       " ('MGF',),\n",
       " ('MGR',),\n",
       " ('MIN',),\n",
       " ('MMM',),\n",
       " ('MMS',),\n",
       " ('MND',),\n",
       " ('MP1',),\n",
       " ('MPL',),\n",
       " ('MQG',),\n",
       " ('MSB',),\n",
       " ('MTS',),\n",
       " ('MXT',),\n",
       " ('MYX',),\n",
       " ('NAB',),\n",
       " ('NAN',),\n",
       " ('NEC',),\n",
       " ('NEM',),\n",
       " ('NEU',),\n",
       " ('NHC',),\n",
       " ('NHF',),\n",
       " ('NSR',),\n",
       " ('NST',),\n",
       " ('NVX',),\n",
       " ('NWL',),\n",
       " ('NWS',),\n",
       " ('NWSLV',),\n",
       " ('NXG',),\n",
       " ('NXT',),\n",
       " ('OML',),\n",
       " ('ORG',),\n",
       " ('OXT',),\n",
       " ('PDN',),\n",
       " ('PLS',),\n",
       " ('PME',),\n",
       " ('PMV',),\n",
       " ('PPC',),\n",
       " ('PSI',),\n",
       " ('PTL',),\n",
       " ('PVS',),\n",
       " ('PWH',),\n",
       " ('PXA',),\n",
       " ('QAL',),\n",
       " ('QAN',),\n",
       " ('QBE',),\n",
       " ('QUB',),\n",
       " ('RDX',),\n",
       " ('REA',),\n",
       " ('REH',),\n",
       " ('RHC',),\n",
       " ('RIC',),\n",
       " ('RIO',),\n",
       " ('RMD',),\n",
       " ('RPM',),\n",
       " ('RVS',),\n",
       " ('RWC',),\n",
       " ('RWL',),\n",
       " ('S32',),\n",
       " ('S3N',),\n",
       " ('S66',),\n",
       " ('SCG',),\n",
       " ('SDF',),\n",
       " ('SDR',),\n",
       " ('SEK',),\n",
       " ('SFC',),\n",
       " ('SGP',),\n",
       " ('SHL',),\n",
       " ('SHM',),\n",
       " ('SHV',),\n",
       " ('SIO',),\n",
       " ('SIQ',),\n",
       " ('SIX',),\n",
       " ('SKN',),\n",
       " ('SLB',),\n",
       " ('SLC',),\n",
       " ('SMN',),\n",
       " ('SNZ',),\n",
       " ('SOL',),\n",
       " ('SPK',),\n",
       " ('SPZ',),\n",
       " ('SQ2',),\n",
       " ('SRV',),\n",
       " ('STO',),\n",
       " ('SUL',),\n",
       " ('SUN',),\n",
       " ('SVW',),\n",
       " ('SWM',),\n",
       " ('SWP',),\n",
       " ('TAH',),\n",
       " ('TCL',),\n",
       " ('TLC',),\n",
       " ('TLS',),\n",
       " ('TLX',),\n",
       " ('TNE',),\n",
       " ('TPG',),\n",
       " ('TRE',),\n",
       " ('TUA',),\n",
       " ('TWD',),\n",
       " ('TWE',),\n",
       " ('UOS',),\n",
       " ('URW',),\n",
       " ('VCX',),\n",
       " ('VEA',),\n",
       " ('VMT',),\n",
       " ('VNT',),\n",
       " ('VUK',),\n",
       " ('WAM',),\n",
       " ('WAT',),\n",
       " ('WBC',),\n",
       " ('WBT',),\n",
       " ('WDS',),\n",
       " ('WEB',),\n",
       " ('WES',),\n",
       " ('WHC',),\n",
       " ('WLE',),\n",
       " ('WOR',),\n",
       " ('WOW',),\n",
       " ('WTC',),\n",
       " ('WTN',),\n",
       " ('XRO',),\n",
       " ('YAL',)]"
      ]
     },
     "execution_count": 62,
     "metadata": {},
     "output_type": "execute_result"
    }
   ],
   "source": [
    "#list all of the tickers found in the top_ten table \n",
    "session.query(top_ten.ticker).all()"
   ]
  },
  {
   "cell_type": "code",
   "execution_count": null,
   "id": "636c4a8e-f830-4def-a866-379026839be8",
   "metadata": {},
   "outputs": [],
   "source": []
  }
 ],
 "metadata": {
  "kernelspec": {
   "display_name": "PythonData",
   "language": "python",
   "name": "pythondata"
  },
  "language_info": {
   "codemirror_mode": {
    "name": "ipython",
    "version": 3
   },
   "file_extension": ".py",
   "mimetype": "text/x-python",
   "name": "python",
   "nbconvert_exporter": "python",
   "pygments_lexer": "ipython3",
   "version": "3.10.12"
  }
 },
 "nbformat": 4,
 "nbformat_minor": 5
}
