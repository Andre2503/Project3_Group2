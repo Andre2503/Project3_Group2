{
 "cells": [
  {
   "cell_type": "code",
   "execution_count": 1,
   "id": "157e4918-d46f-48fe-aa38-9eeaec1556aa",
   "metadata": {
    "tags": []
   },
   "outputs": [],
   "source": [
    "#import dependencies\n",
    "from sqlalchemy import create_engine, Column, Integer, String, Float, ForeignKey, Date\n",
    "from sqlalchemy.ext.declarative import declarative_base\n",
    "from sqlalchemy.orm import Session\n",
    "import pandas as pd\n",
    "from sqlalchemy.ext.automap import automap_base\n",
    "from sqlalchemy import func\n"
   ]
  },
  {
   "cell_type": "code",
   "execution_count": 2,
   "id": "f9982bbd-6ad9-4a87-b604-cd84b1fc3ed1",
   "metadata": {
    "tags": []
   },
   "outputs": [
    {
     "data": {
      "text/html": [
       "<div>\n",
       "<style scoped>\n",
       "    .dataframe tbody tr th:only-of-type {\n",
       "        vertical-align: middle;\n",
       "    }\n",
       "\n",
       "    .dataframe tbody tr th {\n",
       "        vertical-align: top;\n",
       "    }\n",
       "\n",
       "    .dataframe thead th {\n",
       "        text-align: right;\n",
       "    }\n",
       "</style>\n",
       "<table border=\"1\" class=\"dataframe\">\n",
       "  <thead>\n",
       "    <tr style=\"text-align: right;\">\n",
       "      <th></th>\n",
       "      <th>industry_name</th>\n",
       "      <th>industry_id</th>\n",
       "    </tr>\n",
       "  </thead>\n",
       "  <tbody>\n",
       "    <tr>\n",
       "      <th>0</th>\n",
       "      <td>Automobiles &amp; Components</td>\n",
       "      <td>1</td>\n",
       "    </tr>\n",
       "    <tr>\n",
       "      <th>1</th>\n",
       "      <td>Banks</td>\n",
       "      <td>2</td>\n",
       "    </tr>\n",
       "    <tr>\n",
       "      <th>2</th>\n",
       "      <td>Capital Goods</td>\n",
       "      <td>3</td>\n",
       "    </tr>\n",
       "    <tr>\n",
       "      <th>3</th>\n",
       "      <td>Class Pend</td>\n",
       "      <td>4</td>\n",
       "    </tr>\n",
       "    <tr>\n",
       "      <th>4</th>\n",
       "      <td>Commercial &amp; Professional Services</td>\n",
       "      <td>5</td>\n",
       "    </tr>\n",
       "  </tbody>\n",
       "</table>\n",
       "</div>"
      ],
      "text/plain": [
       "                        industry_name  industry_id\n",
       "0            Automobiles & Components            1\n",
       "1                               Banks            2\n",
       "2                       Capital Goods            3\n",
       "3                          Class Pend            4\n",
       "4  Commercial & Professional Services            5"
      ]
     },
     "execution_count": 2,
     "metadata": {},
     "output_type": "execute_result"
    }
   ],
   "source": [
    "# Step 1: Read CSV Files into DataFrames\n",
    "industry_groups_df = pd.read_csv('Resources/Industry_Groups.csv')\n",
    "top_ten_df = pd.read_csv('Resources/top_ten_with_industryID.csv')\n",
    "top_ten_historic_df = pd.read_csv('Resources/top_ten_historic_5y.csv')\n",
    "fundamental_df_clean = pd.read_csv('Resources/02_ASX_Fundamental_Final_Clean.csv')\n",
    "industry_groups_df.head()"
   ]
  },
  {
   "cell_type": "code",
   "execution_count": null,
   "id": "851dfd25-d1b0-40a8-8829-76f823f8a644",
   "metadata": {
    "tags": []
   },
   "outputs": [],
   "source": [
    "# #trying to see if i had any null values in 'Date' column of top_ten_historic_df\n",
    "print(top_ten_historic_df['Ticker'].isnull().sum())"
   ]
  },
  {
   "cell_type": "code",
   "execution_count": null,
   "id": "fbdb5ee0-ea9b-4abb-a4b2-a9653844c15c",
   "metadata": {
    "tags": []
   },
   "outputs": [],
   "source": [
    "industry_groups_df.info()"
   ]
  },
  {
   "cell_type": "code",
   "execution_count": null,
   "id": "74600ca6-4dbb-4367-8b7b-33e06e6dce74",
   "metadata": {
    "tags": []
   },
   "outputs": [],
   "source": [
    "fundamental_df_clean.info()"
   ]
  },
  {
   "cell_type": "code",
   "execution_count": 3,
   "id": "b52e06b7-4022-49f0-b2c1-1c27af362e70",
   "metadata": {
    "tags": []
   },
   "outputs": [],
   "source": [
    "#convert datatype to date\n",
    "top_ten_historic_df['Date'] = pd.to_datetime(top_ten_historic_df['Date'])\n"
   ]
  },
  {
   "cell_type": "code",
   "execution_count": null,
   "id": "c17d3c75-3871-494d-bc6e-4a45e188c968",
   "metadata": {
    "tags": []
   },
   "outputs": [],
   "source": [
    "top_ten_historic_df.info()"
   ]
  },
  {
   "cell_type": "code",
   "execution_count": null,
   "id": "73ca729a-b3b3-4ac7-901c-276a492de4f7",
   "metadata": {
    "tags": []
   },
   "outputs": [],
   "source": [
    "#top_ten_historic_df['Date'] = pd.to_datetime(top_ten_historic_df['Date']).apply(lambda x: x.date())"
   ]
  },
  {
   "cell_type": "code",
   "execution_count": null,
   "id": "8988a7db-2a4a-41e5-8597-fd848b75c2db",
   "metadata": {
    "tags": []
   },
   "outputs": [],
   "source": [
    "#print(top_ten_historic_df['Date'].unique())"
   ]
  },
  {
   "cell_type": "code",
   "execution_count": null,
   "id": "095b7048-3d83-4822-b61a-d3a384a1c5b2",
   "metadata": {
    "tags": []
   },
   "outputs": [],
   "source": [
    "industry_groups_df.info()"
   ]
  },
  {
   "cell_type": "code",
   "execution_count": 4,
   "id": "beac57a7-6de3-417c-ba58-20a8104a8382",
   "metadata": {
    "tags": []
   },
   "outputs": [],
   "source": [
    "# Define Database Schema\n",
    "Base = declarative_base()\n",
    "\n",
    "class IndustryGroups(Base):\n",
    "    __tablename__ = 'industry_groups'\n",
    "    \n",
    "    industry_name = Column(String)\n",
    "    industry_id = Column(Integer, primary_key=True)\n",
    "    \n",
    "\n",
    "class TopTen(Base):\n",
    "    __tablename__ = 'top_ten'\n",
    "    \n",
    "    ticker = Column(String, primary_key=True)\n",
    "    company_name = Column(String)\n",
    "    market_cap = Column(Float)\n",
    "    industry_id = Column(Integer, ForeignKey('industry_groups.industry_id'))\n",
    "\n",
    "class TopTenHistoric(Base):\n",
    "    __tablename__ = 'top_ten_historic'\n",
    "    \n",
    "    id = Column (Integer, primary_key=True, autoincrement=True)\n",
    "    Ticker = Column(String, ForeignKey('top_ten.ticker'))\n",
    "    Date = Column(Date)\n",
    "    Open = Column(Float)\n",
    "    High = Column(Float)\n",
    "    Low = Column(Float)\n",
    "    Close = Column(Float)\n",
    "    Adj_Close = Column('Adj Close', Float)\n",
    "    Volume = Column(Integer)\n",
    "    \n",
    "class Fundamental(Base):\n",
    "    __tablename__ = 'fundamental'\n",
    "    \n",
    "    id = Column (Integer, primary_key=True, autoincrement=True)\n",
    "    Ticker = Column(String,ForeignKey('top_ten.ticker'))\n",
    "    lastPrice = Column(Float)         \n",
    "    Change = Column(String)       \n",
    "    Bid_Ask = Column(String)           \n",
    "    volumePerDay = Column(Float)         \n",
    "    volume4wAvg = Column(Float)          \n",
    "    Open = Column(Float)              \n",
    "    dayRange = Column(String)              \n",
    "    prevClose = Column(String)        \n",
    "    lastTrade = Column(String)            \n",
    "    oneWeek = Column(String)             \n",
    "    oneMonth = Column(String)           \n",
    "    YTD2023 = Column(String)            \n",
    "    oneYear = Column(String)            \n",
    "    vsSectorOneYr = Column(String)         \n",
    "    vsASX200OneYr = Column(String)         \n",
    "    marketCap = Column(Float)          \n",
    "    ASXRank = Column(String)            \n",
    "    sectorRank = Column(String)         \n",
    "    sharesIssued = Column(Float)       \n",
    "    Sector = Column(String)               \n",
    "    similarCompanies = Column(String)     \n",
    "    EPS = Column(Float)                 \n",
    "    DPS = Column(Float)                \n",
    "    bookValuePerShare = Column(Float)    \n",
    "    Breakdown = Column(String)          \n",
    "    Recommendation = Column(String)       \n",
    "    lastUpdated = Column(String)                     \n",
    "    PE= Column(Float) \n",
    "        \n",
    "#Connect to the Database and Create Tables\n",
    "# Replace 'sqlite:///asx.db' with your actual database connection string\n",
    "engine = create_engine('sqlite:///Resources/top_ten_asx.db')\n",
    "Base.metadata.create_all(engine)\n",
    "\n"
   ]
  },
  {
   "cell_type": "code",
   "execution_count": null,
   "id": "05d1c6d9-b6c4-43fe-80f1-4195be16ab0d",
   "metadata": {
    "tags": []
   },
   "outputs": [],
   "source": [
    "#engine = create_engine('sqlite:///Resources/top_ten_asx.db')"
   ]
  },
  {
   "cell_type": "code",
   "execution_count": 5,
   "id": "0a0716d9-cb2b-4bae-969c-3e3bd1014314",
   "metadata": {
    "tags": []
   },
   "outputs": [],
   "source": [
    "from sqlalchemy.orm import sessionmaker\n",
    "\n",
    "#Insert DataFrames into Database\n",
    "Session = sessionmaker(bind=engine)\n",
    "\n",
    "\n",
    "session = Session()\n",
    "\n",
    "# Insert IndustryGroups\n",
    "session.bulk_insert_mappings(IndustryGroups, industry_groups_df.to_dict(orient=\"records\"))\n",
    "\n",
    "# Insert TopTen\n",
    "session.bulk_insert_mappings(TopTen, top_ten_df.to_dict(orient=\"records\"))\n",
    "\n",
    "# Insert TopTenHistoric\n",
    "session.bulk_insert_mappings(TopTenHistoric, top_ten_historic_df.to_dict(orient=\"records\"))\n",
    "\n",
    "# Insert ASX_Fundamental\n",
    "session.bulk_insert_mappings(Fundamental, fundamental_df_clean.to_dict(orient=\"records\"))\n",
    "\n",
    "\n",
    "session.commit()\n",
    "\n",
    "\n"
   ]
  },
  {
   "cell_type": "code",
   "execution_count": null,
   "id": "ac595c54-fb53-4500-8d75-288bbdba1612",
   "metadata": {},
   "outputs": [],
   "source": [
    "# #Query the Database and Create DataFrame\n",
    "# # Example: Querying the TopTen table and creating a DataFrame\n",
    "# top_ten_query = session.query(TopTen).all()\n",
    "# asx = pd.DataFrame([{\n",
    "#     'ticker': record.ticker,\n",
    "#     'company_name': record.company_name,\n",
    "#     'market_cap': record.market_cap,\n",
    "#     'industry_id': record.industry_id\n",
    "# } for record in top_ten_query])\n",
    "\n",
    "# print(asx)\n"
   ]
  },
  {
   "cell_type": "code",
   "execution_count": 6,
   "id": "95fce3c2-9612-4227-81c7-680440277d4f",
   "metadata": {
    "tags": []
   },
   "outputs": [],
   "source": [
    "#import dependencies for inspector\n",
    "from sqlalchemy import inspect"
   ]
  },
  {
   "cell_type": "code",
   "execution_count": 7,
   "id": "44823547-3362-4698-9a85-80a4092b83da",
   "metadata": {
    "tags": []
   },
   "outputs": [],
   "source": [
    "# Instantiate an Inspector with the engine\n",
    "inspector = inspect(engine)"
   ]
  },
  {
   "cell_type": "code",
   "execution_count": 8,
   "id": "6201fbd9-7ade-46fe-ab01-87add0ef01e8",
   "metadata": {
    "tags": []
   },
   "outputs": [
    {
     "name": "stdout",
     "output_type": "stream",
     "text": [
      "['fundamental', 'industry_groups', 'top_ten', 'top_ten_historic']\n"
     ]
    }
   ],
   "source": [
    "# Get a list of table names\n",
    "table_names = inspector.get_table_names()\n",
    "print(table_names)"
   ]
  },
  {
   "cell_type": "code",
   "execution_count": 9,
   "id": "faf3b27b-cba3-4696-87fa-9cdcf7c3112a",
   "metadata": {
    "tags": []
   },
   "outputs": [
    {
     "name": "stdout",
     "output_type": "stream",
     "text": [
      "ticker\n",
      "company_name\n",
      "market_cap\n",
      "industry_id\n"
     ]
    }
   ],
   "source": [
    "#Get columns of top_ten_historic\n",
    "columns = inspector.get_columns('top_ten')\n",
    "for column in columns:\n",
    "    print(column['name'])"
   ]
  },
  {
   "cell_type": "code",
   "execution_count": 10,
   "id": "dd5c6f98-7651-45d9-b347-c4acb465312a",
   "metadata": {
    "tags": []
   },
   "outputs": [
    {
     "data": {
      "text/plain": [
       "['fundamental', 'top_ten', 'industry_groups', 'top_ten_historic']"
      ]
     },
     "execution_count": 10,
     "metadata": {},
     "output_type": "execute_result"
    }
   ],
   "source": [
    "#reflect database into ORM classes \n",
    "Base = automap_base()\n",
    "Base.prepare(autoload_with=engine)\n",
    "Base.classes.keys()"
   ]
  },
  {
   "cell_type": "code",
   "execution_count": 11,
   "id": "be152779-09ed-4284-a347-ca027fb2f732",
   "metadata": {
    "tags": []
   },
   "outputs": [],
   "source": [
    "#save a reference to the top_ten table as 'top_ten'\n",
    "top_ten = Base.classes.top_ten"
   ]
  },
  {
   "cell_type": "code",
   "execution_count": 12,
   "id": "208bbfda-cacd-4545-86aa-42ea8c47b4fb",
   "metadata": {
    "tags": []
   },
   "outputs": [],
   "source": [
    "#create a database session object\n",
    "session = Session(bind =engine)"
   ]
  },
  {
   "cell_type": "code",
   "execution_count": 13,
   "id": "7aa9d19f-4047-440a-a988-9724089182d5",
   "metadata": {
    "tags": []
   },
   "outputs": [
    {
     "data": {
      "text/plain": [
       "[('360',),\n",
       " ('4DS',),\n",
       " ('A2M',),\n",
       " ('AAC',),\n",
       " ('ABB',),\n",
       " ('ABV',),\n",
       " ('AD8',),\n",
       " ('AFI',),\n",
       " ('AFP',),\n",
       " ('AGL',),\n",
       " ('AHL',),\n",
       " ('AIA',),\n",
       " ('AIZ',),\n",
       " ('AKP',),\n",
       " ('ALD',),\n",
       " ('ALL',),\n",
       " ('ALQ',),\n",
       " ('ALU',),\n",
       " ('ALX',),\n",
       " ('AMC',),\n",
       " ('AMP',),\n",
       " ('ANN',),\n",
       " ('ANZ',),\n",
       " ('APA',),\n",
       " ('APE',),\n",
       " ('APM',),\n",
       " ('ARB',),\n",
       " ('ARG',),\n",
       " ('ASX',),\n",
       " ('AUB',),\n",
       " ('AUI',),\n",
       " ('AVH',),\n",
       " ('AVJ',),\n",
       " ('AX1',),\n",
       " ('AXE',),\n",
       " ('AZJ',),\n",
       " ('BAP',),\n",
       " ('BEN',),\n",
       " ('BFL',),\n",
       " ('BGA',),\n",
       " ('BGP',),\n",
       " ('BHP',),\n",
       " ('BIO',),\n",
       " ('BKI',),\n",
       " ('BLG',),\n",
       " ('BOQ',),\n",
       " ('BPT',),\n",
       " ('BRG',),\n",
       " ('BXB',),\n",
       " ('BXN',),\n",
       " ('CAR',),\n",
       " ('CBA',),\n",
       " ('CBO',),\n",
       " ('CCO',),\n",
       " ('CDA',),\n",
       " ('CEN',),\n",
       " ('CGC',),\n",
       " ('CGF',),\n",
       " ('CHC',),\n",
       " ('CNU',),\n",
       " ('COH',),\n",
       " ('COL',),\n",
       " ('CPU',),\n",
       " ('CSL',),\n",
       " ('CTD',),\n",
       " ('CUV',),\n",
       " ('CVW',),\n",
       " ('CWP',),\n",
       " ('CWY',),\n",
       " ('D2O',),\n",
       " ('DBI',),\n",
       " ('DDR',),\n",
       " ('DDT',),\n",
       " ('DHG',),\n",
       " ('DMP',),\n",
       " ('DOW',),\n",
       " ('DTL',),\n",
       " ('DTZ',),\n",
       " ('DXS',),\n",
       " ('DY6',),\n",
       " ('EBO',),\n",
       " ('EDV',),\n",
       " ('ELD',),\n",
       " ('ERD',),\n",
       " ('EVT',),\n",
       " ('EXL',),\n",
       " ('FBU',),\n",
       " ('FLT',),\n",
       " ('FMG',),\n",
       " ('FPH',),\n",
       " ('FRI',),\n",
       " ('FRW',),\n",
       " ('FSG',),\n",
       " ('FWD',),\n",
       " ('GAP',),\n",
       " ('GDG',),\n",
       " ('GLB',),\n",
       " ('GMG',),\n",
       " ('GNC',),\n",
       " ('GNE',),\n",
       " ('GNX',),\n",
       " ('GPT',),\n",
       " ('GQG',),\n",
       " ('GUD',),\n",
       " ('HCT',),\n",
       " ('HGH',),\n",
       " ('HPC',),\n",
       " ('HRE',),\n",
       " ('HTA',),\n",
       " ('HUB',),\n",
       " ('HVN',),\n",
       " ('IAG',),\n",
       " ('IEL',),\n",
       " ('IFT',),\n",
       " ('IKE',),\n",
       " ('IMM',),\n",
       " ('IMU',),\n",
       " ('ING',),\n",
       " ('IPH',),\n",
       " ('IVC',),\n",
       " ('JBH',),\n",
       " ('JDO',),\n",
       " ('JHG',),\n",
       " ('JHX',),\n",
       " ('JLG',),\n",
       " ('KLI',),\n",
       " ('KLS',),\n",
       " ('LGI',),\n",
       " ('LIC',),\n",
       " ('LLC',),\n",
       " ('LNW',),\n",
       " ('LOV',),\n",
       " ('LSF',),\n",
       " ('MAD',),\n",
       " ('MAQ',),\n",
       " ('MCP',),\n",
       " ('MCY',),\n",
       " ('MEZ',),\n",
       " ('MFF',),\n",
       " ('MGF',),\n",
       " ('MGR',),\n",
       " ('MIN',),\n",
       " ('MMM',),\n",
       " ('MMS',),\n",
       " ('MND',),\n",
       " ('MP1',),\n",
       " ('MPL',),\n",
       " ('MQG',),\n",
       " ('MSB',),\n",
       " ('MTS',),\n",
       " ('MXT',),\n",
       " ('MYX',),\n",
       " ('NAB',),\n",
       " ('NAN',),\n",
       " ('NEC',),\n",
       " ('NEM',),\n",
       " ('NEU',),\n",
       " ('NHC',),\n",
       " ('NHF',),\n",
       " ('NSR',),\n",
       " ('NST',),\n",
       " ('NVX',),\n",
       " ('NWL',),\n",
       " ('NWS',),\n",
       " ('NWSLV',),\n",
       " ('NXG',),\n",
       " ('NXT',),\n",
       " ('OML',),\n",
       " ('ORG',),\n",
       " ('OXT',),\n",
       " ('PDN',),\n",
       " ('PLS',),\n",
       " ('PME',),\n",
       " ('PMV',),\n",
       " ('PPC',),\n",
       " ('PSI',),\n",
       " ('PTL',),\n",
       " ('PVS',),\n",
       " ('PWH',),\n",
       " ('PXA',),\n",
       " ('QAL',),\n",
       " ('QAN',),\n",
       " ('QBE',),\n",
       " ('QUB',),\n",
       " ('RDX',),\n",
       " ('REA',),\n",
       " ('REH',),\n",
       " ('RHC',),\n",
       " ('RIC',),\n",
       " ('RIO',),\n",
       " ('RMD',),\n",
       " ('RPM',),\n",
       " ('RVS',),\n",
       " ('RWC',),\n",
       " ('RWL',),\n",
       " ('S32',),\n",
       " ('S3N',),\n",
       " ('S66',),\n",
       " ('SCG',),\n",
       " ('SDF',),\n",
       " ('SDR',),\n",
       " ('SEK',),\n",
       " ('SFC',),\n",
       " ('SGP',),\n",
       " ('SHL',),\n",
       " ('SHM',),\n",
       " ('SHV',),\n",
       " ('SIO',),\n",
       " ('SIQ',),\n",
       " ('SIX',),\n",
       " ('SKN',),\n",
       " ('SLB',),\n",
       " ('SLC',),\n",
       " ('SMN',),\n",
       " ('SNZ',),\n",
       " ('SOL',),\n",
       " ('SPK',),\n",
       " ('SPZ',),\n",
       " ('SQ2',),\n",
       " ('SRV',),\n",
       " ('STO',),\n",
       " ('SUL',),\n",
       " ('SUN',),\n",
       " ('SVW',),\n",
       " ('SWM',),\n",
       " ('SWP',),\n",
       " ('TAH',),\n",
       " ('TCL',),\n",
       " ('TLC',),\n",
       " ('TLS',),\n",
       " ('TLX',),\n",
       " ('TNE',),\n",
       " ('TPG',),\n",
       " ('TRE',),\n",
       " ('TUA',),\n",
       " ('TWD',),\n",
       " ('TWE',),\n",
       " ('UOS',),\n",
       " ('URW',),\n",
       " ('VCX',),\n",
       " ('VEA',),\n",
       " ('VMT',),\n",
       " ('VNT',),\n",
       " ('VUK',),\n",
       " ('WAM',),\n",
       " ('WAT',),\n",
       " ('WBC',),\n",
       " ('WBT',),\n",
       " ('WDS',),\n",
       " ('WEB',),\n",
       " ('WES',),\n",
       " ('WHC',),\n",
       " ('WLE',),\n",
       " ('WOR',),\n",
       " ('WOW',),\n",
       " ('WTC',),\n",
       " ('WTN',),\n",
       " ('XRO',),\n",
       " ('YAL',)]"
      ]
     },
     "execution_count": 13,
     "metadata": {},
     "output_type": "execute_result"
    }
   ],
   "source": [
    "#list all of the tickers found in the top_ten table \n",
    "session.query(top_ten.ticker).all()"
   ]
  },
  {
   "cell_type": "code",
   "execution_count": null,
   "id": "636c4a8e-f830-4def-a866-379026839be8",
   "metadata": {},
   "outputs": [],
   "source": [
    "from sqlalchemy import text\n",
    "\n",
    "# Conectarse a la base de datos\n",
    "engine = create_engine('sqlite:///Resources/top_ten_asx.db')\n",
    "\n",
    "# Consulta para seleccionar algunos registros de la tabla IndustryGroups\n",
    "query = text(\"SELECT * FROM industry_groups LIMIT 5\")\n",
    "results = engine.execute(query)\n",
    "print(\"\\nRegistros en la tabla IndustryGroups:\")\n",
    "for row in results:\n",
    "    print(row)"
   ]
  },
  {
   "cell_type": "code",
   "execution_count": null,
   "id": "cd29cec8-9d7f-4cb3-8fbf-4bb0e8199457",
   "metadata": {},
   "outputs": [],
   "source": []
  }
 ],
 "metadata": {
  "kernelspec": {
   "display_name": "Python 3 (ipykernel)",
   "language": "python",
   "name": "python3"
  },
  "language_info": {
   "codemirror_mode": {
    "name": "ipython",
    "version": 3
   },
   "file_extension": ".py",
   "mimetype": "text/x-python",
   "name": "python",
   "nbconvert_exporter": "python",
   "pygments_lexer": "ipython3",
   "version": "3.11.3"
  }
 },
 "nbformat": 4,
 "nbformat_minor": 5
}
