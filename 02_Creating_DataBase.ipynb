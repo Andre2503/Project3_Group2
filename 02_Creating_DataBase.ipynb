{
 "cells": [
  {
   "cell_type": "code",
   "execution_count": 15,
   "id": "157e4918-d46f-48fe-aa38-9eeaec1556aa",
   "metadata": {},
   "outputs": [],
   "source": [
    "#import dependencies\n",
    "from sqlalchemy import create_engine, Column, Integer, String, Float, ForeignKey, Date\n",
    "from sqlalchemy.ext.declarative import declarative_base\n",
    "from sqlalchemy.orm import sessionmaker\n",
    "import pandas as pd\n",
    "from sqlalchemy.ext.automap import automap_base\n",
    "from sqlalchemy import func\n"
   ]
  },
  {
   "cell_type": "code",
   "execution_count": 4,
   "id": "f9982bbd-6ad9-4a87-b604-cd84b1fc3ed1",
   "metadata": {},
   "outputs": [
    {
     "data": {
      "text/html": [
       "<div>\n",
       "<style scoped>\n",
       "    .dataframe tbody tr th:only-of-type {\n",
       "        vertical-align: middle;\n",
       "    }\n",
       "\n",
       "    .dataframe tbody tr th {\n",
       "        vertical-align: top;\n",
       "    }\n",
       "\n",
       "    .dataframe thead th {\n",
       "        text-align: right;\n",
       "    }\n",
       "</style>\n",
       "<table border=\"1\" class=\"dataframe\">\n",
       "  <thead>\n",
       "    <tr style=\"text-align: right;\">\n",
       "      <th></th>\n",
       "      <th>Ticker</th>\n",
       "      <th>lastPrice</th>\n",
       "      <th>Change</th>\n",
       "      <th>Bid_Ask</th>\n",
       "      <th>volumePerDay</th>\n",
       "      <th>volume4wAvg</th>\n",
       "      <th>Open</th>\n",
       "      <th>dayRange</th>\n",
       "      <th>prevClose</th>\n",
       "      <th>lastTrade</th>\n",
       "      <th>...</th>\n",
       "      <th>sharesIssued</th>\n",
       "      <th>Sector</th>\n",
       "      <th>similarCompanies</th>\n",
       "      <th>EPS</th>\n",
       "      <th>DPS</th>\n",
       "      <th>bookValuePerShare</th>\n",
       "      <th>Breakdown</th>\n",
       "      <th>Recommendation</th>\n",
       "      <th>lastUpdated</th>\n",
       "      <th>PE</th>\n",
       "    </tr>\n",
       "  </thead>\n",
       "  <tbody>\n",
       "    <tr>\n",
       "      <th>0</th>\n",
       "      <td>ARB</td>\n",
       "      <td>31.26</td>\n",
       "      <td>1.02 (3.37%)</td>\n",
       "      <td>$29.88 - $31.35</td>\n",
       "      <td>160245.0</td>\n",
       "      <td>245483.0</td>\n",
       "      <td>31.07</td>\n",
       "      <td>$30.56 - $31.45</td>\n",
       "      <td>$30.24</td>\n",
       "      <td>6:58pm 03/11 (AEDT)</td>\n",
       "      <td>...</td>\n",
       "      <td>82220441.0</td>\n",
       "      <td>Consumer Cyclical</td>\n",
       "      <td>CTD / WEB / SUL</td>\n",
       "      <td>1.079</td>\n",
       "      <td>0.6200</td>\n",
       "      <td>0.600</td>\n",
       "      <td>6 Buy · 5 Hold · 2 Sell</td>\n",
       "      <td>Hold</td>\n",
       "      <td>01/10/23</td>\n",
       "      <td>28.971270</td>\n",
       "    </tr>\n",
       "    <tr>\n",
       "      <th>1</th>\n",
       "      <td>GUD</td>\n",
       "      <td>11.08</td>\n",
       "      <td>0.17 (1.56%)</td>\n",
       "      <td>$10.77 - $11.35</td>\n",
       "      <td>366353.0</td>\n",
       "      <td>441797.0</td>\n",
       "      <td>10.95</td>\n",
       "      <td>$10.725 - $11.10</td>\n",
       "      <td>$10.91</td>\n",
       "      <td>6:58pm 03/11 (AEDT)</td>\n",
       "      <td>...</td>\n",
       "      <td>140894696.0</td>\n",
       "      <td>Consumer Cyclical</td>\n",
       "      <td>SGR / LNW / SKC</td>\n",
       "      <td>0.693</td>\n",
       "      <td>0.3900</td>\n",
       "      <td>0.526</td>\n",
       "      <td>11 Buy · 2 Hold · 0 Sell</td>\n",
       "      <td>Strong Buy</td>\n",
       "      <td>01/10/23</td>\n",
       "      <td>15.988456</td>\n",
       "    </tr>\n",
       "    <tr>\n",
       "      <th>2</th>\n",
       "      <td>PWH</td>\n",
       "      <td>10.12</td>\n",
       "      <td>0.07 (0.70%)</td>\n",
       "      <td>$9.96 - $10.92</td>\n",
       "      <td>37398.0</td>\n",
       "      <td>127350.0</td>\n",
       "      <td>10.16</td>\n",
       "      <td>$10.06 - $10.22</td>\n",
       "      <td>$10.05</td>\n",
       "      <td>6:58pm 03/11 (AEDT)</td>\n",
       "      <td>...</td>\n",
       "      <td>100484131.0</td>\n",
       "      <td>Consumer Cyclical</td>\n",
       "      <td>BGP / CTT / AX1</td>\n",
       "      <td>0.217</td>\n",
       "      <td>0.1250</td>\n",
       "      <td>0.722</td>\n",
       "      <td>7 Buy · 4 Hold · 1 Sell</td>\n",
       "      <td>Buy</td>\n",
       "      <td>01/10/23</td>\n",
       "      <td>46.635945</td>\n",
       "    </tr>\n",
       "    <tr>\n",
       "      <th>3</th>\n",
       "      <td>SFC</td>\n",
       "      <td>16.10</td>\n",
       "      <td>0.65 (-3.88%)</td>\n",
       "      <td>$16.15 - $17.10</td>\n",
       "      <td>5570.0</td>\n",
       "      <td>758.0</td>\n",
       "      <td>16.75</td>\n",
       "      <td>$16.01 - $16.75</td>\n",
       "      <td>$16.75</td>\n",
       "      <td>6:58pm 03/11 (AEDT)</td>\n",
       "      <td>...</td>\n",
       "      <td>13569557.0</td>\n",
       "      <td>Consumer Cyclical</td>\n",
       "      <td>NDO / ALG / BST</td>\n",
       "      <td>1.811</td>\n",
       "      <td>0.9000</td>\n",
       "      <td>3.324</td>\n",
       "      <td>NaN</td>\n",
       "      <td>NaN</td>\n",
       "      <td>NaN</td>\n",
       "      <td>8.890116</td>\n",
       "    </tr>\n",
       "    <tr>\n",
       "      <th>4</th>\n",
       "      <td>AHL</td>\n",
       "      <td>0.89</td>\n",
       "      <td>0.00 (0.00)</td>\n",
       "      <td>$0.845 - $0.90</td>\n",
       "      <td>0.0</td>\n",
       "      <td>11146.0</td>\n",
       "      <td>NaN</td>\n",
       "      <td>‐ - ‐</td>\n",
       "      <td>$0.89</td>\n",
       "      <td>6:58pm 03/11 (AEDT)</td>\n",
       "      <td>...</td>\n",
       "      <td>81285172.0</td>\n",
       "      <td>Consumer Cyclical</td>\n",
       "      <td>ISU / KED / CCX</td>\n",
       "      <td>0.084</td>\n",
       "      <td>0.0233</td>\n",
       "      <td>0.986</td>\n",
       "      <td>NaN</td>\n",
       "      <td>NaN</td>\n",
       "      <td>NaN</td>\n",
       "      <td>10.595238</td>\n",
       "    </tr>\n",
       "  </tbody>\n",
       "</table>\n",
       "<p>5 rows × 29 columns</p>\n",
       "</div>"
      ],
      "text/plain": [
       "  Ticker  lastPrice         Change          Bid_Ask  volumePerDay  \\\n",
       "0    ARB      31.26   1.02 (3.37%)  $29.88 - $31.35      160245.0   \n",
       "1    GUD      11.08   0.17 (1.56%)  $10.77 - $11.35      366353.0   \n",
       "2    PWH      10.12   0.07 (0.70%)   $9.96 - $10.92       37398.0   \n",
       "3    SFC      16.10  0.65 (-3.88%)  $16.15 - $17.10        5570.0   \n",
       "4    AHL       0.89    0.00 (0.00)   $0.845 - $0.90           0.0   \n",
       "\n",
       "   volume4wAvg   Open          dayRange prevClose            lastTrade  ...  \\\n",
       "0     245483.0  31.07   $30.56 - $31.45    $30.24  6:58pm 03/11 (AEDT)  ...   \n",
       "1     441797.0  10.95  $10.725 - $11.10    $10.91  6:58pm 03/11 (AEDT)  ...   \n",
       "2     127350.0  10.16   $10.06 - $10.22    $10.05  6:58pm 03/11 (AEDT)  ...   \n",
       "3        758.0  16.75   $16.01 - $16.75    $16.75  6:58pm 03/11 (AEDT)  ...   \n",
       "4      11146.0    NaN             ‐ - ‐     $0.89  6:58pm 03/11 (AEDT)  ...   \n",
       "\n",
       "  sharesIssued             Sector similarCompanies    EPS     DPS  \\\n",
       "0   82220441.0  Consumer Cyclical  CTD / WEB / SUL  1.079  0.6200   \n",
       "1  140894696.0  Consumer Cyclical  SGR / LNW / SKC  0.693  0.3900   \n",
       "2  100484131.0  Consumer Cyclical  BGP / CTT / AX1  0.217  0.1250   \n",
       "3   13569557.0  Consumer Cyclical  NDO / ALG / BST  1.811  0.9000   \n",
       "4   81285172.0  Consumer Cyclical  ISU / KED / CCX  0.084  0.0233   \n",
       "\n",
       "  bookValuePerShare                 Breakdown Recommendation lastUpdated  \\\n",
       "0             0.600   6 Buy · 5 Hold · 2 Sell           Hold    01/10/23   \n",
       "1             0.526  11 Buy · 2 Hold · 0 Sell     Strong Buy    01/10/23   \n",
       "2             0.722   7 Buy · 4 Hold · 1 Sell            Buy    01/10/23   \n",
       "3             3.324                       NaN            NaN         NaN   \n",
       "4             0.986                       NaN            NaN         NaN   \n",
       "\n",
       "          PE  \n",
       "0  28.971270  \n",
       "1  15.988456  \n",
       "2  46.635945  \n",
       "3   8.890116  \n",
       "4  10.595238  \n",
       "\n",
       "[5 rows x 29 columns]"
      ]
     },
     "execution_count": 4,
     "metadata": {},
     "output_type": "execute_result"
    }
   ],
   "source": [
    "# Step 1: Read CSV Files into DataFrames\n",
    "industry_groups_df = pd.read_csv('Resources/Industry_Groups.csv')\n",
    "top_ten_df = pd.read_csv('Resources/top_ten_with_industryID.csv')\n",
    "top_ten_historic_df = pd.read_csv('Resources/top_ten_historic_5y.csv')\n",
    "fundamentals_df = pd.read_csv('Resources/02_ASX_Fundamental_Final_Clean.csv')\n",
    "fundamentals_df.head()"
   ]
  },
  {
   "cell_type": "code",
   "execution_count": null,
   "id": "851dfd25-d1b0-40a8-8829-76f823f8a644",
   "metadata": {},
   "outputs": [],
   "source": [
    "# #trying to see if i had any null values in 'Date' column of top_ten_historic_df\n",
    "# print(top_ten_historic_df['Ticker'].isnull().sum())"
   ]
  },
  {
   "cell_type": "code",
   "execution_count": 6,
   "id": "74600ca6-4dbb-4367-8b7b-33e06e6dce74",
   "metadata": {},
   "outputs": [
    {
     "name": "stdout",
     "output_type": "stream",
     "text": [
      "<class 'pandas.core.frame.DataFrame'>\n",
      "RangeIndex: 259 entries, 0 to 258\n",
      "Data columns (total 4 columns):\n",
      " #   Column        Non-Null Count  Dtype  \n",
      "---  ------        --------------  -----  \n",
      " 0   ticker        259 non-null    object \n",
      " 1   company_name  259 non-null    object \n",
      " 2   market_cap    259 non-null    float64\n",
      " 3   industry_id   259 non-null    int64  \n",
      "dtypes: float64(1), int64(1), object(2)\n",
      "memory usage: 8.2+ KB\n"
     ]
    }
   ],
   "source": [
    "top_ten_df.info()"
   ]
  },
  {
   "cell_type": "code",
   "execution_count": 7,
   "id": "b52e06b7-4022-49f0-b2c1-1c27af362e70",
   "metadata": {},
   "outputs": [],
   "source": [
    "#convert datatype to date\n",
    "top_ten_historic_df['Date'] = pd.to_datetime(top_ten_historic_df['Date'])\n"
   ]
  },
  {
   "cell_type": "code",
   "execution_count": 8,
   "id": "c17d3c75-3871-494d-bc6e-4a45e188c968",
   "metadata": {},
   "outputs": [
    {
     "name": "stdout",
     "output_type": "stream",
     "text": [
      "<class 'pandas.core.frame.DataFrame'>\n",
      "RangeIndex: 60881 entries, 0 to 60880\n",
      "Data columns (total 8 columns):\n",
      " #   Column     Non-Null Count  Dtype         \n",
      "---  ------     --------------  -----         \n",
      " 0   Ticker     60881 non-null  object        \n",
      " 1   Date       60881 non-null  datetime64[ns]\n",
      " 2   Open       60881 non-null  float64       \n",
      " 3   High       60881 non-null  float64       \n",
      " 4   Low        60881 non-null  float64       \n",
      " 5   Close      60881 non-null  float64       \n",
      " 6   Adj Close  60881 non-null  float64       \n",
      " 7   Volume     60881 non-null  int64         \n",
      "dtypes: datetime64[ns](1), float64(5), int64(1), object(1)\n",
      "memory usage: 3.7+ MB\n"
     ]
    }
   ],
   "source": [
    "top_ten_historic_df.info()"
   ]
  },
  {
   "cell_type": "code",
   "execution_count": 9,
   "id": "095b7048-3d83-4822-b61a-d3a384a1c5b2",
   "metadata": {},
   "outputs": [
    {
     "name": "stdout",
     "output_type": "stream",
     "text": [
      "<class 'pandas.core.frame.DataFrame'>\n",
      "RangeIndex: 27 entries, 0 to 26\n",
      "Data columns (total 2 columns):\n",
      " #   Column         Non-Null Count  Dtype \n",
      "---  ------         --------------  ----- \n",
      " 0   industry_name  27 non-null     object\n",
      " 1   industry_id    27 non-null     int64 \n",
      "dtypes: int64(1), object(1)\n",
      "memory usage: 560.0+ bytes\n"
     ]
    }
   ],
   "source": [
    "industry_groups_df.info()"
   ]
  },
  {
   "cell_type": "code",
   "execution_count": 17,
   "id": "beac57a7-6de3-417c-ba58-20a8104a8382",
   "metadata": {},
   "outputs": [],
   "source": [
    "# Define Database Schema\n",
    "Base = declarative_base()\n",
    "\n",
    "class IndustryGroups(Base):\n",
    "    __tablename__ = 'industry_groups'\n",
    "    \n",
    "    industry_name = Column(String)\n",
    "    industry_id = Column(Integer, primary_key=True)\n",
    "    \n",
    "\n",
    "class TopTen(Base):\n",
    "    __tablename__ = 'top_ten'\n",
    "    \n",
    "    ticker = Column(String, primary_key=True)\n",
    "    company_name = Column(String)\n",
    "    market_cap = Column(Float)\n",
    "    industry_id = Column(Integer, ForeignKey('industry_groups.industry_id'))\n",
    "\n",
    "class TopTenHistoric(Base):\n",
    "    __tablename__ = 'top_ten_historic'\n",
    "    \n",
    "    id = Column (Integer, primary_key=True, autoincrement=True)\n",
    "    Ticker = Column(String, ForeignKey('top_ten.ticker'))\n",
    "    Date = Column(Date)\n",
    "    Open = Column(Float)\n",
    "    High = Column(Float)\n",
    "    Low = Column(Float)\n",
    "    Close = Column(Float)\n",
    "    Adj_Close = Column('Adj Close', Float)\n",
    "    Volume = Column(Integer)\n",
    "\n",
    "class Fundamentals(Base):\n",
    "    __tablename__ = 'fundamentals'\n",
    "    \n",
    "    fundamental_ID = Column(Integer, primary_key=True)\n",
    "    Ticker = Column(String, ForeignKey('top_ten.ticker'))\n",
    "    lastPrice = Column(Float)\n",
    "    Change = Column(String) \n",
    "    Bid_Ask = Column(String) \n",
    "    volumePerDay = Column(Float)\n",
    "    volume4wAvg= Column(Float)\n",
    "    Open = Column(Float)\n",
    "    dayRange = Column(String)\n",
    "    prevClose = Column(String) \n",
    "    lastTrade = Column(String)\n",
    "    oneWeek = Column(String)\n",
    "    oneMonth = Column(String)\n",
    "    YTD2023 = Column(String)\n",
    "    oneYear = Column(String)\n",
    "    vsSectorOneYr = Column(String)\n",
    "    vsASX200OneYr = Column(String)\n",
    "    marketCap = Column(Float)\n",
    "    ASXRank = Column(String)\n",
    "    sectorRank = Column(String)\n",
    "    sharesIssued = Column(Float)\n",
    "    Sector = Column(String)\n",
    "    similarCompanies = Column(String)\n",
    "    EPS = Column(Float)\n",
    "    DPS = Column(Float)\n",
    "    bookValuePerShare = Column(Float)\n",
    "    Breakdown = Column(String)\n",
    "    Recommendation = Column(String)\n",
    "    lastUpdated = Column(String)\n",
    "    PE = Column(Float)\n",
    "\n"
   ]
  },
  {
   "cell_type": "code",
   "execution_count": 18,
   "id": "cca7f51b-07e1-4d05-904b-4c9f9adbcfae",
   "metadata": {},
   "outputs": [],
   "source": [
    "#Connect to the Database and Create Tables\n",
    "# Replace 'sqlite:///asx.db' with your actual database connection string\n",
    "engine = create_engine('sqlite:///Resources/top_ten_asx.db')\n",
    "Base.metadata.create_all(engine)"
   ]
  },
  {
   "cell_type": "code",
   "execution_count": 19,
   "id": "0a0716d9-cb2b-4bae-969c-3e3bd1014314",
   "metadata": {},
   "outputs": [],
   "source": [
    "#Insert DataFrames into Database\n",
    "Session = sessionmaker(bind=engine)\n",
    "session = Session()\n",
    "\n",
    "# Insert IndustryGroups\n",
    "session.bulk_insert_mappings(IndustryGroups, industry_groups_df.to_dict(orient=\"records\"))\n",
    "\n",
    "# Insert TopTen\n",
    "session.bulk_insert_mappings(TopTen, top_ten_df.to_dict(orient=\"records\"))\n",
    "\n",
    "# Insert TopTenHistoric\n",
    "session.bulk_insert_mappings(TopTenHistoric, top_ten_historic_df.to_dict(orient=\"records\"))\n",
    "\n",
    "# Insert Fundamentals\n",
    "session.bulk_insert_mappings(Fundamentals, fundamentals_df.to_dict(orient=\"records\"))\n",
    "\n"
   ]
  },
  {
   "cell_type": "code",
   "execution_count": 20,
   "id": "057a75da-b512-446a-bc6e-d5a9e53c6539",
   "metadata": {},
   "outputs": [],
   "source": [
    "#commit changes\n",
    "session.commit()"
   ]
  },
  {
   "cell_type": "code",
   "execution_count": null,
   "id": "ac595c54-fb53-4500-8d75-288bbdba1612",
   "metadata": {},
   "outputs": [],
   "source": []
  },
  {
   "cell_type": "code",
   "execution_count": 21,
   "id": "95fce3c2-9612-4227-81c7-680440277d4f",
   "metadata": {},
   "outputs": [],
   "source": [
    "#import dependencies for inspector\n",
    "from sqlalchemy import inspect"
   ]
  },
  {
   "cell_type": "code",
   "execution_count": 22,
   "id": "44823547-3362-4698-9a85-80a4092b83da",
   "metadata": {},
   "outputs": [],
   "source": [
    "# Instantiate an Inspector with the engine\n",
    "inspector = inspect(engine)"
   ]
  },
  {
   "cell_type": "code",
   "execution_count": 23,
   "id": "6201fbd9-7ade-46fe-ab01-87add0ef01e8",
   "metadata": {},
   "outputs": [
    {
     "name": "stdout",
     "output_type": "stream",
     "text": [
      "['fundamentals', 'industry_groups', 'top_ten', 'top_ten_historic']\n"
     ]
    }
   ],
   "source": [
    "# Get a list of table names\n",
    "table_names = inspector.get_table_names()\n",
    "print(table_names)"
   ]
  },
  {
   "cell_type": "code",
   "execution_count": 24,
   "id": "faf3b27b-cba3-4696-87fa-9cdcf7c3112a",
   "metadata": {},
   "outputs": [
    {
     "name": "stdout",
     "output_type": "stream",
     "text": [
      "ticker\n",
      "company_name\n",
      "market_cap\n",
      "industry_id\n"
     ]
    }
   ],
   "source": [
    "#Get columns of top_ten_historic\n",
    "columns = inspector.get_columns('top_ten')\n",
    "for column in columns:\n",
    "    print(column['name'])"
   ]
  },
  {
   "cell_type": "code",
   "execution_count": 25,
   "id": "dd5c6f98-7651-45d9-b347-c4acb465312a",
   "metadata": {},
   "outputs": [
    {
     "data": {
      "text/plain": [
       "['fundamentals', 'top_ten', 'industry_groups', 'top_ten_historic']"
      ]
     },
     "execution_count": 25,
     "metadata": {},
     "output_type": "execute_result"
    }
   ],
   "source": [
    "#reflect database into ORM classes \n",
    "Base = automap_base()\n",
    "Base.prepare(autoload_with=engine)\n",
    "Base.classes.keys()"
   ]
  },
  {
   "cell_type": "code",
   "execution_count": 26,
   "id": "be152779-09ed-4284-a347-ca027fb2f732",
   "metadata": {},
   "outputs": [],
   "source": [
    "#save a reference to the top_ten table as 'top_ten'\n",
    "top_ten = Base.classes.top_ten"
   ]
  },
  {
   "cell_type": "code",
   "execution_count": 29,
   "id": "d673f89b-ec59-453c-aa20-297b535a8638",
   "metadata": {},
   "outputs": [],
   "source": [
    "from sqlalchemy.orm import Session"
   ]
  },
  {
   "cell_type": "code",
   "execution_count": 30,
   "id": "208bbfda-cacd-4545-86aa-42ea8c47b4fb",
   "metadata": {},
   "outputs": [],
   "source": [
    "#create a database session object\n",
    "session = Session(engine)"
   ]
  },
  {
   "cell_type": "code",
   "execution_count": 32,
   "id": "7aa9d19f-4047-440a-a988-9724089182d5",
   "metadata": {},
   "outputs": [],
   "source": [
    "# #list all of the tickers found in the top_ten table \n",
    "# session.query(top_ten.ticker).all()"
   ]
  },
  {
   "cell_type": "markdown",
   "id": "c3e90827-aa4a-4551-a6e0-950a250bb526",
   "metadata": {},
   "source": [
    "## Querying Existing tables"
   ]
  },
  {
   "cell_type": "code",
   "execution_count": 33,
   "id": "a895b593-2851-4f30-ab2d-7d99a01ed8d6",
   "metadata": {},
   "outputs": [],
   "source": [
    " # Create engine using the `top_ten_asx.db` database file\n",
    "engine = create_engine('sqlite:///Resources/top_ten_asx.db')\n"
   ]
  },
  {
   "cell_type": "code",
   "execution_count": 34,
   "id": "4d34fd0c-7f9b-4fb0-aa83-52c96196e693",
   "metadata": {},
   "outputs": [],
   "source": [
    "#Declare a Base using automap_base()\n",
    "Base = automap_base()"
   ]
  },
  {
   "cell_type": "code",
   "execution_count": 35,
   "id": "ff0dc0b6-5f60-4402-9fed-15f2da7d4d65",
   "metadata": {},
   "outputs": [],
   "source": [
    "# Use the Base class to reflect the database tables\n",
    "#examines the database, discover the tables and columns and relationships within the db, and set up Python classes.\n",
    "Base.prepare(autoload_with=engine)"
   ]
  },
  {
   "cell_type": "code",
   "execution_count": 36,
   "id": "9bb6f018-3faf-4573-9793-9adab3252a39",
   "metadata": {},
   "outputs": [
    {
     "data": {
      "text/plain": [
       "['fundamentals', 'top_ten', 'industry_groups', 'top_ten_historic']"
      ]
     },
     "execution_count": 36,
     "metadata": {},
     "output_type": "execute_result"
    }
   ],
   "source": [
    "# Print all of the classes mapped to the Base\n",
    "Base.classes.keys()"
   ]
  },
  {
   "cell_type": "code",
   "execution_count": 37,
   "id": "f8d10b17-035d-4a62-bd29-46679464f14c",
   "metadata": {},
   "outputs": [],
   "source": [
    "#assign classes/tables to a variable\n",
    "industry_groups = Base.classes.industry_groups\n",
    "top_ten = Base.classes.top_ten\n",
    "historic = Base.classes.top_ten_historic"
   ]
  },
  {
   "cell_type": "code",
   "execution_count": 38,
   "id": "bfd68995-6c7f-4546-9ce4-7dd401d29b2e",
   "metadata": {},
   "outputs": [
    {
     "data": {
      "text/plain": [
       "[Column('id', INTEGER(), table=<top_ten_historic>, primary_key=True, nullable=False),\n",
       " Column('Ticker', VARCHAR(), ForeignKey('top_ten.ticker'), table=<top_ten_historic>),\n",
       " Column('Date', DATE(), table=<top_ten_historic>),\n",
       " Column('Open', FLOAT(), table=<top_ten_historic>),\n",
       " Column('High', FLOAT(), table=<top_ten_historic>),\n",
       " Column('Low', FLOAT(), table=<top_ten_historic>),\n",
       " Column('Close', FLOAT(), table=<top_ten_historic>),\n",
       " Column('Adj Close', FLOAT(), table=<top_ten_historic>),\n",
       " Column('Volume', INTEGER(), table=<top_ten_historic>)]"
      ]
     },
     "execution_count": 38,
     "metadata": {},
     "output_type": "execute_result"
    }
   ],
   "source": [
    "[column for column in historic.__table__.columns]"
   ]
  },
  {
   "cell_type": "code",
   "execution_count": 39,
   "id": "8a561963-a746-4789-b07a-11af43d8816c",
   "metadata": {},
   "outputs": [],
   "source": [
    "#create a session\n",
    "session = Session(bind=engine)"
   ]
  },
  {
   "cell_type": "code",
   "execution_count": 40,
   "id": "fca9db20-9144-4df8-8ca9-4df6374324d9",
   "metadata": {},
   "outputs": [
    {
     "data": {
      "text/plain": [
       "{'_sa_instance_state': <sqlalchemy.orm.state.InstanceState at 0x1560afbe0>,\n",
       " 'Ticker': 'ARB',\n",
       " 'Date': datetime.date(2018, 11, 5),\n",
       " 'High': 17.540000915527344,\n",
       " 'Close': 17.149999618530273,\n",
       " 'Volume': 1106127,\n",
       " 'Open': 17.1299991607666,\n",
       " 'id': 1,\n",
       " 'Low': 16.3700008392334,\n",
       " 'Adj Close': None}"
      ]
     },
     "execution_count": 40,
     "metadata": {},
     "output_type": "execute_result"
    }
   ],
   "source": [
    "#Display the row's columns and data in a dict format\n",
    "first_row = session.query(historic).first()\n",
    "first_row.__dict__"
   ]
  },
  {
   "cell_type": "code",
   "execution_count": 41,
   "id": "e677b17f-c608-407f-8508-5d1ae6b6bdef",
   "metadata": {
    "tags": []
   },
   "outputs": [],
   "source": [
    "# create a new declarative base instance for defining new classes\n",
    "engine = create_engine('sqlite:///Resources/top_ten_asx.db')\n",
    "DeclarativeBase = declarative_base()\n",
    "\n",
    "session = Session(engine)"
   ]
  },
  {
   "cell_type": "code",
   "execution_count": 42,
   "id": "c37b4777-7a8b-4c95-b731-3f1167f6aa15",
   "metadata": {},
   "outputs": [
    {
     "name": "stdout",
     "output_type": "stream",
     "text": [
      "['fundamentals', 'industry_groups', 'top_ten', 'top_ten_historic']\n"
     ]
    }
   ],
   "source": [
    "inspector = inspect(engine)\n",
    "table_names = inspector.get_table_names()\n",
    "print(table_names)"
   ]
  },
  {
   "cell_type": "code",
   "execution_count": 43,
   "id": "62fbb4bd-7844-487e-9499-5964361131fd",
   "metadata": {},
   "outputs": [
    {
     "data": {
      "text/plain": [
       "[{'name': 'ticker',\n",
       "  'type': VARCHAR(),\n",
       "  'nullable': False,\n",
       "  'default': None,\n",
       "  'autoincrement': 'auto',\n",
       "  'primary_key': 1},\n",
       " {'name': 'company_name',\n",
       "  'type': VARCHAR(),\n",
       "  'nullable': True,\n",
       "  'default': None,\n",
       "  'autoincrement': 'auto',\n",
       "  'primary_key': 0},\n",
       " {'name': 'market_cap',\n",
       "  'type': FLOAT(),\n",
       "  'nullable': True,\n",
       "  'default': None,\n",
       "  'autoincrement': 'auto',\n",
       "  'primary_key': 0},\n",
       " {'name': 'industry_id',\n",
       "  'type': INTEGER(),\n",
       "  'nullable': True,\n",
       "  'default': None,\n",
       "  'autoincrement': 'auto',\n",
       "  'primary_key': 0}]"
      ]
     },
     "execution_count": 43,
     "metadata": {},
     "output_type": "execute_result"
    }
   ],
   "source": [
    "inspector.get_columns('top_ten')"
   ]
  }
 ],
 "metadata": {
  "kernelspec": {
   "display_name": "PythonData",
   "language": "python",
   "name": "pythondata"
  },
  "language_info": {
   "codemirror_mode": {
    "name": "ipython",
    "version": 3
   },
   "file_extension": ".py",
   "mimetype": "text/x-python",
   "name": "python",
   "nbconvert_exporter": "python",
   "pygments_lexer": "ipython3",
   "version": "3.10.12"
  }
 },
 "nbformat": 4,
 "nbformat_minor": 5
}
