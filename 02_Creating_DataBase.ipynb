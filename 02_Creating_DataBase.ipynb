{
 "cells": [
  {
   "cell_type": "code",
   "execution_count": 29,
   "id": "157e4918-d46f-48fe-aa38-9eeaec1556aa",
   "metadata": {
    "tags": []
   },
   "outputs": [],
   "source": [
    "#import dependencies\n",
    "from sqlalchemy import create_engine, Column, Integer, String, Float, ForeignKey, Date\n",
    "from sqlalchemy.ext.declarative import declarative_base\n",
    "from sqlalchemy.orm import Session\n",
    "import pandas as pd\n",
    "from sqlalchemy.ext.automap import automap_base\n",
    "from sqlalchemy import func\n"
   ]
  },
  {
   "cell_type": "code",
   "execution_count": 30,
   "id": "f9982bbd-6ad9-4a87-b604-cd84b1fc3ed1",
   "metadata": {
    "tags": []
   },
   "outputs": [
    {
     "data": {
      "text/html": [
       "<div>\n",
       "<style scoped>\n",
       "    .dataframe tbody tr th:only-of-type {\n",
       "        vertical-align: middle;\n",
       "    }\n",
       "\n",
       "    .dataframe tbody tr th {\n",
       "        vertical-align: top;\n",
       "    }\n",
       "\n",
       "    .dataframe thead th {\n",
       "        text-align: right;\n",
       "    }\n",
       "</style>\n",
       "<table border=\"1\" class=\"dataframe\">\n",
       "  <thead>\n",
       "    <tr style=\"text-align: right;\">\n",
       "      <th></th>\n",
       "      <th>industry_name</th>\n",
       "      <th>industry_id</th>\n",
       "    </tr>\n",
       "  </thead>\n",
       "  <tbody>\n",
       "    <tr>\n",
       "      <th>0</th>\n",
       "      <td>Automobiles &amp; Components</td>\n",
       "      <td>1</td>\n",
       "    </tr>\n",
       "    <tr>\n",
       "      <th>1</th>\n",
       "      <td>Banks</td>\n",
       "      <td>2</td>\n",
       "    </tr>\n",
       "    <tr>\n",
       "      <th>2</th>\n",
       "      <td>Capital Goods</td>\n",
       "      <td>3</td>\n",
       "    </tr>\n",
       "    <tr>\n",
       "      <th>3</th>\n",
       "      <td>Class Pend</td>\n",
       "      <td>4</td>\n",
       "    </tr>\n",
       "    <tr>\n",
       "      <th>4</th>\n",
       "      <td>Commercial &amp; Professional Services</td>\n",
       "      <td>5</td>\n",
       "    </tr>\n",
       "  </tbody>\n",
       "</table>\n",
       "</div>"
      ],
      "text/plain": [
       "                        industry_name  industry_id\n",
       "0            Automobiles & Components            1\n",
       "1                               Banks            2\n",
       "2                       Capital Goods            3\n",
       "3                          Class Pend            4\n",
       "4  Commercial & Professional Services            5"
      ]
     },
     "execution_count": 30,
     "metadata": {},
     "output_type": "execute_result"
    }
   ],
   "source": [
    "# Step 1: Read CSV Files into DataFrames\n",
    "industry_groups_df = pd.read_csv('Resources/Industry_Groups.csv')\n",
    "top_ten_df = pd.read_csv('Resources/top_ten_with_industryID.csv')\n",
    "top_ten_historic_df = pd.read_csv('Resources/top_ten_historic_5y.csv')\n",
    "fundamental_df_clean = pd.read_csv('Resources/02_ASX_Fundamental_Final_Clean.csv')\n",
    "industry_groups_df.head()"
   ]
  },
  {
   "cell_type": "code",
   "execution_count": 31,
   "id": "851dfd25-d1b0-40a8-8829-76f823f8a644",
   "metadata": {
    "tags": []
   },
   "outputs": [
    {
     "name": "stdout",
     "output_type": "stream",
     "text": [
      "0\n"
     ]
    }
   ],
   "source": [
    "# #trying to see if i had any null values in 'Date' column of top_ten_historic_df\n",
    "print(top_ten_historic_df['Ticker'].isnull().sum())"
   ]
  },
  {
   "cell_type": "code",
   "execution_count": 32,
   "id": "fbdb5ee0-ea9b-4abb-a4b2-a9653844c15c",
   "metadata": {
    "tags": []
   },
   "outputs": [
    {
     "name": "stdout",
     "output_type": "stream",
     "text": [
      "<class 'pandas.core.frame.DataFrame'>\n",
      "RangeIndex: 27 entries, 0 to 26\n",
      "Data columns (total 2 columns):\n",
      " #   Column         Non-Null Count  Dtype \n",
      "---  ------         --------------  ----- \n",
      " 0   industry_name  27 non-null     object\n",
      " 1   industry_id    27 non-null     int64 \n",
      "dtypes: int64(1), object(1)\n",
      "memory usage: 564.0+ bytes\n"
     ]
    }
   ],
   "source": [
    "industry_groups_df.info()"
   ]
  },
  {
   "cell_type": "code",
   "execution_count": 33,
   "id": "74600ca6-4dbb-4367-8b7b-33e06e6dce74",
   "metadata": {
    "tags": []
   },
   "outputs": [
    {
     "name": "stdout",
     "output_type": "stream",
     "text": [
      "<class 'pandas.core.frame.DataFrame'>\n",
      "RangeIndex: 259 entries, 0 to 258\n",
      "Data columns (total 29 columns):\n",
      " #   Column             Non-Null Count  Dtype  \n",
      "---  ------             --------------  -----  \n",
      " 0   lastPrice          259 non-null    float64\n",
      " 1   Change             259 non-null    object \n",
      " 2   Bid_Ask            259 non-null    object \n",
      " 3   volumePerDay       259 non-null    int64  \n",
      " 4   volume4wAvg        259 non-null    int64  \n",
      " 5   Open               245 non-null    float64\n",
      " 6   dayRange           259 non-null    object \n",
      " 7   prevClose          259 non-null    object \n",
      " 8   lastTrade          259 non-null    object \n",
      " 9   oneWeek            259 non-null    object \n",
      " 10  oneMonth           259 non-null    object \n",
      " 11  YTD2023            259 non-null    object \n",
      " 12  oneYear            259 non-null    object \n",
      " 13  vsSectorOneYr      259 non-null    object \n",
      " 14  vsASX200OneYr      259 non-null    object \n",
      " 15  marketCap          259 non-null    float64\n",
      " 16  ASXRank            259 non-null    object \n",
      " 17  sectorRank         259 non-null    object \n",
      " 18  sharesIssued       259 non-null    int64  \n",
      " 19  Sector             257 non-null    object \n",
      " 20  similarCompanies   259 non-null    object \n",
      " 21  EPS                259 non-null    float64\n",
      " 22  DPS                259 non-null    float64\n",
      " 23  bookValuePerShare  259 non-null    float64\n",
      " 24  Breakdown          196 non-null    object \n",
      " 25  Recommendation     196 non-null    object \n",
      " 26  lastUpdated        196 non-null    object \n",
      " 27  Ticker             259 non-null    object \n",
      " 28  P/E Ratio          244 non-null    float64\n",
      "dtypes: float64(7), int64(3), object(19)\n",
      "memory usage: 58.8+ KB\n"
     ]
    }
   ],
   "source": [
    "fundamental_df_clean.info()"
   ]
  },
  {
   "cell_type": "code",
   "execution_count": 34,
   "id": "b52e06b7-4022-49f0-b2c1-1c27af362e70",
   "metadata": {
    "tags": []
   },
   "outputs": [],
   "source": [
    "#convert datatype to date\n",
    "top_ten_historic_df['Date'] = pd.to_datetime(top_ten_historic_df['Date'])\n"
   ]
  },
  {
   "cell_type": "code",
   "execution_count": 35,
   "id": "c17d3c75-3871-494d-bc6e-4a45e188c968",
   "metadata": {
    "tags": []
   },
   "outputs": [
    {
     "name": "stdout",
     "output_type": "stream",
     "text": [
      "<class 'pandas.core.frame.DataFrame'>\n",
      "RangeIndex: 60881 entries, 0 to 60880\n",
      "Data columns (total 8 columns):\n",
      " #   Column     Non-Null Count  Dtype         \n",
      "---  ------     --------------  -----         \n",
      " 0   Ticker     60881 non-null  object        \n",
      " 1   Date       60881 non-null  datetime64[ns]\n",
      " 2   Open       60881 non-null  float64       \n",
      " 3   High       60881 non-null  float64       \n",
      " 4   Low        60881 non-null  float64       \n",
      " 5   Close      60881 non-null  float64       \n",
      " 6   Adj Close  60881 non-null  float64       \n",
      " 7   Volume     60881 non-null  int64         \n",
      "dtypes: datetime64[ns](1), float64(5), int64(1), object(1)\n",
      "memory usage: 3.7+ MB\n"
     ]
    }
   ],
   "source": [
    "top_ten_historic_df.info()"
   ]
  },
  {
   "cell_type": "code",
   "execution_count": 36,
   "id": "73ca729a-b3b3-4ac7-901c-276a492de4f7",
   "metadata": {
    "tags": []
   },
   "outputs": [],
   "source": [
    "top_ten_historic_df['Date'] = pd.to_datetime(top_ten_historic_df['Date']).apply(lambda x: x.date())"
   ]
  },
  {
   "cell_type": "code",
   "execution_count": 56,
   "id": "8988a7db-2a4a-41e5-8597-fd848b75c2db",
   "metadata": {
    "tags": []
   },
   "outputs": [],
   "source": [
    "#print(top_ten_historic_df['Date'].unique())"
   ]
  },
  {
   "cell_type": "code",
   "execution_count": 37,
   "id": "095b7048-3d83-4822-b61a-d3a384a1c5b2",
   "metadata": {
    "tags": []
   },
   "outputs": [
    {
     "name": "stdout",
     "output_type": "stream",
     "text": [
      "<class 'pandas.core.frame.DataFrame'>\n",
      "RangeIndex: 27 entries, 0 to 26\n",
      "Data columns (total 2 columns):\n",
      " #   Column         Non-Null Count  Dtype \n",
      "---  ------         --------------  ----- \n",
      " 0   industry_name  27 non-null     object\n",
      " 1   industry_id    27 non-null     int64 \n",
      "dtypes: int64(1), object(1)\n",
      "memory usage: 564.0+ bytes\n"
     ]
    }
   ],
   "source": [
    "industry_groups_df.info()"
   ]
  },
  {
   "cell_type": "code",
   "execution_count": 41,
   "id": "beac57a7-6de3-417c-ba58-20a8104a8382",
   "metadata": {
    "tags": []
   },
   "outputs": [],
   "source": [
    "# Define Database Schema\n",
    "Base = declarative_base()\n",
    "\n",
    "class IndustryGroups(Base):\n",
    "    __tablename__ = 'industry_groups'\n",
    "    \n",
    "    industry_name = Column(String)\n",
    "    industry_id = Column(Integer, primary_key=True)\n",
    "    \n",
    "\n",
    "class TopTen(Base):\n",
    "    __tablename__ = 'top_ten'\n",
    "    \n",
    "    ticker = Column(String, primary_key=True)\n",
    "    company_name = Column(String)\n",
    "    market_cap = Column(Float)\n",
    "    industry_id = Column(Integer, ForeignKey('industry_groups.industry_id'))\n",
    "\n",
    "class TopTenHistoric(Base):\n",
    "    __tablename__ = 'top_ten_historic'\n",
    "    \n",
    "    id = Column (Integer, primary_key=True, autoincrement=True)\n",
    "    Ticker = Column(String, ForeignKey('top_ten.ticker'))\n",
    "    Date = Column(Date)\n",
    "    Open = Column(Float)\n",
    "    High = Column(Float)\n",
    "    Low = Column(Float)\n",
    "    Close = Column(Float)\n",
    "    Adj_Close = Column('Adj Close', Float)\n",
    "    Volume = Column(Integer)\n",
    "    \n",
    "class fundamental(Base):\n",
    "    __tablename__ = 'fundamental'\n",
    "    \n",
    "    lastPrice = Column(Float)         \n",
    "    Change = Column(String)       \n",
    "    Bid_Ask = Column(String)           \n",
    "    volumePerDay = Column(Integer)         \n",
    "    volume4wAvg = Column(Integer)          \n",
    "    Open = Column(Float)              \n",
    "    dayRange = Column(String)              \n",
    "    prevClose = Column(String)        \n",
    "    lastTrade = Column(String)            \n",
    "    oneWeek = Column(String)             \n",
    "    oneMonth = Column(String)           \n",
    "    YTD2023 = Column(String)            \n",
    "    oneYear = Column(String)            \n",
    "    vsSectorOneYr = Column(String)         \n",
    "    vsASX200OneYr = Column(String)         \n",
    "    marketCap = Column(Float)          \n",
    "    ASXRank = Column(String)            \n",
    "    sectorRank = Column(String)         \n",
    "    sharesIssued = Column(Float)       \n",
    "    Sector = Column(String)               \n",
    "    similarCompanies = Column(String)     \n",
    "    EPS = Column(Float)                 \n",
    "    DPS = Column(Float)                \n",
    "    bookValuePerShare = Column(Float)    \n",
    "    Breakdown = Column(String)          \n",
    "    Recommendation = Column(String)       \n",
    "    lastUpdated = Column(String)         \n",
    "    Ticker = Column(String,primary_key=True)            \n",
    "    PE_Ratio = Column(Float) \n",
    "        \n",
    "#Connect to the Database and Create Tables\n",
    "# Replace 'sqlite:///asx.db' with your actual database connection string\n",
    "engine = create_engine('sqlite:///Resources/top_ten_asx.db')\n",
    "Base.metadata.create_all(engine)\n",
    "\n"
   ]
  },
  {
   "cell_type": "code",
   "execution_count": 42,
   "id": "0a0716d9-cb2b-4bae-969c-3e3bd1014314",
   "metadata": {
    "tags": []
   },
   "outputs": [
    {
     "ename": "IntegrityError",
     "evalue": "(sqlite3.IntegrityError) UNIQUE constraint failed: industry_groups.industry_id\n[SQL: INSERT INTO industry_groups (industry_name, industry_id) VALUES (?, ?)]\n[parameters: (('Automobiles & Components', 1), ('Banks', 2), ('Capital Goods', 3), ('Class Pend', 4), ('Commercial & Professional Services', 5), ('Consumer Discretionary Distribution & Retail', 6), ('Consumer Durables & Apparel', 7), ('Consumer Services', 8)  ... displaying 10 of 27 total bound parameter sets ...  ('Transportation', 26), ('Utilities', 27))]\n(Background on this error at: https://sqlalche.me/e/14/gkpj)",
     "output_type": "error",
     "traceback": [
      "\u001b[1;31m---------------------------------------------------------------------------\u001b[0m",
      "\u001b[1;31mIntegrityError\u001b[0m                            Traceback (most recent call last)",
      "File \u001b[1;32m~\\anaconda3\\Lib\\site-packages\\sqlalchemy\\engine\\base.py:1799\u001b[0m, in \u001b[0;36mConnection._execute_context\u001b[1;34m(self, dialect, constructor, statement, parameters, execution_options, *args, **kw)\u001b[0m\n\u001b[0;32m   1798\u001b[0m     \u001b[38;5;28;01mif\u001b[39;00m \u001b[38;5;129;01mnot\u001b[39;00m evt_handled:\n\u001b[1;32m-> 1799\u001b[0m         \u001b[38;5;28mself\u001b[39m\u001b[38;5;241m.\u001b[39mdialect\u001b[38;5;241m.\u001b[39mdo_executemany(\n\u001b[0;32m   1800\u001b[0m             cursor, statement, parameters, context\n\u001b[0;32m   1801\u001b[0m         )\n\u001b[0;32m   1802\u001b[0m \u001b[38;5;28;01melif\u001b[39;00m \u001b[38;5;129;01mnot\u001b[39;00m parameters \u001b[38;5;129;01mand\u001b[39;00m context\u001b[38;5;241m.\u001b[39mno_parameters:\n",
      "File \u001b[1;32m~\\anaconda3\\Lib\\site-packages\\sqlalchemy\\engine\\default.py:729\u001b[0m, in \u001b[0;36mDefaultDialect.do_executemany\u001b[1;34m(self, cursor, statement, parameters, context)\u001b[0m\n\u001b[0;32m    728\u001b[0m \u001b[38;5;28;01mdef\u001b[39;00m \u001b[38;5;21mdo_executemany\u001b[39m(\u001b[38;5;28mself\u001b[39m, cursor, statement, parameters, context\u001b[38;5;241m=\u001b[39m\u001b[38;5;28;01mNone\u001b[39;00m):\n\u001b[1;32m--> 729\u001b[0m     cursor\u001b[38;5;241m.\u001b[39mexecutemany(statement, parameters)\n",
      "\u001b[1;31mIntegrityError\u001b[0m: UNIQUE constraint failed: industry_groups.industry_id",
      "\nThe above exception was the direct cause of the following exception:\n",
      "\u001b[1;31mIntegrityError\u001b[0m                            Traceback (most recent call last)",
      "Cell \u001b[1;32mIn[42], line 8\u001b[0m\n\u001b[0;32m      5\u001b[0m session \u001b[38;5;241m=\u001b[39m Session()\n\u001b[0;32m      7\u001b[0m \u001b[38;5;66;03m# Insert IndustryGroups\u001b[39;00m\n\u001b[1;32m----> 8\u001b[0m session\u001b[38;5;241m.\u001b[39mbulk_insert_mappings(IndustryGroups, industry_groups_df\u001b[38;5;241m.\u001b[39mto_dict(orient\u001b[38;5;241m=\u001b[39m\u001b[38;5;124m\"\u001b[39m\u001b[38;5;124mrecords\u001b[39m\u001b[38;5;124m\"\u001b[39m))\n\u001b[0;32m     10\u001b[0m \u001b[38;5;66;03m# Insert TopTen\u001b[39;00m\n\u001b[0;32m     11\u001b[0m session\u001b[38;5;241m.\u001b[39mbulk_insert_mappings(TopTen, top_ten_df\u001b[38;5;241m.\u001b[39mto_dict(orient\u001b[38;5;241m=\u001b[39m\u001b[38;5;124m\"\u001b[39m\u001b[38;5;124mrecords\u001b[39m\u001b[38;5;124m\"\u001b[39m))\n",
      "File \u001b[1;32m~\\anaconda3\\Lib\\site-packages\\sqlalchemy\\orm\\session.py:3752\u001b[0m, in \u001b[0;36mSession.bulk_insert_mappings\u001b[1;34m(self, mapper, mappings, return_defaults, render_nulls)\u001b[0m\n\u001b[0;32m   3653\u001b[0m \u001b[38;5;28;01mdef\u001b[39;00m \u001b[38;5;21mbulk_insert_mappings\u001b[39m(\n\u001b[0;32m   3654\u001b[0m     \u001b[38;5;28mself\u001b[39m, mapper, mappings, return_defaults\u001b[38;5;241m=\u001b[39m\u001b[38;5;28;01mFalse\u001b[39;00m, render_nulls\u001b[38;5;241m=\u001b[39m\u001b[38;5;28;01mFalse\u001b[39;00m\n\u001b[0;32m   3655\u001b[0m ):\n\u001b[0;32m   3656\u001b[0m \u001b[38;5;250m    \u001b[39m\u001b[38;5;124;03m\"\"\"Perform a bulk insert of the given list of mapping dictionaries.\u001b[39;00m\n\u001b[0;32m   3657\u001b[0m \n\u001b[0;32m   3658\u001b[0m \u001b[38;5;124;03m    The bulk insert feature allows plain Python dictionaries to be used as\u001b[39;00m\n\u001b[1;32m   (...)\u001b[0m\n\u001b[0;32m   3750\u001b[0m \n\u001b[0;32m   3751\u001b[0m \u001b[38;5;124;03m    \"\"\"\u001b[39;00m\n\u001b[1;32m-> 3752\u001b[0m     \u001b[38;5;28mself\u001b[39m\u001b[38;5;241m.\u001b[39m_bulk_save_mappings(\n\u001b[0;32m   3753\u001b[0m         mapper,\n\u001b[0;32m   3754\u001b[0m         mappings,\n\u001b[0;32m   3755\u001b[0m         \u001b[38;5;28;01mFalse\u001b[39;00m,\n\u001b[0;32m   3756\u001b[0m         \u001b[38;5;28;01mFalse\u001b[39;00m,\n\u001b[0;32m   3757\u001b[0m         return_defaults,\n\u001b[0;32m   3758\u001b[0m         \u001b[38;5;28;01mFalse\u001b[39;00m,\n\u001b[0;32m   3759\u001b[0m         render_nulls,\n\u001b[0;32m   3760\u001b[0m     )\n",
      "File \u001b[1;32m~\\anaconda3\\Lib\\site-packages\\sqlalchemy\\orm\\session.py:3858\u001b[0m, in \u001b[0;36mSession._bulk_save_mappings\u001b[1;34m(self, mapper, mappings, isupdate, isstates, return_defaults, update_changed_only, render_nulls)\u001b[0m\n\u001b[0;32m   3855\u001b[0m     transaction\u001b[38;5;241m.\u001b[39mcommit()\n\u001b[0;32m   3857\u001b[0m \u001b[38;5;28;01mexcept\u001b[39;00m:\n\u001b[1;32m-> 3858\u001b[0m     \u001b[38;5;28;01mwith\u001b[39;00m util\u001b[38;5;241m.\u001b[39msafe_reraise():\n\u001b[0;32m   3859\u001b[0m         transaction\u001b[38;5;241m.\u001b[39mrollback(_capture_exception\u001b[38;5;241m=\u001b[39m\u001b[38;5;28;01mTrue\u001b[39;00m)\n\u001b[0;32m   3860\u001b[0m \u001b[38;5;28;01mfinally\u001b[39;00m:\n",
      "File \u001b[1;32m~\\anaconda3\\Lib\\site-packages\\sqlalchemy\\util\\langhelpers.py:70\u001b[0m, in \u001b[0;36msafe_reraise.__exit__\u001b[1;34m(self, type_, value, traceback)\u001b[0m\n\u001b[0;32m     68\u001b[0m     \u001b[38;5;28mself\u001b[39m\u001b[38;5;241m.\u001b[39m_exc_info \u001b[38;5;241m=\u001b[39m \u001b[38;5;28;01mNone\u001b[39;00m  \u001b[38;5;66;03m# remove potential circular references\u001b[39;00m\n\u001b[0;32m     69\u001b[0m     \u001b[38;5;28;01mif\u001b[39;00m \u001b[38;5;129;01mnot\u001b[39;00m \u001b[38;5;28mself\u001b[39m\u001b[38;5;241m.\u001b[39mwarn_only:\n\u001b[1;32m---> 70\u001b[0m         compat\u001b[38;5;241m.\u001b[39mraise_(\n\u001b[0;32m     71\u001b[0m             exc_value,\n\u001b[0;32m     72\u001b[0m             with_traceback\u001b[38;5;241m=\u001b[39mexc_tb,\n\u001b[0;32m     73\u001b[0m         )\n\u001b[0;32m     74\u001b[0m \u001b[38;5;28;01melse\u001b[39;00m:\n\u001b[0;32m     75\u001b[0m     \u001b[38;5;28;01mif\u001b[39;00m \u001b[38;5;129;01mnot\u001b[39;00m compat\u001b[38;5;241m.\u001b[39mpy3k \u001b[38;5;129;01mand\u001b[39;00m \u001b[38;5;28mself\u001b[39m\u001b[38;5;241m.\u001b[39m_exc_info \u001b[38;5;129;01mand\u001b[39;00m \u001b[38;5;28mself\u001b[39m\u001b[38;5;241m.\u001b[39m_exc_info[\u001b[38;5;241m1\u001b[39m]:\n\u001b[0;32m     76\u001b[0m         \u001b[38;5;66;03m# emulate Py3K's behavior of telling us when an exception\u001b[39;00m\n\u001b[0;32m     77\u001b[0m         \u001b[38;5;66;03m# occurs in an exception handler.\u001b[39;00m\n",
      "File \u001b[1;32m~\\anaconda3\\Lib\\site-packages\\sqlalchemy\\util\\compat.py:208\u001b[0m, in \u001b[0;36mraise_\u001b[1;34m(***failed resolving arguments***)\u001b[0m\n\u001b[0;32m    205\u001b[0m     exception\u001b[38;5;241m.\u001b[39m__cause__ \u001b[38;5;241m=\u001b[39m replace_context\n\u001b[0;32m    207\u001b[0m \u001b[38;5;28;01mtry\u001b[39;00m:\n\u001b[1;32m--> 208\u001b[0m     \u001b[38;5;28;01mraise\u001b[39;00m exception\n\u001b[0;32m    209\u001b[0m \u001b[38;5;28;01mfinally\u001b[39;00m:\n\u001b[0;32m    210\u001b[0m     \u001b[38;5;66;03m# credit to\u001b[39;00m\n\u001b[0;32m    211\u001b[0m     \u001b[38;5;66;03m# https://cosmicpercolator.com/2016/01/13/exception-leaks-in-python-2-and-3/\u001b[39;00m\n\u001b[0;32m    212\u001b[0m     \u001b[38;5;66;03m# as the __traceback__ object creates a cycle\u001b[39;00m\n\u001b[0;32m    213\u001b[0m     \u001b[38;5;28;01mdel\u001b[39;00m exception, replace_context, from_, with_traceback\n",
      "File \u001b[1;32m~\\anaconda3\\Lib\\site-packages\\sqlalchemy\\orm\\session.py:3847\u001b[0m, in \u001b[0;36mSession._bulk_save_mappings\u001b[1;34m(self, mapper, mappings, isupdate, isstates, return_defaults, update_changed_only, render_nulls)\u001b[0m\n\u001b[0;32m   3839\u001b[0m         persistence\u001b[38;5;241m.\u001b[39m_bulk_update(\n\u001b[0;32m   3840\u001b[0m             mapper,\n\u001b[0;32m   3841\u001b[0m             mappings,\n\u001b[1;32m   (...)\u001b[0m\n\u001b[0;32m   3844\u001b[0m             update_changed_only,\n\u001b[0;32m   3845\u001b[0m         )\n\u001b[0;32m   3846\u001b[0m     \u001b[38;5;28;01melse\u001b[39;00m:\n\u001b[1;32m-> 3847\u001b[0m         persistence\u001b[38;5;241m.\u001b[39m_bulk_insert(\n\u001b[0;32m   3848\u001b[0m             mapper,\n\u001b[0;32m   3849\u001b[0m             mappings,\n\u001b[0;32m   3850\u001b[0m             transaction,\n\u001b[0;32m   3851\u001b[0m             isstates,\n\u001b[0;32m   3852\u001b[0m             return_defaults,\n\u001b[0;32m   3853\u001b[0m             render_nulls,\n\u001b[0;32m   3854\u001b[0m         )\n\u001b[0;32m   3855\u001b[0m     transaction\u001b[38;5;241m.\u001b[39mcommit()\n\u001b[0;32m   3857\u001b[0m \u001b[38;5;28;01mexcept\u001b[39;00m:\n",
      "File \u001b[1;32m~\\anaconda3\\Lib\\site-packages\\sqlalchemy\\orm\\persistence.py:107\u001b[0m, in \u001b[0;36m_bulk_insert\u001b[1;34m(mapper, mappings, session_transaction, isstates, return_defaults, render_nulls)\u001b[0m\n\u001b[0;32m     77\u001b[0m         \u001b[38;5;28;01mcontinue\u001b[39;00m\n\u001b[0;32m     79\u001b[0m     records \u001b[38;5;241m=\u001b[39m (\n\u001b[0;32m     80\u001b[0m         (\n\u001b[0;32m     81\u001b[0m             \u001b[38;5;28;01mNone\u001b[39;00m,\n\u001b[1;32m   (...)\u001b[0m\n\u001b[0;32m    105\u001b[0m         )\n\u001b[0;32m    106\u001b[0m     )\n\u001b[1;32m--> 107\u001b[0m     _emit_insert_statements(\n\u001b[0;32m    108\u001b[0m         base_mapper,\n\u001b[0;32m    109\u001b[0m         \u001b[38;5;28;01mNone\u001b[39;00m,\n\u001b[0;32m    110\u001b[0m         super_mapper,\n\u001b[0;32m    111\u001b[0m         table,\n\u001b[0;32m    112\u001b[0m         records,\n\u001b[0;32m    113\u001b[0m         bookkeeping\u001b[38;5;241m=\u001b[39mreturn_defaults,\n\u001b[0;32m    114\u001b[0m     )\n\u001b[0;32m    116\u001b[0m \u001b[38;5;28;01mif\u001b[39;00m return_defaults \u001b[38;5;129;01mand\u001b[39;00m isstates:\n\u001b[0;32m    117\u001b[0m     identity_cls \u001b[38;5;241m=\u001b[39m mapper\u001b[38;5;241m.\u001b[39m_identity_class\n",
      "File \u001b[1;32m~\\anaconda3\\Lib\\site-packages\\sqlalchemy\\orm\\persistence.py:1097\u001b[0m, in \u001b[0;36m_emit_insert_statements\u001b[1;34m(base_mapper, uowtransaction, mapper, table, insert, bookkeeping)\u001b[0m\n\u001b[0;32m   1094\u001b[0m records \u001b[38;5;241m=\u001b[39m \u001b[38;5;28mlist\u001b[39m(records)\n\u001b[0;32m   1095\u001b[0m multiparams \u001b[38;5;241m=\u001b[39m [rec[\u001b[38;5;241m2\u001b[39m] \u001b[38;5;28;01mfor\u001b[39;00m rec \u001b[38;5;129;01min\u001b[39;00m records]\n\u001b[1;32m-> 1097\u001b[0m c \u001b[38;5;241m=\u001b[39m connection\u001b[38;5;241m.\u001b[39m_execute_20(\n\u001b[0;32m   1098\u001b[0m     statement, multiparams, execution_options\u001b[38;5;241m=\u001b[39mexecution_options\n\u001b[0;32m   1099\u001b[0m )\n\u001b[0;32m   1101\u001b[0m \u001b[38;5;28;01mif\u001b[39;00m bookkeeping:\n\u001b[0;32m   1102\u001b[0m     \u001b[38;5;28;01mfor\u001b[39;00m (\n\u001b[0;32m   1103\u001b[0m         (\n\u001b[0;32m   1104\u001b[0m             state,\n\u001b[1;32m   (...)\u001b[0m\n\u001b[0;32m   1113\u001b[0m         last_inserted_params,\n\u001b[0;32m   1114\u001b[0m     ) \u001b[38;5;129;01min\u001b[39;00m \u001b[38;5;28mzip\u001b[39m(records, c\u001b[38;5;241m.\u001b[39mcontext\u001b[38;5;241m.\u001b[39mcompiled_parameters):\n",
      "File \u001b[1;32m~\\anaconda3\\Lib\\site-packages\\sqlalchemy\\engine\\base.py:1631\u001b[0m, in \u001b[0;36mConnection._execute_20\u001b[1;34m(self, statement, parameters, execution_options)\u001b[0m\n\u001b[0;32m   1627\u001b[0m     util\u001b[38;5;241m.\u001b[39mraise_(\n\u001b[0;32m   1628\u001b[0m         exc\u001b[38;5;241m.\u001b[39mObjectNotExecutableError(statement), replace_context\u001b[38;5;241m=\u001b[39merr\n\u001b[0;32m   1629\u001b[0m     )\n\u001b[0;32m   1630\u001b[0m \u001b[38;5;28;01melse\u001b[39;00m:\n\u001b[1;32m-> 1631\u001b[0m     \u001b[38;5;28;01mreturn\u001b[39;00m meth(\u001b[38;5;28mself\u001b[39m, args_10style, kwargs_10style, execution_options)\n",
      "File \u001b[1;32m~\\anaconda3\\Lib\\site-packages\\sqlalchemy\\sql\\elements.py:332\u001b[0m, in \u001b[0;36mClauseElement._execute_on_connection\u001b[1;34m(self, connection, multiparams, params, execution_options, _force)\u001b[0m\n\u001b[0;32m    328\u001b[0m \u001b[38;5;28;01mdef\u001b[39;00m \u001b[38;5;21m_execute_on_connection\u001b[39m(\n\u001b[0;32m    329\u001b[0m     \u001b[38;5;28mself\u001b[39m, connection, multiparams, params, execution_options, _force\u001b[38;5;241m=\u001b[39m\u001b[38;5;28;01mFalse\u001b[39;00m\n\u001b[0;32m    330\u001b[0m ):\n\u001b[0;32m    331\u001b[0m     \u001b[38;5;28;01mif\u001b[39;00m _force \u001b[38;5;129;01mor\u001b[39;00m \u001b[38;5;28mself\u001b[39m\u001b[38;5;241m.\u001b[39msupports_execution:\n\u001b[1;32m--> 332\u001b[0m         \u001b[38;5;28;01mreturn\u001b[39;00m connection\u001b[38;5;241m.\u001b[39m_execute_clauseelement(\n\u001b[0;32m    333\u001b[0m             \u001b[38;5;28mself\u001b[39m, multiparams, params, execution_options\n\u001b[0;32m    334\u001b[0m         )\n\u001b[0;32m    335\u001b[0m     \u001b[38;5;28;01melse\u001b[39;00m:\n\u001b[0;32m    336\u001b[0m         \u001b[38;5;28;01mraise\u001b[39;00m exc\u001b[38;5;241m.\u001b[39mObjectNotExecutableError(\u001b[38;5;28mself\u001b[39m)\n",
      "File \u001b[1;32m~\\anaconda3\\Lib\\site-packages\\sqlalchemy\\engine\\base.py:1498\u001b[0m, in \u001b[0;36mConnection._execute_clauseelement\u001b[1;34m(self, elem, multiparams, params, execution_options)\u001b[0m\n\u001b[0;32m   1486\u001b[0m compiled_cache \u001b[38;5;241m=\u001b[39m execution_options\u001b[38;5;241m.\u001b[39mget(\n\u001b[0;32m   1487\u001b[0m     \u001b[38;5;124m\"\u001b[39m\u001b[38;5;124mcompiled_cache\u001b[39m\u001b[38;5;124m\"\u001b[39m, \u001b[38;5;28mself\u001b[39m\u001b[38;5;241m.\u001b[39mengine\u001b[38;5;241m.\u001b[39m_compiled_cache\n\u001b[0;32m   1488\u001b[0m )\n\u001b[0;32m   1490\u001b[0m compiled_sql, extracted_params, cache_hit \u001b[38;5;241m=\u001b[39m elem\u001b[38;5;241m.\u001b[39m_compile_w_cache(\n\u001b[0;32m   1491\u001b[0m     dialect\u001b[38;5;241m=\u001b[39mdialect,\n\u001b[0;32m   1492\u001b[0m     compiled_cache\u001b[38;5;241m=\u001b[39mcompiled_cache,\n\u001b[1;32m   (...)\u001b[0m\n\u001b[0;32m   1496\u001b[0m     linting\u001b[38;5;241m=\u001b[39m\u001b[38;5;28mself\u001b[39m\u001b[38;5;241m.\u001b[39mdialect\u001b[38;5;241m.\u001b[39mcompiler_linting \u001b[38;5;241m|\u001b[39m compiler\u001b[38;5;241m.\u001b[39mWARN_LINTING,\n\u001b[0;32m   1497\u001b[0m )\n\u001b[1;32m-> 1498\u001b[0m ret \u001b[38;5;241m=\u001b[39m \u001b[38;5;28mself\u001b[39m\u001b[38;5;241m.\u001b[39m_execute_context(\n\u001b[0;32m   1499\u001b[0m     dialect,\n\u001b[0;32m   1500\u001b[0m     dialect\u001b[38;5;241m.\u001b[39mexecution_ctx_cls\u001b[38;5;241m.\u001b[39m_init_compiled,\n\u001b[0;32m   1501\u001b[0m     compiled_sql,\n\u001b[0;32m   1502\u001b[0m     distilled_params,\n\u001b[0;32m   1503\u001b[0m     execution_options,\n\u001b[0;32m   1504\u001b[0m     compiled_sql,\n\u001b[0;32m   1505\u001b[0m     distilled_params,\n\u001b[0;32m   1506\u001b[0m     elem,\n\u001b[0;32m   1507\u001b[0m     extracted_params,\n\u001b[0;32m   1508\u001b[0m     cache_hit\u001b[38;5;241m=\u001b[39mcache_hit,\n\u001b[0;32m   1509\u001b[0m )\n\u001b[0;32m   1510\u001b[0m \u001b[38;5;28;01mif\u001b[39;00m has_events:\n\u001b[0;32m   1511\u001b[0m     \u001b[38;5;28mself\u001b[39m\u001b[38;5;241m.\u001b[39mdispatch\u001b[38;5;241m.\u001b[39mafter_execute(\n\u001b[0;32m   1512\u001b[0m         \u001b[38;5;28mself\u001b[39m,\n\u001b[0;32m   1513\u001b[0m         elem,\n\u001b[1;32m   (...)\u001b[0m\n\u001b[0;32m   1517\u001b[0m         ret,\n\u001b[0;32m   1518\u001b[0m     )\n",
      "File \u001b[1;32m~\\anaconda3\\Lib\\site-packages\\sqlalchemy\\engine\\base.py:1862\u001b[0m, in \u001b[0;36mConnection._execute_context\u001b[1;34m(self, dialect, constructor, statement, parameters, execution_options, *args, **kw)\u001b[0m\n\u001b[0;32m   1859\u001b[0m             branched\u001b[38;5;241m.\u001b[39mclose()\n\u001b[0;32m   1861\u001b[0m \u001b[38;5;28;01mexcept\u001b[39;00m \u001b[38;5;167;01mBaseException\u001b[39;00m \u001b[38;5;28;01mas\u001b[39;00m e:\n\u001b[1;32m-> 1862\u001b[0m     \u001b[38;5;28mself\u001b[39m\u001b[38;5;241m.\u001b[39m_handle_dbapi_exception(\n\u001b[0;32m   1863\u001b[0m         e, statement, parameters, cursor, context\n\u001b[0;32m   1864\u001b[0m     )\n\u001b[0;32m   1866\u001b[0m \u001b[38;5;28;01mreturn\u001b[39;00m result\n",
      "File \u001b[1;32m~\\anaconda3\\Lib\\site-packages\\sqlalchemy\\engine\\base.py:2043\u001b[0m, in \u001b[0;36mConnection._handle_dbapi_exception\u001b[1;34m(self, e, statement, parameters, cursor, context)\u001b[0m\n\u001b[0;32m   2041\u001b[0m     util\u001b[38;5;241m.\u001b[39mraise_(newraise, with_traceback\u001b[38;5;241m=\u001b[39mexc_info[\u001b[38;5;241m2\u001b[39m], from_\u001b[38;5;241m=\u001b[39me)\n\u001b[0;32m   2042\u001b[0m \u001b[38;5;28;01melif\u001b[39;00m should_wrap:\n\u001b[1;32m-> 2043\u001b[0m     util\u001b[38;5;241m.\u001b[39mraise_(\n\u001b[0;32m   2044\u001b[0m         sqlalchemy_exception, with_traceback\u001b[38;5;241m=\u001b[39mexc_info[\u001b[38;5;241m2\u001b[39m], from_\u001b[38;5;241m=\u001b[39me\n\u001b[0;32m   2045\u001b[0m     )\n\u001b[0;32m   2046\u001b[0m \u001b[38;5;28;01melse\u001b[39;00m:\n\u001b[0;32m   2047\u001b[0m     util\u001b[38;5;241m.\u001b[39mraise_(exc_info[\u001b[38;5;241m1\u001b[39m], with_traceback\u001b[38;5;241m=\u001b[39mexc_info[\u001b[38;5;241m2\u001b[39m])\n",
      "File \u001b[1;32m~\\anaconda3\\Lib\\site-packages\\sqlalchemy\\util\\compat.py:208\u001b[0m, in \u001b[0;36mraise_\u001b[1;34m(***failed resolving arguments***)\u001b[0m\n\u001b[0;32m    205\u001b[0m     exception\u001b[38;5;241m.\u001b[39m__cause__ \u001b[38;5;241m=\u001b[39m replace_context\n\u001b[0;32m    207\u001b[0m \u001b[38;5;28;01mtry\u001b[39;00m:\n\u001b[1;32m--> 208\u001b[0m     \u001b[38;5;28;01mraise\u001b[39;00m exception\n\u001b[0;32m    209\u001b[0m \u001b[38;5;28;01mfinally\u001b[39;00m:\n\u001b[0;32m    210\u001b[0m     \u001b[38;5;66;03m# credit to\u001b[39;00m\n\u001b[0;32m    211\u001b[0m     \u001b[38;5;66;03m# https://cosmicpercolator.com/2016/01/13/exception-leaks-in-python-2-and-3/\u001b[39;00m\n\u001b[0;32m    212\u001b[0m     \u001b[38;5;66;03m# as the __traceback__ object creates a cycle\u001b[39;00m\n\u001b[0;32m    213\u001b[0m     \u001b[38;5;28;01mdel\u001b[39;00m exception, replace_context, from_, with_traceback\n",
      "File \u001b[1;32m~\\anaconda3\\Lib\\site-packages\\sqlalchemy\\engine\\base.py:1799\u001b[0m, in \u001b[0;36mConnection._execute_context\u001b[1;34m(self, dialect, constructor, statement, parameters, execution_options, *args, **kw)\u001b[0m\n\u001b[0;32m   1797\u001b[0m                 \u001b[38;5;28;01mbreak\u001b[39;00m\n\u001b[0;32m   1798\u001b[0m     \u001b[38;5;28;01mif\u001b[39;00m \u001b[38;5;129;01mnot\u001b[39;00m evt_handled:\n\u001b[1;32m-> 1799\u001b[0m         \u001b[38;5;28mself\u001b[39m\u001b[38;5;241m.\u001b[39mdialect\u001b[38;5;241m.\u001b[39mdo_executemany(\n\u001b[0;32m   1800\u001b[0m             cursor, statement, parameters, context\n\u001b[0;32m   1801\u001b[0m         )\n\u001b[0;32m   1802\u001b[0m \u001b[38;5;28;01melif\u001b[39;00m \u001b[38;5;129;01mnot\u001b[39;00m parameters \u001b[38;5;129;01mand\u001b[39;00m context\u001b[38;5;241m.\u001b[39mno_parameters:\n\u001b[0;32m   1803\u001b[0m     \u001b[38;5;28;01mif\u001b[39;00m \u001b[38;5;28mself\u001b[39m\u001b[38;5;241m.\u001b[39mdialect\u001b[38;5;241m.\u001b[39m_has_events:\n",
      "File \u001b[1;32m~\\anaconda3\\Lib\\site-packages\\sqlalchemy\\engine\\default.py:729\u001b[0m, in \u001b[0;36mDefaultDialect.do_executemany\u001b[1;34m(self, cursor, statement, parameters, context)\u001b[0m\n\u001b[0;32m    728\u001b[0m \u001b[38;5;28;01mdef\u001b[39;00m \u001b[38;5;21mdo_executemany\u001b[39m(\u001b[38;5;28mself\u001b[39m, cursor, statement, parameters, context\u001b[38;5;241m=\u001b[39m\u001b[38;5;28;01mNone\u001b[39;00m):\n\u001b[1;32m--> 729\u001b[0m     cursor\u001b[38;5;241m.\u001b[39mexecutemany(statement, parameters)\n",
      "\u001b[1;31mIntegrityError\u001b[0m: (sqlite3.IntegrityError) UNIQUE constraint failed: industry_groups.industry_id\n[SQL: INSERT INTO industry_groups (industry_name, industry_id) VALUES (?, ?)]\n[parameters: (('Automobiles & Components', 1), ('Banks', 2), ('Capital Goods', 3), ('Class Pend', 4), ('Commercial & Professional Services', 5), ('Consumer Discretionary Distribution & Retail', 6), ('Consumer Durables & Apparel', 7), ('Consumer Services', 8)  ... displaying 10 of 27 total bound parameter sets ...  ('Transportation', 26), ('Utilities', 27))]\n(Background on this error at: https://sqlalche.me/e/14/gkpj)"
     ]
    }
   ],
   "source": [
    "# from sqlalchemy.orm import sessionmaker\n",
    "\n",
    "# Insert DataFrames into Database\n",
    "Session = sessionmaker(bind=engine)\n",
    "session = Session()\n",
    "\n",
    "# Insert IndustryGroups\n",
    "session.bulk_insert_mappings(IndustryGroups, industry_groups_df.to_dict(orient=\"records\"))\n",
    "\n",
    "# Insert TopTen\n",
    "session.bulk_insert_mappings(TopTen, top_ten_df.to_dict(orient=\"records\"))\n",
    "\n",
    "# Insert TopTenHistoric\n",
    "session.bulk_insert_mappings(TopTenHistoric, top_ten_historic_df.to_dict(orient=\"records\"))\n",
    "\n",
    "# Insert ASX_Fundamental\n",
    "session.bulk_insert_mappings(Fundamental, fundamental_df_clean.to_dict(orient=\"records\"))\n",
    "\n",
    "\n"
   ]
  },
  {
   "cell_type": "code",
   "execution_count": 18,
   "id": "057a75da-b512-446a-bc6e-d5a9e53c6539",
   "metadata": {
    "tags": []
   },
   "outputs": [],
   "source": [
    "# #commit changes\n",
    "#session.commit()"
   ]
  },
  {
   "cell_type": "code",
   "execution_count": null,
   "id": "ac595c54-fb53-4500-8d75-288bbdba1612",
   "metadata": {},
   "outputs": [],
   "source": [
    "# #Query the Database and Create DataFrame\n",
    "# # Example: Querying the TopTen table and creating a DataFrame\n",
    "# top_ten_query = session.query(TopTen).all()\n",
    "# asx = pd.DataFrame([{\n",
    "#     'ticker': record.ticker,\n",
    "#     'company_name': record.company_name,\n",
    "#     'market_cap': record.market_cap,\n",
    "#     'industry_id': record.industry_id\n",
    "# } for record in top_ten_query])\n",
    "\n",
    "# print(asx)\n"
   ]
  },
  {
   "cell_type": "code",
   "execution_count": 19,
   "id": "95fce3c2-9612-4227-81c7-680440277d4f",
   "metadata": {
    "tags": []
   },
   "outputs": [],
   "source": [
    "#import dependencies for inspector\n",
    "from sqlalchemy import inspect"
   ]
  },
  {
   "cell_type": "code",
   "execution_count": 20,
   "id": "44823547-3362-4698-9a85-80a4092b83da",
   "metadata": {
    "tags": []
   },
   "outputs": [],
   "source": [
    "# Instantiate an Inspector with the engine\n",
    "inspector = inspect(engine)"
   ]
  },
  {
   "cell_type": "code",
   "execution_count": 21,
   "id": "6201fbd9-7ade-46fe-ab01-87add0ef01e8",
   "metadata": {
    "tags": []
   },
   "outputs": [
    {
     "name": "stdout",
     "output_type": "stream",
     "text": [
      "['fundamental', 'industry_groups', 'top_ten', 'top_ten_historic']\n"
     ]
    }
   ],
   "source": [
    "# Get a list of table names\n",
    "table_names = inspector.get_table_names()\n",
    "print(table_names)"
   ]
  },
  {
   "cell_type": "code",
   "execution_count": 22,
   "id": "faf3b27b-cba3-4696-87fa-9cdcf7c3112a",
   "metadata": {
    "tags": []
   },
   "outputs": [
    {
     "name": "stdout",
     "output_type": "stream",
     "text": [
      "ticker\n",
      "company_name\n",
      "market_cap\n",
      "industry_id\n"
     ]
    }
   ],
   "source": [
    "#Get columns of top_ten_historic\n",
    "columns = inspector.get_columns('top_ten')\n",
    "for column in columns:\n",
    "    print(column['name'])"
   ]
  },
  {
   "cell_type": "code",
   "execution_count": 23,
   "id": "dd5c6f98-7651-45d9-b347-c4acb465312a",
   "metadata": {
    "tags": []
   },
   "outputs": [
    {
     "data": {
      "text/plain": [
       "['fundamental', 'industry_groups', 'top_ten', 'top_ten_historic']"
      ]
     },
     "execution_count": 23,
     "metadata": {},
     "output_type": "execute_result"
    }
   ],
   "source": [
    "#reflect database into ORM classes \n",
    "Base = automap_base()\n",
    "Base.prepare(autoload_with=engine)\n",
    "Base.classes.keys()"
   ]
  },
  {
   "cell_type": "code",
   "execution_count": 24,
   "id": "be152779-09ed-4284-a347-ca027fb2f732",
   "metadata": {
    "tags": []
   },
   "outputs": [],
   "source": [
    "#save a reference to the top_ten table as 'top_ten'\n",
    "top_ten = Base.classes.top_ten"
   ]
  },
  {
   "cell_type": "code",
   "execution_count": 25,
   "id": "208bbfda-cacd-4545-86aa-42ea8c47b4fb",
   "metadata": {
    "tags": []
   },
   "outputs": [],
   "source": [
    "#create a database session object\n",
    "session = Session(bind =engine)"
   ]
  },
  {
   "cell_type": "code",
   "execution_count": 26,
   "id": "7aa9d19f-4047-440a-a988-9724089182d5",
   "metadata": {
    "tags": []
   },
   "outputs": [
    {
     "data": {
      "text/plain": [
       "[('360',),\n",
       " ('4DS',),\n",
       " ('A2M',),\n",
       " ('AAC',),\n",
       " ('ABB',),\n",
       " ('ABV',),\n",
       " ('AD8',),\n",
       " ('AFI',),\n",
       " ('AFP',),\n",
       " ('AGL',),\n",
       " ('AHL',),\n",
       " ('AIA',),\n",
       " ('AIZ',),\n",
       " ('AKP',),\n",
       " ('ALD',),\n",
       " ('ALL',),\n",
       " ('ALQ',),\n",
       " ('ALU',),\n",
       " ('ALX',),\n",
       " ('AMC',),\n",
       " ('AMP',),\n",
       " ('ANN',),\n",
       " ('ANZ',),\n",
       " ('APA',),\n",
       " ('APE',),\n",
       " ('APM',),\n",
       " ('ARB',),\n",
       " ('ARG',),\n",
       " ('ASX',),\n",
       " ('AUB',),\n",
       " ('AUI',),\n",
       " ('AVH',),\n",
       " ('AVJ',),\n",
       " ('AX1',),\n",
       " ('AXE',),\n",
       " ('AZJ',),\n",
       " ('BAP',),\n",
       " ('BEN',),\n",
       " ('BFL',),\n",
       " ('BGA',),\n",
       " ('BGP',),\n",
       " ('BHP',),\n",
       " ('BIO',),\n",
       " ('BKI',),\n",
       " ('BLG',),\n",
       " ('BOQ',),\n",
       " ('BPT',),\n",
       " ('BRG',),\n",
       " ('BXB',),\n",
       " ('BXN',),\n",
       " ('CAR',),\n",
       " ('CBA',),\n",
       " ('CBO',),\n",
       " ('CCO',),\n",
       " ('CDA',),\n",
       " ('CEN',),\n",
       " ('CGC',),\n",
       " ('CGF',),\n",
       " ('CHC',),\n",
       " ('CNU',),\n",
       " ('COH',),\n",
       " ('COL',),\n",
       " ('CPU',),\n",
       " ('CSL',),\n",
       " ('CTD',),\n",
       " ('CUV',),\n",
       " ('CVW',),\n",
       " ('CWP',),\n",
       " ('CWY',),\n",
       " ('D2O',),\n",
       " ('DBI',),\n",
       " ('DDR',),\n",
       " ('DDT',),\n",
       " ('DHG',),\n",
       " ('DMP',),\n",
       " ('DOW',),\n",
       " ('DTL',),\n",
       " ('DTZ',),\n",
       " ('DXS',),\n",
       " ('DY6',),\n",
       " ('EBO',),\n",
       " ('EDV',),\n",
       " ('ELD',),\n",
       " ('ERD',),\n",
       " ('EVT',),\n",
       " ('EXL',),\n",
       " ('FBU',),\n",
       " ('FLT',),\n",
       " ('FMG',),\n",
       " ('FPH',),\n",
       " ('FRI',),\n",
       " ('FRW',),\n",
       " ('FSG',),\n",
       " ('FWD',),\n",
       " ('GAP',),\n",
       " ('GDG',),\n",
       " ('GLB',),\n",
       " ('GMG',),\n",
       " ('GNC',),\n",
       " ('GNE',),\n",
       " ('GNX',),\n",
       " ('GPT',),\n",
       " ('GQG',),\n",
       " ('GUD',),\n",
       " ('HCT',),\n",
       " ('HGH',),\n",
       " ('HPC',),\n",
       " ('HRE',),\n",
       " ('HTA',),\n",
       " ('HUB',),\n",
       " ('HVN',),\n",
       " ('IAG',),\n",
       " ('IEL',),\n",
       " ('IFT',),\n",
       " ('IKE',),\n",
       " ('IMM',),\n",
       " ('IMU',),\n",
       " ('ING',),\n",
       " ('IPH',),\n",
       " ('IVC',),\n",
       " ('JBH',),\n",
       " ('JDO',),\n",
       " ('JHG',),\n",
       " ('JHX',),\n",
       " ('JLG',),\n",
       " ('KLI',),\n",
       " ('KLS',),\n",
       " ('LGI',),\n",
       " ('LIC',),\n",
       " ('LLC',),\n",
       " ('LNW',),\n",
       " ('LOV',),\n",
       " ('LSF',),\n",
       " ('MAD',),\n",
       " ('MAQ',),\n",
       " ('MCP',),\n",
       " ('MCY',),\n",
       " ('MEZ',),\n",
       " ('MFF',),\n",
       " ('MGF',),\n",
       " ('MGR',),\n",
       " ('MIN',),\n",
       " ('MMM',),\n",
       " ('MMS',),\n",
       " ('MND',),\n",
       " ('MP1',),\n",
       " ('MPL',),\n",
       " ('MQG',),\n",
       " ('MSB',),\n",
       " ('MTS',),\n",
       " ('MXT',),\n",
       " ('MYX',),\n",
       " ('NAB',),\n",
       " ('NAN',),\n",
       " ('NEC',),\n",
       " ('NEM',),\n",
       " ('NEU',),\n",
       " ('NHC',),\n",
       " ('NHF',),\n",
       " ('NSR',),\n",
       " ('NST',),\n",
       " ('NVX',),\n",
       " ('NWL',),\n",
       " ('NWS',),\n",
       " ('NWSLV',),\n",
       " ('NXG',),\n",
       " ('NXT',),\n",
       " ('OML',),\n",
       " ('ORG',),\n",
       " ('OXT',),\n",
       " ('PDN',),\n",
       " ('PLS',),\n",
       " ('PME',),\n",
       " ('PMV',),\n",
       " ('PPC',),\n",
       " ('PSI',),\n",
       " ('PTL',),\n",
       " ('PVS',),\n",
       " ('PWH',),\n",
       " ('PXA',),\n",
       " ('QAL',),\n",
       " ('QAN',),\n",
       " ('QBE',),\n",
       " ('QUB',),\n",
       " ('RDX',),\n",
       " ('REA',),\n",
       " ('REH',),\n",
       " ('RHC',),\n",
       " ('RIC',),\n",
       " ('RIO',),\n",
       " ('RMD',),\n",
       " ('RPM',),\n",
       " ('RVS',),\n",
       " ('RWC',),\n",
       " ('RWL',),\n",
       " ('S32',),\n",
       " ('S3N',),\n",
       " ('S66',),\n",
       " ('SCG',),\n",
       " ('SDF',),\n",
       " ('SDR',),\n",
       " ('SEK',),\n",
       " ('SFC',),\n",
       " ('SGP',),\n",
       " ('SHL',),\n",
       " ('SHM',),\n",
       " ('SHV',),\n",
       " ('SIO',),\n",
       " ('SIQ',),\n",
       " ('SIX',),\n",
       " ('SKN',),\n",
       " ('SLB',),\n",
       " ('SLC',),\n",
       " ('SMN',),\n",
       " ('SNZ',),\n",
       " ('SOL',),\n",
       " ('SPK',),\n",
       " ('SPZ',),\n",
       " ('SQ2',),\n",
       " ('SRV',),\n",
       " ('STO',),\n",
       " ('SUL',),\n",
       " ('SUN',),\n",
       " ('SVW',),\n",
       " ('SWM',),\n",
       " ('SWP',),\n",
       " ('TAH',),\n",
       " ('TCL',),\n",
       " ('TLC',),\n",
       " ('TLS',),\n",
       " ('TLX',),\n",
       " ('TNE',),\n",
       " ('TPG',),\n",
       " ('TRE',),\n",
       " ('TUA',),\n",
       " ('TWD',),\n",
       " ('TWE',),\n",
       " ('UOS',),\n",
       " ('URW',),\n",
       " ('VCX',),\n",
       " ('VEA',),\n",
       " ('VMT',),\n",
       " ('VNT',),\n",
       " ('VUK',),\n",
       " ('WAM',),\n",
       " ('WAT',),\n",
       " ('WBC',),\n",
       " ('WBT',),\n",
       " ('WDS',),\n",
       " ('WEB',),\n",
       " ('WES',),\n",
       " ('WHC',),\n",
       " ('WLE',),\n",
       " ('WOR',),\n",
       " ('WOW',),\n",
       " ('WTC',),\n",
       " ('WTN',),\n",
       " ('XRO',),\n",
       " ('YAL',)]"
      ]
     },
     "execution_count": 26,
     "metadata": {},
     "output_type": "execute_result"
    }
   ],
   "source": [
    "#list all of the tickers found in the top_ten table \n",
    "session.query(top_ten.ticker).all()"
   ]
  },
  {
   "cell_type": "code",
   "execution_count": null,
   "id": "636c4a8e-f830-4def-a866-379026839be8",
   "metadata": {},
   "outputs": [],
   "source": []
  }
 ],
 "metadata": {
  "kernelspec": {
   "display_name": "Python 3 (ipykernel)",
   "language": "python",
   "name": "python3"
  },
  "language_info": {
   "codemirror_mode": {
    "name": "ipython",
    "version": 3
   },
   "file_extension": ".py",
   "mimetype": "text/x-python",
   "name": "python",
   "nbconvert_exporter": "python",
   "pygments_lexer": "ipython3",
   "version": "3.11.3"
  }
 },
 "nbformat": 4,
 "nbformat_minor": 5
}
