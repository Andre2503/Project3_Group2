{
 "cells": [
  {
   "cell_type": "code",
   "execution_count": 1,
   "id": "157e4918-d46f-48fe-aa38-9eeaec1556aa",
   "metadata": {},
   "outputs": [],
   "source": [
    "#import dependencies\n",
    "from sqlalchemy import create_engine, Column, Integer, String, Float, ForeignKey, Date\n",
    "from sqlalchemy.ext.declarative import declarative_base\n",
    "from sqlalchemy.orm import Session\n",
    "import pandas as pd\n",
    "from sqlalchemy.ext.automap import automap_base\n",
    "from sqlalchemy import func\n"
   ]
  },
  {
   "cell_type": "code",
   "execution_count": null,
   "id": "f9982bbd-6ad9-4a87-b604-cd84b1fc3ed1",
   "metadata": {},
   "outputs": [],
   "source": [
    "# Step 1: Read CSV Files into DataFrames\n",
    "industry_groups_df = pd.read_csv('Resources/Industry_Groups.csv')\n",
    "top_ten_df = pd.read_csv('Resources/top_ten_with_industryID.csv')\n",
    "top_ten_historic_df = pd.read_csv('Resources/top_ten_historic_5y.csv')\n",
    "top_ten_historic_df.head()"
   ]
  },
  {
   "cell_type": "code",
   "execution_count": null,
   "id": "851dfd25-d1b0-40a8-8829-76f823f8a644",
   "metadata": {},
   "outputs": [],
   "source": [
    "# #trying to see if i had any null values in 'Date' column of top_ten_historic_df\n",
    "# print(top_ten_historic_df['Ticker'].isnull().sum())"
   ]
  },
  {
   "cell_type": "code",
   "execution_count": null,
   "id": "74600ca6-4dbb-4367-8b7b-33e06e6dce74",
   "metadata": {},
   "outputs": [],
   "source": [
    "# top_ten_df.info()"
   ]
  },
  {
   "cell_type": "code",
   "execution_count": null,
   "id": "b52e06b7-4022-49f0-b2c1-1c27af362e70",
   "metadata": {},
   "outputs": [],
   "source": [
    "#convert datatype to date\n",
    "top_ten_historic_df['Date'] = pd.to_datetime(top_ten_historic_df['Date'])\n"
   ]
  },
  {
   "cell_type": "code",
   "execution_count": null,
   "id": "c17d3c75-3871-494d-bc6e-4a45e188c968",
   "metadata": {},
   "outputs": [],
   "source": [
    "top_ten_historic_df.info()"
   ]
  },
  {
   "cell_type": "code",
   "execution_count": null,
   "id": "73ca729a-b3b3-4ac7-901c-276a492de4f7",
   "metadata": {},
   "outputs": [],
   "source": [
    "# top_ten_historic_df['Date'] = pd.to_datetime(top_ten_historic_df['Date']).apply(lambda x: x.date())"
   ]
  },
  {
   "cell_type": "code",
   "execution_count": null,
   "id": "8988a7db-2a4a-41e5-8597-fd848b75c2db",
   "metadata": {},
   "outputs": [],
   "source": [
    "# print(top_ten_historic_df['Date'].unique())"
   ]
  },
  {
   "cell_type": "code",
   "execution_count": null,
   "id": "095b7048-3d83-4822-b61a-d3a384a1c5b2",
   "metadata": {},
   "outputs": [],
   "source": [
    "industry_groups_df.info()"
   ]
  },
  {
   "cell_type": "code",
   "execution_count": null,
   "id": "beac57a7-6de3-417c-ba58-20a8104a8382",
   "metadata": {},
   "outputs": [],
   "source": [
    "# Define Database Schema\n",
    "Base = declarative_base()\n",
    "\n",
    "class IndustryGroups(Base):\n",
    "    __tablename__ = 'industry_groups'\n",
    "    \n",
    "    industry_name = Column(String)\n",
    "    industry_id = Column(Integer, primary_key=True)\n",
    "    \n",
    "\n",
    "class TopTen(Base):\n",
    "    __tablename__ = 'top_ten'\n",
    "    \n",
    "    ticker = Column(String, primary_key=True)\n",
    "    company_name = Column(String)\n",
    "    market_cap = Column(Float)\n",
    "    industry_id = Column(Integer, ForeignKey('industry_groups.industry_id'))\n",
    "\n",
    "class TopTenHistoric(Base):\n",
    "    __tablename__ = 'top_ten_historic'\n",
    "    \n",
    "    id = Column (Integer, primary_key=True, autoincrement=True)\n",
    "    Ticker = Column(String, ForeignKey('top_ten.ticker'))\n",
    "    Date = Column(Date)\n",
    "    Open = Column(Float)\n",
    "    High = Column(Float)\n",
    "    Low = Column(Float)\n",
    "    Close = Column(Float)\n",
    "    Adj_Close = Column('Adj Close', Float)\n",
    "    Volume = Column(Integer)\n",
    "\n",
    "#Connect to the Database and Create Tables\n",
    "# Replace 'sqlite:///asx.db' with your actual database connection string\n",
    "engine = create_engine('sqlite:///Resources/top_ten_asx.db')\n",
    "Base.metadata.create_all(engine)\n"
   ]
  },
  {
   "cell_type": "code",
   "execution_count": null,
   "id": "0a0716d9-cb2b-4bae-969c-3e3bd1014314",
   "metadata": {},
   "outputs": [],
   "source": [
    "#Insert DataFrames into Database\n",
    "Session = sessionmaker(bind=engine)\n",
    "session = Session()\n",
    "\n",
    "# Insert IndustryGroups\n",
    "session.bulk_insert_mappings(IndustryGroups, industry_groups_df.to_dict(orient=\"records\"))\n",
    "\n",
    "# Insert TopTen\n",
    "session.bulk_insert_mappings(TopTen, top_ten_df.to_dict(orient=\"records\"))\n",
    "\n",
    "# Insert TopTenHistoric\n",
    "session.bulk_insert_mappings(TopTenHistoric, top_ten_historic_df.to_dict(orient=\"records\"))\n",
    "\n",
    "\n",
    "\n"
   ]
  },
  {
   "cell_type": "code",
   "execution_count": null,
   "id": "057a75da-b512-446a-bc6e-d5a9e53c6539",
   "metadata": {},
   "outputs": [],
   "source": [
    "# #commit changes\n",
    "# session.commit()"
   ]
  },
  {
   "cell_type": "code",
   "execution_count": null,
   "id": "ac595c54-fb53-4500-8d75-288bbdba1612",
   "metadata": {},
   "outputs": [],
   "source": []
  },
  {
   "cell_type": "code",
   "execution_count": 4,
   "id": "95fce3c2-9612-4227-81c7-680440277d4f",
   "metadata": {},
   "outputs": [],
   "source": [
    "#import dependencies for inspector\n",
    "from sqlalchemy import inspect"
   ]
  },
  {
   "cell_type": "code",
   "execution_count": null,
   "id": "44823547-3362-4698-9a85-80a4092b83da",
   "metadata": {},
   "outputs": [],
   "source": [
    "# Instantiate an Inspector with the engine\n",
    "inspector = inspect(engine)"
   ]
  },
  {
   "cell_type": "code",
   "execution_count": null,
   "id": "6201fbd9-7ade-46fe-ab01-87add0ef01e8",
   "metadata": {},
   "outputs": [],
   "source": [
    "# Get a list of table names\n",
    "table_names = inspector.get_table_names()\n",
    "print(table_names)"
   ]
  },
  {
   "cell_type": "code",
   "execution_count": null,
   "id": "faf3b27b-cba3-4696-87fa-9cdcf7c3112a",
   "metadata": {},
   "outputs": [],
   "source": [
    "#Get columns of top_ten_historic\n",
    "columns = inspector.get_columns('top_ten')\n",
    "for column in columns:\n",
    "    print(column['name'])"
   ]
  },
  {
   "cell_type": "code",
   "execution_count": null,
   "id": "dd5c6f98-7651-45d9-b347-c4acb465312a",
   "metadata": {},
   "outputs": [],
   "source": [
    "#reflect database into ORM classes \n",
    "Base = automap_base()\n",
    "Base.prepare(autoload_with=engine)\n",
    "Base.classes.keys()"
   ]
  },
  {
   "cell_type": "code",
   "execution_count": null,
   "id": "be152779-09ed-4284-a347-ca027fb2f732",
   "metadata": {},
   "outputs": [],
   "source": [
    "#save a reference to the top_ten table as 'top_ten'\n",
    "top_ten = Base.classes.top_ten"
   ]
  },
  {
   "cell_type": "code",
   "execution_count": null,
   "id": "208bbfda-cacd-4545-86aa-42ea8c47b4fb",
   "metadata": {},
   "outputs": [],
   "source": [
    "#create a database session object\n",
    "session = Session(engine)"
   ]
  },
  {
   "cell_type": "code",
   "execution_count": null,
   "id": "7aa9d19f-4047-440a-a988-9724089182d5",
   "metadata": {},
   "outputs": [],
   "source": [
    "#list all of the tickers found in the top_ten table \n",
    "session.query(top_ten.ticker).all()"
   ]
  },
  {
   "cell_type": "markdown",
   "id": "c3e90827-aa4a-4551-a6e0-950a250bb526",
   "metadata": {},
   "source": [
    "## Querying Existing tables"
   ]
  },
  {
   "cell_type": "code",
   "execution_count": 4,
   "id": "a895b593-2851-4f30-ab2d-7d99a01ed8d6",
   "metadata": {},
   "outputs": [],
   "source": [
    " # Create engine using the `top_ten_asx.db` database file\n",
    "engine = create_engine('sqlite:///Resources/top_ten_asx.db')\n"
   ]
  },
  {
   "cell_type": "code",
   "execution_count": 5,
   "id": "4d34fd0c-7f9b-4fb0-aa83-52c96196e693",
   "metadata": {},
   "outputs": [],
   "source": [
    "#Declare a Base using automap_base()\n",
    "Base = automap_base()"
   ]
  },
  {
   "cell_type": "code",
   "execution_count": 6,
   "id": "ff0dc0b6-5f60-4402-9fed-15f2da7d4d65",
   "metadata": {},
   "outputs": [],
   "source": [
    "# Use the Base class to reflect the database tables\n",
    "#examines the database, discover the tables and columns and relationships within the db, and set up Python classes.\n",
    "Base.prepare(autoload_with=engine)"
   ]
  },
  {
   "cell_type": "code",
   "execution_count": 7,
   "id": "9bb6f018-3faf-4573-9793-9adab3252a39",
   "metadata": {},
   "outputs": [
    {
     "data": {
      "text/plain": [
       "['industry_groups', 'top_ten', 'top_ten_historic']"
      ]
     },
     "execution_count": 7,
     "metadata": {},
     "output_type": "execute_result"
    }
   ],
   "source": [
    "# Print all of the classes mapped to the Base\n",
    "Base.classes.keys()"
   ]
  },
  {
   "cell_type": "code",
   "execution_count": 8,
   "id": "f8d10b17-035d-4a62-bd29-46679464f14c",
   "metadata": {},
   "outputs": [],
   "source": [
    "#assign classes/tables to a variable\n",
    "industry_groups = Base.classes.industry_groups\n",
    "top_ten = Base.classes.top_ten\n",
    "historic = Base.classes.top_ten_historic"
   ]
  },
  {
   "cell_type": "code",
   "execution_count": 9,
   "id": "bfd68995-6c7f-4546-9ce4-7dd401d29b2e",
   "metadata": {},
   "outputs": [
    {
     "data": {
      "text/plain": [
       "[Column('id', INTEGER(), table=<top_ten_historic>, primary_key=True, nullable=False),\n",
       " Column('Ticker', VARCHAR(), ForeignKey('top_ten.ticker'), table=<top_ten_historic>),\n",
       " Column('Date', DATE(), table=<top_ten_historic>),\n",
       " Column('Open', FLOAT(), table=<top_ten_historic>),\n",
       " Column('High', FLOAT(), table=<top_ten_historic>),\n",
       " Column('Low', FLOAT(), table=<top_ten_historic>),\n",
       " Column('Close', FLOAT(), table=<top_ten_historic>),\n",
       " Column('Adj Close', FLOAT(), table=<top_ten_historic>),\n",
       " Column('Volume', INTEGER(), table=<top_ten_historic>)]"
      ]
     },
     "execution_count": 9,
     "metadata": {},
     "output_type": "execute_result"
    }
   ],
   "source": [
    "[column for column in historic.__table__.columns]"
   ]
  },
  {
   "cell_type": "code",
   "execution_count": 10,
   "id": "8a561963-a746-4789-b07a-11af43d8816c",
   "metadata": {},
   "outputs": [],
   "source": [
    "#create a session\n",
    "session = Session(bind=engine)"
   ]
  },
  {
   "cell_type": "code",
   "execution_count": 11,
   "id": "fca9db20-9144-4df8-8ca9-4df6374324d9",
   "metadata": {},
   "outputs": [
    {
     "data": {
      "text/plain": [
       "{'_sa_instance_state': <sqlalchemy.orm.state.InstanceState at 0x139044fa0>,\n",
       " 'id': 1,\n",
       " 'Date': datetime.date(2018, 11, 5),\n",
       " 'High': 17.540000915527344,\n",
       " 'Close': 17.149999618530273,\n",
       " 'Volume': 1106127,\n",
       " 'Open': 17.1299991607666,\n",
       " 'Ticker': 'ARB',\n",
       " 'Low': 16.3700008392334,\n",
       " 'Adj Close': None}"
      ]
     },
     "execution_count": 11,
     "metadata": {},
     "output_type": "execute_result"
    }
   ],
   "source": [
    "#Display the row's columns and data in a dict format\n",
    "first_row = session.query(historic).first()\n",
    "first_row.__dict__"
   ]
  },
  {
   "cell_type": "code",
   "execution_count": null,
   "id": "e677b17f-c608-407f-8508-5d1ae6b6bdef",
   "metadata": {},
   "outputs": [],
   "source": [
    "\n"
   ]
  },
  {
   "cell_type": "code",
   "execution_count": 12,
   "id": "142f5ee6-ae0a-45ca-90f4-e4990fa91f42",
   "metadata": {},
   "outputs": [
    {
     "ename": "NoReferencedTableError",
     "evalue": "Foreign key associated with column 'fundamentals.Ticker' could not find table 'top_ten' with which to generate a foreign key to target column 'ticker'",
     "output_type": "error",
     "traceback": [
      "\u001b[0;31m---------------------------------------------------------------------------\u001b[0m",
      "\u001b[0;31mNoReferencedTableError\u001b[0m                    Traceback (most recent call last)",
      "Cell \u001b[0;32mIn[12], line 43\u001b[0m\n\u001b[1;32m     40\u001b[0m session \u001b[38;5;241m=\u001b[39m Session(engine)\n\u001b[1;32m     42\u001b[0m \u001b[38;5;66;03m# create the table associated with the NewTable class\u001b[39;00m\n\u001b[0;32m---> 43\u001b[0m \u001b[43mBase\u001b[49m\u001b[38;5;241;43m.\u001b[39;49m\u001b[43mmetadata\u001b[49m\u001b[38;5;241;43m.\u001b[39;49m\u001b[43mcreate_all\u001b[49m\u001b[43m(\u001b[49m\u001b[43mengine\u001b[49m\u001b[43m)\u001b[49m\n",
      "File \u001b[0;32m~/anaconda3/envs/PythonData/lib/python3.10/site-packages/sqlalchemy/sql/schema.py:4916\u001b[0m, in \u001b[0;36mMetaData.create_all\u001b[0;34m(self, bind, tables, checkfirst)\u001b[0m\n\u001b[1;32m   4914\u001b[0m \u001b[38;5;28;01mif\u001b[39;00m bind \u001b[38;5;129;01mis\u001b[39;00m \u001b[38;5;28;01mNone\u001b[39;00m:\n\u001b[1;32m   4915\u001b[0m     bind \u001b[38;5;241m=\u001b[39m _bind_or_error(\u001b[38;5;28mself\u001b[39m)\n\u001b[0;32m-> 4916\u001b[0m \u001b[43mbind\u001b[49m\u001b[38;5;241;43m.\u001b[39;49m\u001b[43m_run_ddl_visitor\u001b[49m\u001b[43m(\u001b[49m\n\u001b[1;32m   4917\u001b[0m \u001b[43m    \u001b[49m\u001b[43mddl\u001b[49m\u001b[38;5;241;43m.\u001b[39;49m\u001b[43mSchemaGenerator\u001b[49m\u001b[43m,\u001b[49m\u001b[43m \u001b[49m\u001b[38;5;28;43mself\u001b[39;49m\u001b[43m,\u001b[49m\u001b[43m \u001b[49m\u001b[43mcheckfirst\u001b[49m\u001b[38;5;241;43m=\u001b[39;49m\u001b[43mcheckfirst\u001b[49m\u001b[43m,\u001b[49m\u001b[43m \u001b[49m\u001b[43mtables\u001b[49m\u001b[38;5;241;43m=\u001b[39;49m\u001b[43mtables\u001b[49m\n\u001b[1;32m   4918\u001b[0m \u001b[43m\u001b[49m\u001b[43m)\u001b[49m\n",
      "File \u001b[0;32m~/anaconda3/envs/PythonData/lib/python3.10/site-packages/sqlalchemy/engine/base.py:3147\u001b[0m, in \u001b[0;36mEngine._run_ddl_visitor\u001b[0;34m(self, visitorcallable, element, **kwargs)\u001b[0m\n\u001b[1;32m   3145\u001b[0m \u001b[38;5;28;01mdef\u001b[39;00m \u001b[38;5;21m_run_ddl_visitor\u001b[39m(\u001b[38;5;28mself\u001b[39m, visitorcallable, element, \u001b[38;5;241m*\u001b[39m\u001b[38;5;241m*\u001b[39mkwargs):\n\u001b[1;32m   3146\u001b[0m     \u001b[38;5;28;01mwith\u001b[39;00m \u001b[38;5;28mself\u001b[39m\u001b[38;5;241m.\u001b[39mbegin() \u001b[38;5;28;01mas\u001b[39;00m conn:\n\u001b[0;32m-> 3147\u001b[0m         \u001b[43mconn\u001b[49m\u001b[38;5;241;43m.\u001b[39;49m\u001b[43m_run_ddl_visitor\u001b[49m\u001b[43m(\u001b[49m\u001b[43mvisitorcallable\u001b[49m\u001b[43m,\u001b[49m\u001b[43m \u001b[49m\u001b[43melement\u001b[49m\u001b[43m,\u001b[49m\u001b[43m \u001b[49m\u001b[38;5;241;43m*\u001b[39;49m\u001b[38;5;241;43m*\u001b[39;49m\u001b[43mkwargs\u001b[49m\u001b[43m)\u001b[49m\n",
      "File \u001b[0;32m~/anaconda3/envs/PythonData/lib/python3.10/site-packages/sqlalchemy/engine/base.py:2130\u001b[0m, in \u001b[0;36mConnection._run_ddl_visitor\u001b[0;34m(self, visitorcallable, element, **kwargs)\u001b[0m\n\u001b[1;32m   2123\u001b[0m \u001b[38;5;28;01mdef\u001b[39;00m \u001b[38;5;21m_run_ddl_visitor\u001b[39m(\u001b[38;5;28mself\u001b[39m, visitorcallable, element, \u001b[38;5;241m*\u001b[39m\u001b[38;5;241m*\u001b[39mkwargs):\n\u001b[1;32m   2124\u001b[0m \u001b[38;5;250m    \u001b[39m\u001b[38;5;124;03m\"\"\"run a DDL visitor.\u001b[39;00m\n\u001b[1;32m   2125\u001b[0m \n\u001b[1;32m   2126\u001b[0m \u001b[38;5;124;03m    This method is only here so that the MockConnection can change the\u001b[39;00m\n\u001b[1;32m   2127\u001b[0m \u001b[38;5;124;03m    options given to the visitor so that \"checkfirst\" is skipped.\u001b[39;00m\n\u001b[1;32m   2128\u001b[0m \n\u001b[1;32m   2129\u001b[0m \u001b[38;5;124;03m    \"\"\"\u001b[39;00m\n\u001b[0;32m-> 2130\u001b[0m     \u001b[43mvisitorcallable\u001b[49m\u001b[43m(\u001b[49m\u001b[38;5;28;43mself\u001b[39;49m\u001b[38;5;241;43m.\u001b[39;49m\u001b[43mdialect\u001b[49m\u001b[43m,\u001b[49m\u001b[43m \u001b[49m\u001b[38;5;28;43mself\u001b[39;49m\u001b[43m,\u001b[49m\u001b[43m \u001b[49m\u001b[38;5;241;43m*\u001b[39;49m\u001b[38;5;241;43m*\u001b[39;49m\u001b[43mkwargs\u001b[49m\u001b[43m)\u001b[49m\u001b[38;5;241;43m.\u001b[39;49m\u001b[43mtraverse_single\u001b[49m\u001b[43m(\u001b[49m\u001b[43melement\u001b[49m\u001b[43m)\u001b[49m\n",
      "File \u001b[0;32m~/anaconda3/envs/PythonData/lib/python3.10/site-packages/sqlalchemy/sql/visitors.py:524\u001b[0m, in \u001b[0;36mExternalTraversal.traverse_single\u001b[0;34m(self, obj, **kw)\u001b[0m\n\u001b[1;32m    522\u001b[0m meth \u001b[38;5;241m=\u001b[39m \u001b[38;5;28mgetattr\u001b[39m(v, \u001b[38;5;124m\"\u001b[39m\u001b[38;5;124mvisit_\u001b[39m\u001b[38;5;132;01m%s\u001b[39;00m\u001b[38;5;124m\"\u001b[39m \u001b[38;5;241m%\u001b[39m obj\u001b[38;5;241m.\u001b[39m__visit_name__, \u001b[38;5;28;01mNone\u001b[39;00m)\n\u001b[1;32m    523\u001b[0m \u001b[38;5;28;01mif\u001b[39;00m meth:\n\u001b[0;32m--> 524\u001b[0m     \u001b[38;5;28;01mreturn\u001b[39;00m \u001b[43mmeth\u001b[49m\u001b[43m(\u001b[49m\u001b[43mobj\u001b[49m\u001b[43m,\u001b[49m\u001b[43m \u001b[49m\u001b[38;5;241;43m*\u001b[39;49m\u001b[38;5;241;43m*\u001b[39;49m\u001b[43mkw\u001b[49m\u001b[43m)\u001b[49m\n",
      "File \u001b[0;32m~/anaconda3/envs/PythonData/lib/python3.10/site-packages/sqlalchemy/sql/ddl.py:827\u001b[0m, in \u001b[0;36mSchemaGenerator.visit_metadata\u001b[0;34m(self, metadata)\u001b[0m\n\u001b[1;32m    824\u001b[0m \u001b[38;5;28;01melse\u001b[39;00m:\n\u001b[1;32m    825\u001b[0m     tables \u001b[38;5;241m=\u001b[39m \u001b[38;5;28mlist\u001b[39m(metadata\u001b[38;5;241m.\u001b[39mtables\u001b[38;5;241m.\u001b[39mvalues())\n\u001b[0;32m--> 827\u001b[0m collection \u001b[38;5;241m=\u001b[39m \u001b[43msort_tables_and_constraints\u001b[49m\u001b[43m(\u001b[49m\n\u001b[1;32m    828\u001b[0m \u001b[43m    \u001b[49m\u001b[43m[\u001b[49m\u001b[43mt\u001b[49m\u001b[43m \u001b[49m\u001b[38;5;28;43;01mfor\u001b[39;49;00m\u001b[43m \u001b[49m\u001b[43mt\u001b[49m\u001b[43m \u001b[49m\u001b[38;5;129;43;01min\u001b[39;49;00m\u001b[43m \u001b[49m\u001b[43mtables\u001b[49m\u001b[43m \u001b[49m\u001b[38;5;28;43;01mif\u001b[39;49;00m\u001b[43m \u001b[49m\u001b[38;5;28;43mself\u001b[39;49m\u001b[38;5;241;43m.\u001b[39;49m\u001b[43m_can_create_table\u001b[49m\u001b[43m(\u001b[49m\u001b[43mt\u001b[49m\u001b[43m)\u001b[49m\u001b[43m]\u001b[49m\n\u001b[1;32m    829\u001b[0m \u001b[43m\u001b[49m\u001b[43m)\u001b[49m\n\u001b[1;32m    831\u001b[0m seq_coll \u001b[38;5;241m=\u001b[39m [\n\u001b[1;32m    832\u001b[0m     s\n\u001b[1;32m    833\u001b[0m     \u001b[38;5;28;01mfor\u001b[39;00m s \u001b[38;5;129;01min\u001b[39;00m metadata\u001b[38;5;241m.\u001b[39m_sequences\u001b[38;5;241m.\u001b[39mvalues()\n\u001b[1;32m    834\u001b[0m     \u001b[38;5;28;01mif\u001b[39;00m s\u001b[38;5;241m.\u001b[39mcolumn \u001b[38;5;129;01mis\u001b[39;00m \u001b[38;5;28;01mNone\u001b[39;00m \u001b[38;5;129;01mand\u001b[39;00m \u001b[38;5;28mself\u001b[39m\u001b[38;5;241m.\u001b[39m_can_create_sequence(s)\n\u001b[1;32m    835\u001b[0m ]\n\u001b[1;32m    837\u001b[0m event_collection \u001b[38;5;241m=\u001b[39m [t \u001b[38;5;28;01mfor\u001b[39;00m (t, fks) \u001b[38;5;129;01min\u001b[39;00m collection \u001b[38;5;28;01mif\u001b[39;00m t \u001b[38;5;129;01mis\u001b[39;00m \u001b[38;5;129;01mnot\u001b[39;00m \u001b[38;5;28;01mNone\u001b[39;00m]\n",
      "File \u001b[0;32m~/anaconda3/envs/PythonData/lib/python3.10/site-packages/sqlalchemy/sql/ddl.py:1291\u001b[0m, in \u001b[0;36msort_tables_and_constraints\u001b[0;34m(tables, filter_fn, extra_dependencies, _warn_for_cycles)\u001b[0m\n\u001b[1;32m   1288\u001b[0m         remaining_fkcs\u001b[38;5;241m.\u001b[39madd(fkc)\n\u001b[1;32m   1289\u001b[0m         \u001b[38;5;28;01mcontinue\u001b[39;00m\n\u001b[0;32m-> 1291\u001b[0m dependent_on \u001b[38;5;241m=\u001b[39m \u001b[43mfkc\u001b[49m\u001b[38;5;241;43m.\u001b[39;49m\u001b[43mreferred_table\u001b[49m\n\u001b[1;32m   1292\u001b[0m \u001b[38;5;28;01mif\u001b[39;00m dependent_on \u001b[38;5;129;01mis\u001b[39;00m \u001b[38;5;129;01mnot\u001b[39;00m table:\n\u001b[1;32m   1293\u001b[0m     mutable_dependencies\u001b[38;5;241m.\u001b[39madd((dependent_on, table))\n",
      "File \u001b[0;32m~/anaconda3/envs/PythonData/lib/python3.10/site-packages/sqlalchemy/sql/schema.py:3832\u001b[0m, in \u001b[0;36mForeignKeyConstraint.referred_table\u001b[0;34m(self)\u001b[0m\n\u001b[1;32m   3820\u001b[0m \u001b[38;5;129m@property\u001b[39m\n\u001b[1;32m   3821\u001b[0m \u001b[38;5;28;01mdef\u001b[39;00m \u001b[38;5;21mreferred_table\u001b[39m(\u001b[38;5;28mself\u001b[39m):\n\u001b[1;32m   3822\u001b[0m \u001b[38;5;250m    \u001b[39m\u001b[38;5;124;03m\"\"\"The :class:`_schema.Table` object to which this\u001b[39;00m\n\u001b[1;32m   3823\u001b[0m \u001b[38;5;124;03m    :class:`_schema.ForeignKeyConstraint` references.\u001b[39;00m\n\u001b[1;32m   3824\u001b[0m \n\u001b[0;32m   (...)\u001b[0m\n\u001b[1;32m   3830\u001b[0m \n\u001b[1;32m   3831\u001b[0m \u001b[38;5;124;03m    \"\"\"\u001b[39;00m\n\u001b[0;32m-> 3832\u001b[0m     \u001b[38;5;28;01mreturn\u001b[39;00m \u001b[38;5;28;43mself\u001b[39;49m\u001b[38;5;241;43m.\u001b[39;49m\u001b[43melements\u001b[49m\u001b[43m[\u001b[49m\u001b[38;5;241;43m0\u001b[39;49m\u001b[43m]\u001b[49m\u001b[38;5;241;43m.\u001b[39;49m\u001b[43mcolumn\u001b[49m\u001b[38;5;241m.\u001b[39mtable\n",
      "File \u001b[0;32m~/anaconda3/envs/PythonData/lib/python3.10/site-packages/sqlalchemy/util/langhelpers.py:1113\u001b[0m, in \u001b[0;36mmemoized_property.__get__\u001b[0;34m(self, obj, cls)\u001b[0m\n\u001b[1;32m   1111\u001b[0m \u001b[38;5;28;01mif\u001b[39;00m obj \u001b[38;5;129;01mis\u001b[39;00m \u001b[38;5;28;01mNone\u001b[39;00m:\n\u001b[1;32m   1112\u001b[0m     \u001b[38;5;28;01mreturn\u001b[39;00m \u001b[38;5;28mself\u001b[39m\n\u001b[0;32m-> 1113\u001b[0m obj\u001b[38;5;241m.\u001b[39m\u001b[38;5;18m__dict__\u001b[39m[\u001b[38;5;28mself\u001b[39m\u001b[38;5;241m.\u001b[39m\u001b[38;5;18m__name__\u001b[39m] \u001b[38;5;241m=\u001b[39m result \u001b[38;5;241m=\u001b[39m \u001b[38;5;28;43mself\u001b[39;49m\u001b[38;5;241;43m.\u001b[39;49m\u001b[43mfget\u001b[49m\u001b[43m(\u001b[49m\u001b[43mobj\u001b[49m\u001b[43m)\u001b[49m\n\u001b[1;32m   1114\u001b[0m \u001b[38;5;28;01mreturn\u001b[39;00m result\n",
      "File \u001b[0;32m~/anaconda3/envs/PythonData/lib/python3.10/site-packages/sqlalchemy/sql/schema.py:2518\u001b[0m, in \u001b[0;36mForeignKey.column\u001b[0;34m(self)\u001b[0m\n\u001b[1;32m   2503\u001b[0m \u001b[38;5;129m@util\u001b[39m\u001b[38;5;241m.\u001b[39mmemoized_property\n\u001b[1;32m   2504\u001b[0m \u001b[38;5;28;01mdef\u001b[39;00m \u001b[38;5;21mcolumn\u001b[39m(\u001b[38;5;28mself\u001b[39m):\n\u001b[1;32m   2505\u001b[0m \u001b[38;5;250m    \u001b[39m\u001b[38;5;124;03m\"\"\"Return the target :class:`_schema.Column` referenced by this\u001b[39;00m\n\u001b[1;32m   2506\u001b[0m \u001b[38;5;124;03m    :class:`_schema.ForeignKey`.\u001b[39;00m\n\u001b[1;32m   2507\u001b[0m \n\u001b[0;32m   (...)\u001b[0m\n\u001b[1;32m   2515\u001b[0m \n\u001b[1;32m   2516\u001b[0m \u001b[38;5;124;03m    \"\"\"\u001b[39;00m\n\u001b[0;32m-> 2518\u001b[0m     \u001b[38;5;28;01mreturn\u001b[39;00m \u001b[38;5;28;43mself\u001b[39;49m\u001b[38;5;241;43m.\u001b[39;49m\u001b[43m_resolve_column\u001b[49m\u001b[43m(\u001b[49m\u001b[43m)\u001b[49m\n",
      "File \u001b[0;32m~/anaconda3/envs/PythonData/lib/python3.10/site-packages/sqlalchemy/sql/schema.py:2529\u001b[0m, in \u001b[0;36mForeignKey._resolve_column\u001b[0;34m(self, raiseerr)\u001b[0m\n\u001b[1;32m   2527\u001b[0m     \u001b[38;5;28;01mif\u001b[39;00m \u001b[38;5;129;01mnot\u001b[39;00m raiseerr:\n\u001b[1;32m   2528\u001b[0m         \u001b[38;5;28;01mreturn\u001b[39;00m \u001b[38;5;28;01mNone\u001b[39;00m\n\u001b[0;32m-> 2529\u001b[0m     \u001b[38;5;28;01mraise\u001b[39;00m exc\u001b[38;5;241m.\u001b[39mNoReferencedTableError(\n\u001b[1;32m   2530\u001b[0m         \u001b[38;5;124m\"\u001b[39m\u001b[38;5;124mForeign key associated with column \u001b[39m\u001b[38;5;124m'\u001b[39m\u001b[38;5;132;01m%s\u001b[39;00m\u001b[38;5;124m'\u001b[39m\u001b[38;5;124m could not find \u001b[39m\u001b[38;5;124m\"\u001b[39m\n\u001b[1;32m   2531\u001b[0m         \u001b[38;5;124m\"\u001b[39m\u001b[38;5;124mtable \u001b[39m\u001b[38;5;124m'\u001b[39m\u001b[38;5;132;01m%s\u001b[39;00m\u001b[38;5;124m'\u001b[39m\u001b[38;5;124m with which to generate a \u001b[39m\u001b[38;5;124m\"\u001b[39m\n\u001b[1;32m   2532\u001b[0m         \u001b[38;5;124m\"\u001b[39m\u001b[38;5;124mforeign key to target column \u001b[39m\u001b[38;5;124m'\u001b[39m\u001b[38;5;132;01m%s\u001b[39;00m\u001b[38;5;124m'\u001b[39m\u001b[38;5;124m\"\u001b[39m\n\u001b[1;32m   2533\u001b[0m         \u001b[38;5;241m%\u001b[39m (\u001b[38;5;28mself\u001b[39m\u001b[38;5;241m.\u001b[39mparent, tablekey, colname),\n\u001b[1;32m   2534\u001b[0m         tablekey,\n\u001b[1;32m   2535\u001b[0m     )\n\u001b[1;32m   2536\u001b[0m \u001b[38;5;28;01melif\u001b[39;00m parenttable\u001b[38;5;241m.\u001b[39mkey \u001b[38;5;129;01mnot\u001b[39;00m \u001b[38;5;129;01min\u001b[39;00m parenttable\u001b[38;5;241m.\u001b[39mmetadata:\n\u001b[1;32m   2537\u001b[0m     \u001b[38;5;28;01mif\u001b[39;00m \u001b[38;5;129;01mnot\u001b[39;00m raiseerr:\n",
      "\u001b[0;31mNoReferencedTableError\u001b[0m: Foreign key associated with column 'fundamentals.Ticker' could not find table 'top_ten' with which to generate a foreign key to target column 'ticker'"
     ]
    }
   ],
   "source": [
    "# # create a new declarative base instance for defining new classes\n",
    "# engine = create_engine('sqlite:///Resources/top_ten_asx.db')\n",
    "# Base = declarative_base()\n",
    "\n",
    "# class Fundamentals(Base):\n",
    "#     __tablename__ = 'fundamentals'\n",
    "    \n",
    "#     fundamental_ID = Column(Integer, primary_key=True)\n",
    "#     Ticker = Column(String, ForeignKey('top_ten.ticker'))\n",
    "#     lastPrice = Column (Float)\n",
    "#     Change = Column(String) \n",
    "#     Bid_Ask = Column(String) \n",
    "#     volumePerDay = Column(Float)\n",
    "#     volume4wAvg= Column(Float)\n",
    "#     Open = Column(Float)\n",
    "#     dayRange = Column(Float)\n",
    "#     prevClose = Column(String) \n",
    "#     lastTrade = Column(String)\n",
    "#     oneWeek = Column(String)\n",
    "#     oneMonth = Column(String)\n",
    "#     YTD2023 = Column(String)\n",
    "#     oneYear = Column(String)\n",
    "#     vsSectorOneYr = Column(String)\n",
    "#     vsASX200OneYr = Column(String)\n",
    "#     marketCap = Column(Float)\n",
    "#     ASXRank = Column(String)\n",
    "#     sectorRank = Column(String)\n",
    "#     sharesIssued = Column(Float)\n",
    "#     Sector = Column(String)\n",
    "#     similarCompanies = Column(String)\n",
    "#     EPS = Column(Float)\n",
    "#     DPS = Column(Float)\n",
    "#     bookValuePerShare = Column(Float)\n",
    "#     Breakdown = Column(String)\n",
    "#     Recommendation = Column(String)\n",
    "#     lastUpdated = Column(String)\n",
    "#     PE = Column(Float)\n",
    "\n",
    "\n",
    "# session = Session(engine)\n",
    "\n",
    "# # create the table associated with the NewTable class\n",
    "# Base.metadata.create_all(engine)"
   ]
  },
  {
   "cell_type": "code",
   "execution_count": null,
   "id": "c2002b14-834a-4109-a477-49d9b2c20c54",
   "metadata": {},
   "outputs": [],
   "source": []
  }
 ],
 "metadata": {
  "kernelspec": {
   "display_name": "PythonData",
   "language": "python",
   "name": "pythondata"
  },
  "language_info": {
   "codemirror_mode": {
    "name": "ipython",
    "version": 3
   },
   "file_extension": ".py",
   "mimetype": "text/x-python",
   "name": "python",
   "nbconvert_exporter": "python",
   "pygments_lexer": "ipython3",
   "version": "3.10.12"
  }
 },
 "nbformat": 4,
 "nbformat_minor": 5
}
