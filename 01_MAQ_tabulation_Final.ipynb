{
 "cells": [
  {
   "cell_type": "markdown",
   "id": "32e440d2-46b6-4048-b73d-ee64563ce920",
   "metadata": {},
   "source": [
    "### Codes to read directly from Etherscan io using API Key\n",
    "##### Put into dataframe\n",
    "###### Add Method Column for Mint, Burn, Transfer, Swap and Withdraw\n",
    "###### Calculate cummulative Mint, cummulative Burn and Cummulative Total\n",
    "###### Plot Mint vs Burn\n",
    "###### Plot Cumm Mint, Cumm Burn and Cumm Total"
   ]
  },
  {
   "cell_type": "code",
   "execution_count": 1,
   "id": "246c9bec-e2d2-48a7-9b79-ed285dd036a3",
   "metadata": {},
   "outputs": [],
   "source": [
    "# Dependencies\n",
    "import pandas as pd\n",
    "import numpy as np\n",
    "import requests\n",
    "import json\n",
    "from pathlib import Path\n",
    "from matplotlib.ticker import FuncFormatter\n",
    "import matplotlib.pyplot as plt\n",
    "from datetime import datetime  \n",
    "\n",
    "\n",
    "# Import the API key\n",
    "from config import etherscan_io_API_key"
   ]
  },
  {
   "cell_type": "markdown",
   "id": "3c261f8a-f1a8-4575-904f-196f94ce30a6",
   "metadata": {},
   "source": [
    "Find all the data pertaining to TFXC token address.\n",
    "\n",
    "https://etherscan.io/token/0x4d9ad77b5f5d6032eafe2218b09edb3401ea2eef\n",
    "\n",
    "Contract address:  0xAf5B874Cd35e946444b350820308280D7Be4Cd70"
   ]
  },
  {
   "cell_type": "markdown",
   "id": "a7c89ada-36d7-4760-b6e4-6854686992ca",
   "metadata": {},
   "source": [
    "#### Codes to rerieve all the TFX data direct from Etherscan and put into dataframe"
   ]
  },
  {
   "cell_type": "code",
   "execution_count": 2,
   "id": "6414aff5-311a-4c7a-9135-49dbb0c2f338",
   "metadata": {},
   "outputs": [
    {
     "data": {
      "text/html": [
       "<div>\n",
       "<style scoped>\n",
       "    .dataframe tbody tr th:only-of-type {\n",
       "        vertical-align: middle;\n",
       "    }\n",
       "\n",
       "    .dataframe tbody tr th {\n",
       "        vertical-align: top;\n",
       "    }\n",
       "\n",
       "    .dataframe thead th {\n",
       "        text-align: right;\n",
       "    }\n",
       "</style>\n",
       "<table border=\"1\" class=\"dataframe\">\n",
       "  <thead>\n",
       "    <tr style=\"text-align: right;\">\n",
       "      <th></th>\n",
       "      <th>Transaction_Hash</th>\n",
       "      <th>Date</th>\n",
       "      <th>From</th>\n",
       "      <th>To</th>\n",
       "      <th>Quantity</th>\n",
       "    </tr>\n",
       "  </thead>\n",
       "  <tbody>\n",
       "    <tr>\n",
       "      <th>0</th>\n",
       "      <td>0xf75edd9a32f9a74a297eb219ba216555cd74c9a73fec...</td>\n",
       "      <td>2023-10-22 08:17:47</td>\n",
       "      <td>0x0000000000000000000000000000000000000000</td>\n",
       "      <td>0x9e238ee08297ee90a34ab61980a296d1768b7de6</td>\n",
       "      <td>964783.21</td>\n",
       "    </tr>\n",
       "    <tr>\n",
       "      <th>1</th>\n",
       "      <td>0x3c39f76dd224643af50632a3426cdac40a5b71ea9268...</td>\n",
       "      <td>2023-10-15 09:45:11</td>\n",
       "      <td>0x0000000000000000000000000000000000000000</td>\n",
       "      <td>0x9e238ee08297ee90a34ab61980a296d1768b7de6</td>\n",
       "      <td>2102431.31</td>\n",
       "    </tr>\n",
       "    <tr>\n",
       "      <th>2</th>\n",
       "      <td>0x9f2c192528eea5d5eb73b20f194f208a70fba4722df4...</td>\n",
       "      <td>2023-10-08 09:23:11</td>\n",
       "      <td>0x0000000000000000000000000000000000000000</td>\n",
       "      <td>0x9e238ee08297ee90a34ab61980a296d1768b7de6</td>\n",
       "      <td>1708222.19</td>\n",
       "    </tr>\n",
       "    <tr>\n",
       "      <th>3</th>\n",
       "      <td>0xa5236c7e38a0d522b76504fb0bd8813b38f3e401fa92...</td>\n",
       "      <td>2023-10-01 10:07:47</td>\n",
       "      <td>0x0000000000000000000000000000000000000000</td>\n",
       "      <td>0x9e238ee08297ee90a34ab61980a296d1768b7de6</td>\n",
       "      <td>2232532.29</td>\n",
       "    </tr>\n",
       "    <tr>\n",
       "      <th>4</th>\n",
       "      <td>0x56b563cdeb391980ddd2354d5d0725087ac306c952f7...</td>\n",
       "      <td>2023-09-24 11:20:11</td>\n",
       "      <td>0x0000000000000000000000000000000000000000</td>\n",
       "      <td>0x9e238ee08297ee90a34ab61980a296d1768b7de6</td>\n",
       "      <td>1944871.38</td>\n",
       "    </tr>\n",
       "  </tbody>\n",
       "</table>\n",
       "</div>"
      ],
      "text/plain": [
       "                                    Transaction_Hash                Date  \\\n",
       "0  0xf75edd9a32f9a74a297eb219ba216555cd74c9a73fec... 2023-10-22 08:17:47   \n",
       "1  0x3c39f76dd224643af50632a3426cdac40a5b71ea9268... 2023-10-15 09:45:11   \n",
       "2  0x9f2c192528eea5d5eb73b20f194f208a70fba4722df4... 2023-10-08 09:23:11   \n",
       "3  0xa5236c7e38a0d522b76504fb0bd8813b38f3e401fa92... 2023-10-01 10:07:47   \n",
       "4  0x56b563cdeb391980ddd2354d5d0725087ac306c952f7... 2023-09-24 11:20:11   \n",
       "\n",
       "                                         From  \\\n",
       "0  0x0000000000000000000000000000000000000000   \n",
       "1  0x0000000000000000000000000000000000000000   \n",
       "2  0x0000000000000000000000000000000000000000   \n",
       "3  0x0000000000000000000000000000000000000000   \n",
       "4  0x0000000000000000000000000000000000000000   \n",
       "\n",
       "                                           To    Quantity  \n",
       "0  0x9e238ee08297ee90a34ab61980a296d1768b7de6   964783.21  \n",
       "1  0x9e238ee08297ee90a34ab61980a296d1768b7de6  2102431.31  \n",
       "2  0x9e238ee08297ee90a34ab61980a296d1768b7de6  1708222.19  \n",
       "3  0x9e238ee08297ee90a34ab61980a296d1768b7de6  2232532.29  \n",
       "4  0x9e238ee08297ee90a34ab61980a296d1768b7de6  1944871.38  "
      ]
     },
     "execution_count": 2,
     "metadata": {},
     "output_type": "execute_result"
    }
   ],
   "source": [
    "# Set the contract address\n",
    "contractaddress = \"0x4D9Ad77B5f5d6032eAfe2218B09edB3401ea2eEf\"\n",
    "\n",
    "# Set the parameters for the type of search\n",
    "page = 1\n",
    "offset = 3700\n",
    "startblock = 0\n",
    "endblock = 99999999\n",
    "sort = \"desc\"\n",
    "\n",
    "# set up a parameters dictionary\n",
    "params = {\n",
    "    \"contractaddress\": contractaddress,\n",
    "    \"page\": page,\n",
    "    \"offset\": offset,\n",
    "    \"startblock\": startblock,\n",
    "    \"endblock\": endblock,\n",
    "    \"sort\": sort,\n",
    "    \"apikey\": etherscan_io_API_key  # Make sure etherscan_io_API_key is defined\n",
    "}\n",
    "\n",
    "# Set base URL\n",
    "base_url = \"https://api.etherscan.io/api?module=account&action=tokentx\"\n",
    "\n",
    "# Construct the full URL\n",
    "full_url = base_url + \"&\" + \"&\".join([f\"{key}={value}\" for key, value in params.items()])\n",
    "\n",
    "# Make the GET request\n",
    "tfx_url = requests.get(full_url)\n",
    "\n",
    "# Convert the API response to JSON format\n",
    "tfx = tfx_url.json()\n",
    "\n",
    "# Extract the relevant data from the result list\n",
    "transactions = tfx[\"result\"]\n",
    "\n",
    "# Create a list of dictionaries containing the relevant data\n",
    "data_list = [\n",
    "    {\n",
    "        \"Transaction_Hash\": transaction[\"hash\"],\n",
    "        \"Date\": pd.to_datetime(int(transaction[\"timeStamp\"]), unit='s'),\n",
    "        \"From\": transaction[\"from\"],\n",
    "        \"To\": transaction[\"to\"],\n",
    "        \"Quantity\": float(transaction[\"value\"]) / 10**6  # Convert value to float (assuming it's in wei)\n",
    "    }\n",
    "    for transaction in transactions\n",
    "]\n",
    "\n",
    "# Create a DataFrame from the list of dictionaries\n",
    "df = pd.DataFrame(data_list)\n",
    "\n",
    "# Print the DataFrame\n",
    "df.head()"
   ]
  },
  {
   "cell_type": "markdown",
   "id": "d458c4dd-ec4f-4cc6-97ac-8e334a94a070",
   "metadata": {},
   "source": [
    "#### Code to create a new column Method and assign Mint, Burn, Swap, Withdraw and Execute base do conditions"
   ]
  },
  {
   "cell_type": "code",
   "execution_count": 3,
   "id": "69a60406-6242-4b57-8ebf-dc096fe4c724",
   "metadata": {},
   "outputs": [
    {
     "data": {
      "text/html": [
       "<div>\n",
       "<style scoped>\n",
       "    .dataframe tbody tr th:only-of-type {\n",
       "        vertical-align: middle;\n",
       "    }\n",
       "\n",
       "    .dataframe tbody tr th {\n",
       "        vertical-align: top;\n",
       "    }\n",
       "\n",
       "    .dataframe thead th {\n",
       "        text-align: right;\n",
       "    }\n",
       "</style>\n",
       "<table border=\"1\" class=\"dataframe\">\n",
       "  <thead>\n",
       "    <tr style=\"text-align: right;\">\n",
       "      <th></th>\n",
       "      <th>Transaction_Hash</th>\n",
       "      <th>Date</th>\n",
       "      <th>From</th>\n",
       "      <th>To</th>\n",
       "      <th>Quantity</th>\n",
       "      <th>Method</th>\n",
       "    </tr>\n",
       "  </thead>\n",
       "  <tbody>\n",
       "    <tr>\n",
       "      <th>0</th>\n",
       "      <td>0xf75edd9a32f9a74a297eb219ba216555cd74c9a73fec...</td>\n",
       "      <td>2023-10-22 08:17:47</td>\n",
       "      <td>0x0000000000000000000000000000000000000000</td>\n",
       "      <td>0x9e238ee08297ee90a34ab61980a296d1768b7de6</td>\n",
       "      <td>964783.21</td>\n",
       "      <td>Mint</td>\n",
       "    </tr>\n",
       "    <tr>\n",
       "      <th>1</th>\n",
       "      <td>0x3c39f76dd224643af50632a3426cdac40a5b71ea9268...</td>\n",
       "      <td>2023-10-15 09:45:11</td>\n",
       "      <td>0x0000000000000000000000000000000000000000</td>\n",
       "      <td>0x9e238ee08297ee90a34ab61980a296d1768b7de6</td>\n",
       "      <td>2102431.31</td>\n",
       "      <td>Mint</td>\n",
       "    </tr>\n",
       "    <tr>\n",
       "      <th>2</th>\n",
       "      <td>0x9f2c192528eea5d5eb73b20f194f208a70fba4722df4...</td>\n",
       "      <td>2023-10-08 09:23:11</td>\n",
       "      <td>0x0000000000000000000000000000000000000000</td>\n",
       "      <td>0x9e238ee08297ee90a34ab61980a296d1768b7de6</td>\n",
       "      <td>1708222.19</td>\n",
       "      <td>Mint</td>\n",
       "    </tr>\n",
       "    <tr>\n",
       "      <th>3</th>\n",
       "      <td>0xa5236c7e38a0d522b76504fb0bd8813b38f3e401fa92...</td>\n",
       "      <td>2023-10-01 10:07:47</td>\n",
       "      <td>0x0000000000000000000000000000000000000000</td>\n",
       "      <td>0x9e238ee08297ee90a34ab61980a296d1768b7de6</td>\n",
       "      <td>2232532.29</td>\n",
       "      <td>Mint</td>\n",
       "    </tr>\n",
       "    <tr>\n",
       "      <th>4</th>\n",
       "      <td>0x56b563cdeb391980ddd2354d5d0725087ac306c952f7...</td>\n",
       "      <td>2023-09-24 11:20:11</td>\n",
       "      <td>0x0000000000000000000000000000000000000000</td>\n",
       "      <td>0x9e238ee08297ee90a34ab61980a296d1768b7de6</td>\n",
       "      <td>1944871.38</td>\n",
       "      <td>Mint</td>\n",
       "    </tr>\n",
       "  </tbody>\n",
       "</table>\n",
       "</div>"
      ],
      "text/plain": [
       "                                    Transaction_Hash                Date  \\\n",
       "0  0xf75edd9a32f9a74a297eb219ba216555cd74c9a73fec... 2023-10-22 08:17:47   \n",
       "1  0x3c39f76dd224643af50632a3426cdac40a5b71ea9268... 2023-10-15 09:45:11   \n",
       "2  0x9f2c192528eea5d5eb73b20f194f208a70fba4722df4... 2023-10-08 09:23:11   \n",
       "3  0xa5236c7e38a0d522b76504fb0bd8813b38f3e401fa92... 2023-10-01 10:07:47   \n",
       "4  0x56b563cdeb391980ddd2354d5d0725087ac306c952f7... 2023-09-24 11:20:11   \n",
       "\n",
       "                                         From  \\\n",
       "0  0x0000000000000000000000000000000000000000   \n",
       "1  0x0000000000000000000000000000000000000000   \n",
       "2  0x0000000000000000000000000000000000000000   \n",
       "3  0x0000000000000000000000000000000000000000   \n",
       "4  0x0000000000000000000000000000000000000000   \n",
       "\n",
       "                                           To    Quantity Method  \n",
       "0  0x9e238ee08297ee90a34ab61980a296d1768b7de6   964783.21   Mint  \n",
       "1  0x9e238ee08297ee90a34ab61980a296d1768b7de6  2102431.31   Mint  \n",
       "2  0x9e238ee08297ee90a34ab61980a296d1768b7de6  1708222.19   Mint  \n",
       "3  0x9e238ee08297ee90a34ab61980a296d1768b7de6  2232532.29   Mint  \n",
       "4  0x9e238ee08297ee90a34ab61980a296d1768b7de6  1944871.38   Mint  "
      ]
     },
     "execution_count": 3,
     "metadata": {},
     "output_type": "execute_result"
    }
   ],
   "source": [
    "# Define a function to determine the method based on \"From\" and \"To\" values\n",
    "def determine_method(row):\n",
    "    if row[\"From\"] == \"0x0000000000000000000000000000000000000000\":\n",
    "        return \"Mint\"\n",
    "    elif row[\"To\"] == \"0x0000000000000000000000000000000000000000\":\n",
    "        return \"Burn\"\n",
    "    elif row[\"From\"] == \"0x74de5d4FCbf63E00296fd95d33236B9794016631\":\n",
    "        return \"Swap\"    \n",
    "    elif row[\"To\"] == \"0x74de5d4FCbf63E00296fd95d33236B9794016631\":\n",
    "        return \"Swap\"\n",
    "    elif row[\"To\"] == \"0xA4Cd30D9af7844aB48165C42fAa755004A54ce2e\":\n",
    "        return \"Withdraw\"\n",
    "    elif row[\"To\"] == \"0x64720B51B4e5439F994346a05f66C688A76e9324\":\n",
    "        return \"Execute\"\n",
    "    else:\n",
    "        return \"Transfer\"\n",
    "\n",
    "# Create the \"Method\" column using the apply method\n",
    "df[\"Method\"] = df.apply(determine_method, axis=1)\n",
    "df.head()"
   ]
  },
  {
   "cell_type": "markdown",
   "id": "e1fe7e78-bb01-4111-a9ef-05311637cecd",
   "metadata": {},
   "source": [
    "#### Sort the dataframe by Date ascending order prior to cummulative calculation for Mint and Burn"
   ]
  },
  {
   "cell_type": "code",
   "execution_count": 4,
   "id": "85acc4ea-ba74-46e8-91fd-6c2e842d6161",
   "metadata": {},
   "outputs": [
    {
     "data": {
      "text/html": [
       "<div>\n",
       "<style scoped>\n",
       "    .dataframe tbody tr th:only-of-type {\n",
       "        vertical-align: middle;\n",
       "    }\n",
       "\n",
       "    .dataframe tbody tr th {\n",
       "        vertical-align: top;\n",
       "    }\n",
       "\n",
       "    .dataframe thead th {\n",
       "        text-align: right;\n",
       "    }\n",
       "</style>\n",
       "<table border=\"1\" class=\"dataframe\">\n",
       "  <thead>\n",
       "    <tr style=\"text-align: right;\">\n",
       "      <th></th>\n",
       "      <th>Transaction_Hash</th>\n",
       "      <th>Date</th>\n",
       "      <th>From</th>\n",
       "      <th>To</th>\n",
       "      <th>Quantity</th>\n",
       "      <th>Method</th>\n",
       "    </tr>\n",
       "  </thead>\n",
       "  <tbody>\n",
       "    <tr>\n",
       "      <th>40</th>\n",
       "      <td>0x9d3877e240d05fa4c21c212d00f9f7fbc503823fad2e...</td>\n",
       "      <td>2023-04-04 11:33:23</td>\n",
       "      <td>0x0000000000000000000000000000000000000000</td>\n",
       "      <td>0x9e238ee08297ee90a34ab61980a296d1768b7de6</td>\n",
       "      <td>0.00</td>\n",
       "      <td>Mint</td>\n",
       "    </tr>\n",
       "    <tr>\n",
       "      <th>39</th>\n",
       "      <td>0xc323de733e817a7b8370b9e43b6a10f03e6c99523abb...</td>\n",
       "      <td>2023-04-11 02:47:35</td>\n",
       "      <td>0x0000000000000000000000000000000000000000</td>\n",
       "      <td>0x9e238ee08297ee90a34ab61980a296d1768b7de6</td>\n",
       "      <td>100.00</td>\n",
       "      <td>Mint</td>\n",
       "    </tr>\n",
       "    <tr>\n",
       "      <th>38</th>\n",
       "      <td>0xcbc61c8b62a87751b1c80cecd5c413c087e21e547487...</td>\n",
       "      <td>2023-04-11 08:52:23</td>\n",
       "      <td>0x0000000000000000000000000000000000000000</td>\n",
       "      <td>0x9e238ee08297ee90a34ab61980a296d1768b7de6</td>\n",
       "      <td>100.00</td>\n",
       "      <td>Mint</td>\n",
       "    </tr>\n",
       "    <tr>\n",
       "      <th>37</th>\n",
       "      <td>0xb1b58722fe297d1217f0c4c638d66506eb3abf72463a...</td>\n",
       "      <td>2023-04-16 16:03:23</td>\n",
       "      <td>0x0000000000000000000000000000000000000000</td>\n",
       "      <td>0x9e238ee08297ee90a34ab61980a296d1768b7de6</td>\n",
       "      <td>4682731.58</td>\n",
       "      <td>Mint</td>\n",
       "    </tr>\n",
       "    <tr>\n",
       "      <th>36</th>\n",
       "      <td>0xf0de7bca78542021839279e4cf26c17cd57dbbe9bef3...</td>\n",
       "      <td>2023-04-17 06:21:11</td>\n",
       "      <td>0x9e238ee08297ee90a34ab61980a296d1768b7de6</td>\n",
       "      <td>0xa4cd30d9af7844ab48165c42faa755004a54ce2e</td>\n",
       "      <td>2341365.79</td>\n",
       "      <td>Transfer</td>\n",
       "    </tr>\n",
       "  </tbody>\n",
       "</table>\n",
       "</div>"
      ],
      "text/plain": [
       "                                     Transaction_Hash                Date  \\\n",
       "40  0x9d3877e240d05fa4c21c212d00f9f7fbc503823fad2e... 2023-04-04 11:33:23   \n",
       "39  0xc323de733e817a7b8370b9e43b6a10f03e6c99523abb... 2023-04-11 02:47:35   \n",
       "38  0xcbc61c8b62a87751b1c80cecd5c413c087e21e547487... 2023-04-11 08:52:23   \n",
       "37  0xb1b58722fe297d1217f0c4c638d66506eb3abf72463a... 2023-04-16 16:03:23   \n",
       "36  0xf0de7bca78542021839279e4cf26c17cd57dbbe9bef3... 2023-04-17 06:21:11   \n",
       "\n",
       "                                          From  \\\n",
       "40  0x0000000000000000000000000000000000000000   \n",
       "39  0x0000000000000000000000000000000000000000   \n",
       "38  0x0000000000000000000000000000000000000000   \n",
       "37  0x0000000000000000000000000000000000000000   \n",
       "36  0x9e238ee08297ee90a34ab61980a296d1768b7de6   \n",
       "\n",
       "                                            To    Quantity    Method  \n",
       "40  0x9e238ee08297ee90a34ab61980a296d1768b7de6        0.00      Mint  \n",
       "39  0x9e238ee08297ee90a34ab61980a296d1768b7de6      100.00      Mint  \n",
       "38  0x9e238ee08297ee90a34ab61980a296d1768b7de6      100.00      Mint  \n",
       "37  0x9e238ee08297ee90a34ab61980a296d1768b7de6  4682731.58      Mint  \n",
       "36  0xa4cd30d9af7844ab48165c42faa755004a54ce2e  2341365.79  Transfer  "
      ]
     },
     "execution_count": 4,
     "metadata": {},
     "output_type": "execute_result"
    }
   ],
   "source": [
    "df = df.sort_values(by='Date', ascending=True)\n",
    "df.head()"
   ]
  },
  {
   "cell_type": "markdown",
   "id": "32807d06-c275-4596-960f-98b0cdc51d23",
   "metadata": {},
   "source": [
    "#### Create a new Column Cumm_Mint and Calculate the Cummulative Mint based on Method == \"Mint\""
   ]
  },
  {
   "cell_type": "code",
   "execution_count": 5,
   "id": "392b408a-6e2a-47e0-b0ca-589ca6e5687f",
   "metadata": {},
   "outputs": [
    {
     "data": {
      "text/html": [
       "<div>\n",
       "<style scoped>\n",
       "    .dataframe tbody tr th:only-of-type {\n",
       "        vertical-align: middle;\n",
       "    }\n",
       "\n",
       "    .dataframe tbody tr th {\n",
       "        vertical-align: top;\n",
       "    }\n",
       "\n",
       "    .dataframe thead th {\n",
       "        text-align: right;\n",
       "    }\n",
       "</style>\n",
       "<table border=\"1\" class=\"dataframe\">\n",
       "  <thead>\n",
       "    <tr style=\"text-align: right;\">\n",
       "      <th></th>\n",
       "      <th>Transaction_Hash</th>\n",
       "      <th>Date</th>\n",
       "      <th>From</th>\n",
       "      <th>To</th>\n",
       "      <th>Quantity</th>\n",
       "      <th>Method</th>\n",
       "      <th>Cumm_Mint</th>\n",
       "    </tr>\n",
       "  </thead>\n",
       "  <tbody>\n",
       "    <tr>\n",
       "      <th>40</th>\n",
       "      <td>0x9d3877e240d05fa4c21c212d00f9f7fbc503823fad2e...</td>\n",
       "      <td>2023-04-04 11:33:23</td>\n",
       "      <td>0x0000000000000000000000000000000000000000</td>\n",
       "      <td>0x9e238ee08297ee90a34ab61980a296d1768b7de6</td>\n",
       "      <td>0.00</td>\n",
       "      <td>Mint</td>\n",
       "      <td>0.00</td>\n",
       "    </tr>\n",
       "    <tr>\n",
       "      <th>39</th>\n",
       "      <td>0xc323de733e817a7b8370b9e43b6a10f03e6c99523abb...</td>\n",
       "      <td>2023-04-11 02:47:35</td>\n",
       "      <td>0x0000000000000000000000000000000000000000</td>\n",
       "      <td>0x9e238ee08297ee90a34ab61980a296d1768b7de6</td>\n",
       "      <td>100.00</td>\n",
       "      <td>Mint</td>\n",
       "      <td>100.00</td>\n",
       "    </tr>\n",
       "    <tr>\n",
       "      <th>38</th>\n",
       "      <td>0xcbc61c8b62a87751b1c80cecd5c413c087e21e547487...</td>\n",
       "      <td>2023-04-11 08:52:23</td>\n",
       "      <td>0x0000000000000000000000000000000000000000</td>\n",
       "      <td>0x9e238ee08297ee90a34ab61980a296d1768b7de6</td>\n",
       "      <td>100.00</td>\n",
       "      <td>Mint</td>\n",
       "      <td>200.00</td>\n",
       "    </tr>\n",
       "    <tr>\n",
       "      <th>37</th>\n",
       "      <td>0xb1b58722fe297d1217f0c4c638d66506eb3abf72463a...</td>\n",
       "      <td>2023-04-16 16:03:23</td>\n",
       "      <td>0x0000000000000000000000000000000000000000</td>\n",
       "      <td>0x9e238ee08297ee90a34ab61980a296d1768b7de6</td>\n",
       "      <td>4682731.58</td>\n",
       "      <td>Mint</td>\n",
       "      <td>4682931.58</td>\n",
       "    </tr>\n",
       "    <tr>\n",
       "      <th>36</th>\n",
       "      <td>0xf0de7bca78542021839279e4cf26c17cd57dbbe9bef3...</td>\n",
       "      <td>2023-04-17 06:21:11</td>\n",
       "      <td>0x9e238ee08297ee90a34ab61980a296d1768b7de6</td>\n",
       "      <td>0xa4cd30d9af7844ab48165c42faa755004a54ce2e</td>\n",
       "      <td>2341365.79</td>\n",
       "      <td>Transfer</td>\n",
       "      <td>4682931.58</td>\n",
       "    </tr>\n",
       "  </tbody>\n",
       "</table>\n",
       "</div>"
      ],
      "text/plain": [
       "                                     Transaction_Hash                Date  \\\n",
       "40  0x9d3877e240d05fa4c21c212d00f9f7fbc503823fad2e... 2023-04-04 11:33:23   \n",
       "39  0xc323de733e817a7b8370b9e43b6a10f03e6c99523abb... 2023-04-11 02:47:35   \n",
       "38  0xcbc61c8b62a87751b1c80cecd5c413c087e21e547487... 2023-04-11 08:52:23   \n",
       "37  0xb1b58722fe297d1217f0c4c638d66506eb3abf72463a... 2023-04-16 16:03:23   \n",
       "36  0xf0de7bca78542021839279e4cf26c17cd57dbbe9bef3... 2023-04-17 06:21:11   \n",
       "\n",
       "                                          From  \\\n",
       "40  0x0000000000000000000000000000000000000000   \n",
       "39  0x0000000000000000000000000000000000000000   \n",
       "38  0x0000000000000000000000000000000000000000   \n",
       "37  0x0000000000000000000000000000000000000000   \n",
       "36  0x9e238ee08297ee90a34ab61980a296d1768b7de6   \n",
       "\n",
       "                                            To    Quantity    Method  \\\n",
       "40  0x9e238ee08297ee90a34ab61980a296d1768b7de6        0.00      Mint   \n",
       "39  0x9e238ee08297ee90a34ab61980a296d1768b7de6      100.00      Mint   \n",
       "38  0x9e238ee08297ee90a34ab61980a296d1768b7de6      100.00      Mint   \n",
       "37  0x9e238ee08297ee90a34ab61980a296d1768b7de6  4682731.58      Mint   \n",
       "36  0xa4cd30d9af7844ab48165c42faa755004a54ce2e  2341365.79  Transfer   \n",
       "\n",
       "     Cumm_Mint  \n",
       "40        0.00  \n",
       "39      100.00  \n",
       "38      200.00  \n",
       "37  4682931.58  \n",
       "36  4682931.58  "
      ]
     },
     "execution_count": 5,
     "metadata": {},
     "output_type": "execute_result"
    }
   ],
   "source": [
    "# Initialize a variable to keep track of the cumulative sum for Mint transactions\n",
    "cumulative_mint = 0\n",
    "\n",
    "# Create a new column \"Cumm_Mint\" and initialize it with NaN\n",
    "df['Cumm_Mint'] = float('nan')\n",
    "\n",
    "# Calculate the cumulative sum of \"Quantity\" for rows where \"Method\" is \"Mint\"\n",
    "for index, row in df.iterrows():\n",
    "    if row['Method'] == 'Mint':\n",
    "        cumulative_mint += row['Quantity']\n",
    "    df.at[index, 'Cumm_Mint'] = cumulative_mint\n",
    "\n",
    "# Forward fill NaN values in the \"Cumm_Mint\" column with the last valid value\n",
    "df['Cumm_Mint'].fillna(method='ffill', inplace=True)\n",
    "df.head()"
   ]
  },
  {
   "cell_type": "markdown",
   "id": "1d5e9004-8888-43fa-91de-d406346514eb",
   "metadata": {},
   "source": [
    "#### Create a new Column Cumm_Burn and Calculate the Cummulative Burn based on Method == \"Burn\""
   ]
  },
  {
   "cell_type": "code",
   "execution_count": 6,
   "id": "f9bd7050-9ad9-4f7e-adcd-45273dfda2e9",
   "metadata": {},
   "outputs": [
    {
     "data": {
      "text/html": [
       "<div>\n",
       "<style scoped>\n",
       "    .dataframe tbody tr th:only-of-type {\n",
       "        vertical-align: middle;\n",
       "    }\n",
       "\n",
       "    .dataframe tbody tr th {\n",
       "        vertical-align: top;\n",
       "    }\n",
       "\n",
       "    .dataframe thead th {\n",
       "        text-align: right;\n",
       "    }\n",
       "</style>\n",
       "<table border=\"1\" class=\"dataframe\">\n",
       "  <thead>\n",
       "    <tr style=\"text-align: right;\">\n",
       "      <th></th>\n",
       "      <th>Transaction_Hash</th>\n",
       "      <th>Date</th>\n",
       "      <th>From</th>\n",
       "      <th>To</th>\n",
       "      <th>Quantity</th>\n",
       "      <th>Method</th>\n",
       "      <th>Cumm_Mint</th>\n",
       "      <th>Cumm_Burn</th>\n",
       "    </tr>\n",
       "  </thead>\n",
       "  <tbody>\n",
       "    <tr>\n",
       "      <th>40</th>\n",
       "      <td>0x9d3877e240d05fa4c21c212d00f9f7fbc503823fad2e...</td>\n",
       "      <td>2023-04-04 11:33:23</td>\n",
       "      <td>0x0000000000000000000000000000000000000000</td>\n",
       "      <td>0x9e238ee08297ee90a34ab61980a296d1768b7de6</td>\n",
       "      <td>0.00</td>\n",
       "      <td>Mint</td>\n",
       "      <td>0.00</td>\n",
       "      <td>0.0</td>\n",
       "    </tr>\n",
       "    <tr>\n",
       "      <th>39</th>\n",
       "      <td>0xc323de733e817a7b8370b9e43b6a10f03e6c99523abb...</td>\n",
       "      <td>2023-04-11 02:47:35</td>\n",
       "      <td>0x0000000000000000000000000000000000000000</td>\n",
       "      <td>0x9e238ee08297ee90a34ab61980a296d1768b7de6</td>\n",
       "      <td>100.00</td>\n",
       "      <td>Mint</td>\n",
       "      <td>100.00</td>\n",
       "      <td>0.0</td>\n",
       "    </tr>\n",
       "    <tr>\n",
       "      <th>38</th>\n",
       "      <td>0xcbc61c8b62a87751b1c80cecd5c413c087e21e547487...</td>\n",
       "      <td>2023-04-11 08:52:23</td>\n",
       "      <td>0x0000000000000000000000000000000000000000</td>\n",
       "      <td>0x9e238ee08297ee90a34ab61980a296d1768b7de6</td>\n",
       "      <td>100.00</td>\n",
       "      <td>Mint</td>\n",
       "      <td>200.00</td>\n",
       "      <td>0.0</td>\n",
       "    </tr>\n",
       "    <tr>\n",
       "      <th>37</th>\n",
       "      <td>0xb1b58722fe297d1217f0c4c638d66506eb3abf72463a...</td>\n",
       "      <td>2023-04-16 16:03:23</td>\n",
       "      <td>0x0000000000000000000000000000000000000000</td>\n",
       "      <td>0x9e238ee08297ee90a34ab61980a296d1768b7de6</td>\n",
       "      <td>4682731.58</td>\n",
       "      <td>Mint</td>\n",
       "      <td>4682931.58</td>\n",
       "      <td>0.0</td>\n",
       "    </tr>\n",
       "    <tr>\n",
       "      <th>36</th>\n",
       "      <td>0xf0de7bca78542021839279e4cf26c17cd57dbbe9bef3...</td>\n",
       "      <td>2023-04-17 06:21:11</td>\n",
       "      <td>0x9e238ee08297ee90a34ab61980a296d1768b7de6</td>\n",
       "      <td>0xa4cd30d9af7844ab48165c42faa755004a54ce2e</td>\n",
       "      <td>2341365.79</td>\n",
       "      <td>Transfer</td>\n",
       "      <td>4682931.58</td>\n",
       "      <td>0.0</td>\n",
       "    </tr>\n",
       "  </tbody>\n",
       "</table>\n",
       "</div>"
      ],
      "text/plain": [
       "                                     Transaction_Hash                Date  \\\n",
       "40  0x9d3877e240d05fa4c21c212d00f9f7fbc503823fad2e... 2023-04-04 11:33:23   \n",
       "39  0xc323de733e817a7b8370b9e43b6a10f03e6c99523abb... 2023-04-11 02:47:35   \n",
       "38  0xcbc61c8b62a87751b1c80cecd5c413c087e21e547487... 2023-04-11 08:52:23   \n",
       "37  0xb1b58722fe297d1217f0c4c638d66506eb3abf72463a... 2023-04-16 16:03:23   \n",
       "36  0xf0de7bca78542021839279e4cf26c17cd57dbbe9bef3... 2023-04-17 06:21:11   \n",
       "\n",
       "                                          From  \\\n",
       "40  0x0000000000000000000000000000000000000000   \n",
       "39  0x0000000000000000000000000000000000000000   \n",
       "38  0x0000000000000000000000000000000000000000   \n",
       "37  0x0000000000000000000000000000000000000000   \n",
       "36  0x9e238ee08297ee90a34ab61980a296d1768b7de6   \n",
       "\n",
       "                                            To    Quantity    Method  \\\n",
       "40  0x9e238ee08297ee90a34ab61980a296d1768b7de6        0.00      Mint   \n",
       "39  0x9e238ee08297ee90a34ab61980a296d1768b7de6      100.00      Mint   \n",
       "38  0x9e238ee08297ee90a34ab61980a296d1768b7de6      100.00      Mint   \n",
       "37  0x9e238ee08297ee90a34ab61980a296d1768b7de6  4682731.58      Mint   \n",
       "36  0xa4cd30d9af7844ab48165c42faa755004a54ce2e  2341365.79  Transfer   \n",
       "\n",
       "     Cumm_Mint  Cumm_Burn  \n",
       "40        0.00        0.0  \n",
       "39      100.00        0.0  \n",
       "38      200.00        0.0  \n",
       "37  4682931.58        0.0  \n",
       "36  4682931.58        0.0  "
      ]
     },
     "execution_count": 6,
     "metadata": {},
     "output_type": "execute_result"
    }
   ],
   "source": [
    "# Initialize a variable to keep track of the cumulative sum for Mint transactions\n",
    "cumulative_burn = 0\n",
    "\n",
    "# Create a new column \"Cumm_Mint\" and initialize it with NaN\n",
    "df['Cumm_Burn'] = float('nan')\n",
    "\n",
    "# Calculate the cumulative sum of \"Quantity\" for rows where \"Method\" is \"Mint\"\n",
    "for index, row in df.iterrows():\n",
    "    if row['Method'] == 'Burn':\n",
    "        cumulative_burn += row['Quantity']\n",
    "    df.at[index, 'Cumm_Burn'] = cumulative_burn\n",
    "\n",
    "# Forward fill NaN values in the \"Cumm_Mint\" column with the last valid value\n",
    "df['Cumm_Burn'].fillna(method='ffill', inplace=True)\n",
    "df.head()"
   ]
  },
  {
   "cell_type": "markdown",
   "id": "cd0de9ce-1e7e-45a5-9a6d-ff6bd425836a",
   "metadata": {},
   "source": [
    "#### Calculate the Total = Cummulative Mint minus Cummulative Burn"
   ]
  },
  {
   "cell_type": "code",
   "execution_count": 7,
   "id": "abbf7b9a-a3e8-4c2b-9abd-46b319eaf076",
   "metadata": {},
   "outputs": [
    {
     "data": {
      "text/html": [
       "<div>\n",
       "<style scoped>\n",
       "    .dataframe tbody tr th:only-of-type {\n",
       "        vertical-align: middle;\n",
       "    }\n",
       "\n",
       "    .dataframe tbody tr th {\n",
       "        vertical-align: top;\n",
       "    }\n",
       "\n",
       "    .dataframe thead th {\n",
       "        text-align: right;\n",
       "    }\n",
       "</style>\n",
       "<table border=\"1\" class=\"dataframe\">\n",
       "  <thead>\n",
       "    <tr style=\"text-align: right;\">\n",
       "      <th></th>\n",
       "      <th>Transaction_Hash</th>\n",
       "      <th>Date</th>\n",
       "      <th>From</th>\n",
       "      <th>To</th>\n",
       "      <th>Quantity</th>\n",
       "      <th>Method</th>\n",
       "      <th>Cumm_Mint</th>\n",
       "      <th>Cumm_Burn</th>\n",
       "      <th>Total</th>\n",
       "    </tr>\n",
       "  </thead>\n",
       "  <tbody>\n",
       "    <tr>\n",
       "      <th>40</th>\n",
       "      <td>0x9d3877e240d05fa4c21c212d00f9f7fbc503823fad2e...</td>\n",
       "      <td>2023-04-04 11:33:23</td>\n",
       "      <td>0x0000000000000000000000000000000000000000</td>\n",
       "      <td>0x9e238ee08297ee90a34ab61980a296d1768b7de6</td>\n",
       "      <td>0.00</td>\n",
       "      <td>Mint</td>\n",
       "      <td>0.00</td>\n",
       "      <td>0.0</td>\n",
       "      <td>0.00</td>\n",
       "    </tr>\n",
       "    <tr>\n",
       "      <th>39</th>\n",
       "      <td>0xc323de733e817a7b8370b9e43b6a10f03e6c99523abb...</td>\n",
       "      <td>2023-04-11 02:47:35</td>\n",
       "      <td>0x0000000000000000000000000000000000000000</td>\n",
       "      <td>0x9e238ee08297ee90a34ab61980a296d1768b7de6</td>\n",
       "      <td>100.00</td>\n",
       "      <td>Mint</td>\n",
       "      <td>100.00</td>\n",
       "      <td>0.0</td>\n",
       "      <td>100.00</td>\n",
       "    </tr>\n",
       "    <tr>\n",
       "      <th>38</th>\n",
       "      <td>0xcbc61c8b62a87751b1c80cecd5c413c087e21e547487...</td>\n",
       "      <td>2023-04-11 08:52:23</td>\n",
       "      <td>0x0000000000000000000000000000000000000000</td>\n",
       "      <td>0x9e238ee08297ee90a34ab61980a296d1768b7de6</td>\n",
       "      <td>100.00</td>\n",
       "      <td>Mint</td>\n",
       "      <td>200.00</td>\n",
       "      <td>0.0</td>\n",
       "      <td>200.00</td>\n",
       "    </tr>\n",
       "    <tr>\n",
       "      <th>37</th>\n",
       "      <td>0xb1b58722fe297d1217f0c4c638d66506eb3abf72463a...</td>\n",
       "      <td>2023-04-16 16:03:23</td>\n",
       "      <td>0x0000000000000000000000000000000000000000</td>\n",
       "      <td>0x9e238ee08297ee90a34ab61980a296d1768b7de6</td>\n",
       "      <td>4682731.58</td>\n",
       "      <td>Mint</td>\n",
       "      <td>4682931.58</td>\n",
       "      <td>0.0</td>\n",
       "      <td>4682931.58</td>\n",
       "    </tr>\n",
       "    <tr>\n",
       "      <th>36</th>\n",
       "      <td>0xf0de7bca78542021839279e4cf26c17cd57dbbe9bef3...</td>\n",
       "      <td>2023-04-17 06:21:11</td>\n",
       "      <td>0x9e238ee08297ee90a34ab61980a296d1768b7de6</td>\n",
       "      <td>0xa4cd30d9af7844ab48165c42faa755004a54ce2e</td>\n",
       "      <td>2341365.79</td>\n",
       "      <td>Transfer</td>\n",
       "      <td>4682931.58</td>\n",
       "      <td>0.0</td>\n",
       "      <td>4682931.58</td>\n",
       "    </tr>\n",
       "  </tbody>\n",
       "</table>\n",
       "</div>"
      ],
      "text/plain": [
       "                                     Transaction_Hash                Date  \\\n",
       "40  0x9d3877e240d05fa4c21c212d00f9f7fbc503823fad2e... 2023-04-04 11:33:23   \n",
       "39  0xc323de733e817a7b8370b9e43b6a10f03e6c99523abb... 2023-04-11 02:47:35   \n",
       "38  0xcbc61c8b62a87751b1c80cecd5c413c087e21e547487... 2023-04-11 08:52:23   \n",
       "37  0xb1b58722fe297d1217f0c4c638d66506eb3abf72463a... 2023-04-16 16:03:23   \n",
       "36  0xf0de7bca78542021839279e4cf26c17cd57dbbe9bef3... 2023-04-17 06:21:11   \n",
       "\n",
       "                                          From  \\\n",
       "40  0x0000000000000000000000000000000000000000   \n",
       "39  0x0000000000000000000000000000000000000000   \n",
       "38  0x0000000000000000000000000000000000000000   \n",
       "37  0x0000000000000000000000000000000000000000   \n",
       "36  0x9e238ee08297ee90a34ab61980a296d1768b7de6   \n",
       "\n",
       "                                            To    Quantity    Method  \\\n",
       "40  0x9e238ee08297ee90a34ab61980a296d1768b7de6        0.00      Mint   \n",
       "39  0x9e238ee08297ee90a34ab61980a296d1768b7de6      100.00      Mint   \n",
       "38  0x9e238ee08297ee90a34ab61980a296d1768b7de6      100.00      Mint   \n",
       "37  0x9e238ee08297ee90a34ab61980a296d1768b7de6  4682731.58      Mint   \n",
       "36  0xa4cd30d9af7844ab48165c42faa755004a54ce2e  2341365.79  Transfer   \n",
       "\n",
       "     Cumm_Mint  Cumm_Burn       Total  \n",
       "40        0.00        0.0        0.00  \n",
       "39      100.00        0.0      100.00  \n",
       "38      200.00        0.0      200.00  \n",
       "37  4682931.58        0.0  4682931.58  \n",
       "36  4682931.58        0.0  4682931.58  "
      ]
     },
     "execution_count": 7,
     "metadata": {},
     "output_type": "execute_result"
    }
   ],
   "source": [
    "# Create a new column \"Total\" as the difference between \"Cumm_Mint\" and \"Cumm_Burn\"\n",
    "df['Total'] = df['Cumm_Mint'] - df['Cumm_Burn']\n",
    "df.head()"
   ]
  },
  {
   "cell_type": "markdown",
   "id": "fa94860e-7069-493e-8d1a-4d72ecff1dbc",
   "metadata": {},
   "source": [
    "#### Export to csv file"
   ]
  },
  {
   "cell_type": "code",
   "execution_count": 8,
   "id": "24465c51-bbc3-447b-bc1b-c003010f7d2a",
   "metadata": {},
   "outputs": [],
   "source": [
    "# Export the DataFrame to a CSV file\n",
    "df.to_csv('Resources/MAQ.csv', index=False)"
   ]
  },
  {
   "cell_type": "markdown",
   "id": "8308c0ed-15ec-4dea-a63a-f855ed54719e",
   "metadata": {},
   "source": [
    "### Plot 1: Cummulative Mint, Cummulative Burn and Total over time"
   ]
  },
  {
   "cell_type": "code",
   "execution_count": 9,
   "id": "3601341e-a690-4c25-941d-4b5870e99847",
   "metadata": {},
   "outputs": [
    {
     "data": {
      "image/png": "[encoded data removed]",
      "text/plain": [
       "<Figure size 640x480 with 1 Axes>"
      ]
     },
     "metadata": {},
     "output_type": "display_data"
    }
   ],
   "source": [
    "# Assuming you have a DataFrame named df with \"Date,\" \"Cumm_Mint,\" \"Cumm_Burn,\" and \"Total\" columns\n",
    "\n",
    "# Create a line plot for Cumm_Mint (in billions)\n",
    "plt.plot(df['Date'], df['Cumm_Mint'] / 1e9, label='Cumm_Mint', linestyle='-')\n",
    "\n",
    "# Create a line plot for Cumm_Burn (in billions)\n",
    "#\n",
    "\n",
    "# Create a line plot for Total (in billions)\n",
    "#\n",
    "\n",
    "# Set y-axis limits if needed\n",
    "# plt.ylim(min_value, max_value)\n",
    "\n",
    "# Get the current date and format it as desired\n",
    "current_date = datetime.now().strftime('%d-%b-%Y')\n",
    "\n",
    "# Add labels, title, and legend\n",
    "plt.xlabel('Date')\n",
    "plt.ylabel('Amount (Billions)')  # Update the y-axis label\n",
    "\n",
    "# Include the current date in the title\n",
    "plt.title(f'Cummulative Mint, Cummulative Burn, and Total as of {current_date}')\n",
    "plt.legend()\n",
    "\n",
    "# Rotate x-axis labels for better readability\n",
    "plt.xticks(rotation=45)\n",
    "\n",
    "# Show the plot\n",
    "plt.grid(True)\n",
    "plt.tight_layout()\n",
    "plt.show()\n"
   ]
  },
  {
   "cell_type": "markdown",
   "id": "8d372524-47c1-410f-9676-a8f4a334ffc7",
   "metadata": {},
   "source": [
    "#####  Key Observations:\n",
    "- TFX coin was minted on 4-Dec-22 at 10.48bil.  \n",
    "- On May-2023, 2.9bil was burned and transferred to TFXC.\n",
    "- since TFXC creation, TFX Total has started to reduce."
   ]
  },
  {
   "cell_type": "markdown",
   "id": "370ad25f-97a7-4c00-a81c-cca4e3dfa553",
   "metadata": {},
   "source": [
    "### Plot 2: Mint vs Burn over time"
   ]
  },
  {
   "cell_type": "code",
   "execution_count": 10,
   "id": "bab4d05a-c15b-4a71-afcc-4f4a347749e8",
   "metadata": {},
   "outputs": [
    {
     "data": {
      "text/plain": [
       "49115414.51"
      ]
     },
     "execution_count": 10,
     "metadata": {},
     "output_type": "execute_result"
    }
   ],
   "source": [
    "# Filter rows where Method is \"Mint\" and sum the Quantity column\n",
    "mint_sum = df.loc[df[\"Method\"] == \"Mint\", \"Quantity\"].sum()\n",
    "mint_sum"
   ]
  },
  {
   "cell_type": "code",
   "execution_count": 11,
   "id": "36b46049-bb92-4f03-b329-1795a2a2a8b5",
   "metadata": {},
   "outputs": [
    {
     "data": {
      "text/plain": [
       "1580746.03"
      ]
     },
     "execution_count": 11,
     "metadata": {},
     "output_type": "execute_result"
    }
   ],
   "source": [
    "# Filter rows where Method is \"Mint\" and sum the Quantity column\n",
    "burn_sum = df.loc[df[\"Method\"] == \"Burn\", \"Quantity\"].sum()\n",
    "burn_sum"
   ]
  },
  {
   "cell_type": "code",
   "execution_count": 12,
   "id": "8fe83d30-9494-475f-a33d-b04a967508c0",
   "metadata": {},
   "outputs": [
    {
     "data": {
      "text/plain": [
       "0.05"
      ]
     },
     "execution_count": 12,
     "metadata": {},
     "output_type": "execute_result"
    }
   ],
   "source": [
    "Total = round((mint_sum - burn_sum)/1000000000,2)\n",
    "Total"
   ]
  },
  {
   "cell_type": "code",
   "execution_count": 13,
   "id": "df6d5167-84c8-4896-840f-37faef8e5b09",
   "metadata": {},
   "outputs": [
    {
     "data": {
      "text/plain": [
       "2349600.91"
      ]
     },
     "execution_count": 13,
     "metadata": {},
     "output_type": "execute_result"
    }
   ],
   "source": [
    "# Filter rows where Method is \"Mint\" and sum the Quantity column\n",
    "transfer_sum = df.loc[df[\"Method\"] == \"Transfer\", \"Quantity\"].sum()\n",
    "transfer_sum"
   ]
  },
  {
   "cell_type": "code",
   "execution_count": 14,
   "id": "eeedd09d-9211-4174-9da0-1b304a9d91ce",
   "metadata": {},
   "outputs": [
    {
     "data": {
      "text/plain": [
       "0.0"
      ]
     },
     "execution_count": 14,
     "metadata": {},
     "output_type": "execute_result"
    }
   ],
   "source": [
    "# Filter rows where Method is \"Mint\" and sum the Quantity column\n",
    "swap = df.loc[df[\"Method\"] == \"Swap\", \"Quantity\"].sum()\n",
    "swap"
   ]
  },
  {
   "cell_type": "code",
   "execution_count": 15,
   "id": "95fa1b0f-f699-43b3-8eaf-54ddc9ba011a",
   "metadata": {},
   "outputs": [
    {
     "data": {
      "text/plain": [
       "0.0"
      ]
     },
     "execution_count": 15,
     "metadata": {},
     "output_type": "execute_result"
    }
   ],
   "source": [
    "# Filter rows where Method is \"Mint\" and sum the Quantity column\n",
    "execute = df.loc[df[\"Method\"] == \"Execute\", \"Quantity\"].sum()\n",
    "execute"
   ]
  },
  {
   "cell_type": "code",
   "execution_count": null,
   "id": "6e88286d-0464-4fc2-963d-f0995f4c012e",
   "metadata": {},
   "outputs": [],
   "source": []
  },
  {
   "cell_type": "code",
   "execution_count": 16,
   "id": "ff10ecec-996d-4f89-8ea0-926bb55b86c9",
   "metadata": {},
   "outputs": [
    {
     "data": {
      "image/png": "[encoded data removed]",
      "text/plain": [
       "<Figure size 640x480 with 1 Axes>"
      ]
     },
     "metadata": {},
     "output_type": "display_data"
    }
   ],
   "source": [
    "# Filter rows for Mint transactions\n",
    "mint_df = df[df[\"Method\"] == \"Mint\"]\n",
    "\n",
    "# Filter rows for Burn transactions\n",
    "burn_df = df[df[\"Method\"] == \"Burn\"]\n",
    "\n",
    "# Create a dot chart for Mint transactions\n",
    "plt.plot(mint_df[\"Date\"], mint_df[\"Quantity\"] / 1000000, label=\"Mint\", linestyle='-')\n",
    "\n",
    "# Create a dot chart for Burn transactions\n",
    "plt.plot(burn_df[\"Date\"], burn_df[\"Quantity\"] / 1000000, label=\"Burn\", linestyle='-')\n",
    "\n",
    "# Set y-axis limits from 0 to 300 (in millions)\n",
    "plt.ylim(0, 300)\n",
    "\n",
    "# Add labels and legend\n",
    "plt.xlabel(\"Date\")\n",
    "plt.ylabel(\"Quantity (Millions)\")\n",
    "plt.title(\"TFX Mint vs Burn Transactions\")\n",
    "plt.legend()\n",
    "\n",
    "# Format the y-axis labels to display values in millions\n",
    "def millions_formatter(x, pos):\n",
    "    return f\"{x:.0f}M\"\n",
    "\n",
    "formatter = FuncFormatter(millions_formatter)\n",
    "plt.gca().yaxis.set_major_formatter(formatter)\n",
    "\n",
    "# Show the plot\n",
    "\n",
    "# Add the text annotation\n",
    "current_date = datetime.now().strftime(\"%d-%b-%y\")\n",
    "text = f\"TFX: {Total}bil as of {current_date}\"\n",
    "plt.text(0.6, 0.95, text, transform=plt.gcf().transFigure, fontsize=10,\n",
    "         bbox=dict(facecolor='white', alpha=0.75, edgecolor='gray'))\n",
    "\n",
    "plt.grid(True)\n",
    "plt.xticks(rotation=45)\n",
    "plt.tight_layout()\n",
    "plt.show()"
   ]
  },
  {
   "cell_type": "markdown",
   "id": "0a6f59c3-e6dd-44f4-b8e2-134b4044ed1f",
   "metadata": {},
   "source": [
    "#### Plotting all the data"
   ]
  },
  {
   "cell_type": "code",
   "execution_count": 17,
   "id": "2ee282bb-24f2-4083-832f-cc61f2764f55",
   "metadata": {},
   "outputs": [
    {
     "data": {
      "image/png": "[encoded data removed]",
      "text/plain": [
       "<Figure size 640x480 with 1 Axes>"
      ]
     },
     "metadata": {},
     "output_type": "display_data"
    }
   ],
   "source": [
    "# Filter rows for Mint transactions\n",
    "mint_df = df[df[\"Method\"] == \"Mint\"]\n",
    "\n",
    "# Filter rows for Burn transactions\n",
    "burn_df = df[df[\"Method\"] == \"Burn\"]\n",
    "\n",
    "# Create a line chart for Mint transactions\n",
    "plt.plot(mint_df[\"Date\"], mint_df[\"Quantity\"], label=\"Mint\", marker='o', linestyle='-')\n",
    "\n",
    "# Create a line chart for Burn transactions\n",
    "plt.plot(burn_df[\"Date\"], burn_df[\"Quantity\"], label=\"Burn\", marker='o', linestyle='-')\n",
    "\n",
    "# Add labels and legend\n",
    "plt.xlabel(\"Date\")\n",
    "plt.ylabel(\"Quantity\")\n",
    "plt.title(\"Mint vs Burn Transactions\")\n",
    "plt.legend()\n",
    "\n",
    "# Show the plot\n",
    "plt.grid(True)\n",
    "plt.xticks(rotation=45)\n",
    "plt.tight_layout()\n",
    "plt.show()"
   ]
  },
  {
   "cell_type": "code",
   "execution_count": 18,
   "id": "87c7c074-90fd-43e6-a4b4-e8e9bed99ac9",
   "metadata": {},
   "outputs": [
    {
     "data": {
      "text/html": [
       "<div>\n",
       "<style scoped>\n",
       "    .dataframe tbody tr th:only-of-type {\n",
       "        vertical-align: middle;\n",
       "    }\n",
       "\n",
       "    .dataframe tbody tr th {\n",
       "        vertical-align: top;\n",
       "    }\n",
       "\n",
       "    .dataframe thead th {\n",
       "        text-align: right;\n",
       "    }\n",
       "</style>\n",
       "<table border=\"1\" class=\"dataframe\">\n",
       "  <thead>\n",
       "    <tr style=\"text-align: right;\">\n",
       "      <th></th>\n",
       "      <th>Transaction_Hash</th>\n",
       "      <th>Date</th>\n",
       "      <th>From</th>\n",
       "      <th>To</th>\n",
       "      <th>Quantity</th>\n",
       "      <th>Method</th>\n",
       "      <th>Cumm_Mint</th>\n",
       "      <th>Cumm_Burn</th>\n",
       "      <th>Total</th>\n",
       "    </tr>\n",
       "  </thead>\n",
       "  <tbody>\n",
       "    <tr>\n",
       "      <th>12</th>\n",
       "      <td>0xe65641bfb92494dc3341441923cf39536e2d53bdbef1...</td>\n",
       "      <td>2023-08-08 11:06:23</td>\n",
       "      <td>0x9e238ee08297ee90a34ab61980a296d1768b7de6</td>\n",
       "      <td>0x0000000000000000000000000000000000000000</td>\n",
       "      <td>1580746.03</td>\n",
       "      <td>Burn</td>\n",
       "      <td>28948908.67</td>\n",
       "      <td>1580746.03</td>\n",
       "      <td>27368162.64</td>\n",
       "    </tr>\n",
       "  </tbody>\n",
       "</table>\n",
       "</div>"
      ],
      "text/plain": [
       "                                     Transaction_Hash                Date  \\\n",
       "12  0xe65641bfb92494dc3341441923cf39536e2d53bdbef1... 2023-08-08 11:06:23   \n",
       "\n",
       "                                          From  \\\n",
       "12  0x9e238ee08297ee90a34ab61980a296d1768b7de6   \n",
       "\n",
       "                                            To    Quantity Method  \\\n",
       "12  0x0000000000000000000000000000000000000000  1580746.03   Burn   \n",
       "\n",
       "      Cumm_Mint   Cumm_Burn        Total  \n",
       "12  28948908.67  1580746.03  27368162.64  "
      ]
     },
     "execution_count": 18,
     "metadata": {},
     "output_type": "execute_result"
    }
   ],
   "source": [
    "burn_df"
   ]
  },
  {
   "cell_type": "code",
   "execution_count": 19,
   "id": "32c109f7-76c0-43cf-a468-3d30d0a79011",
   "metadata": {},
   "outputs": [],
   "source": [
    "# Export the DataFrame to a CSV file\n",
    "burn_df.to_csv('Resources/TFX_burn.csv', index=False)"
   ]
  },
  {
   "cell_type": "markdown",
   "id": "1e2fa3a0-8085-4437-a7fe-38832e890e14",
   "metadata": {},
   "source": []
  },
  {
   "cell_type": "code",
   "execution_count": null,
   "id": "22afb065-374e-4f7f-8dde-f9282ca6e106",
   "metadata": {},
   "outputs": [],
   "source": []
  }
 ],
 "metadata": {
  "kernelspec": {
   "display_name": "PythonData",
   "language": "python",
   "name": "pythondata"
  },
  "language_info": {
   "codemirror_mode": {
    "name": "ipython",
    "version": 3
   },
   "file_extension": ".py",
   "mimetype": "text/x-python",
   "name": "python",
   "nbconvert_exporter": "python",
   "pygments_lexer": "ipython3",
   "version": "3.11.5"
  }
 },
 "nbformat": 4,
 "nbformat_minor": 5
}
