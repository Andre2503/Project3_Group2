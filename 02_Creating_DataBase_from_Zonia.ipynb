{
 "cells": [
  {
   "cell_type": "code",
   "execution_count": 8,
   "id": "157e4918-d46f-48fe-aa38-9eeaec1556aa",
   "metadata": {
    "tags": []
   },
   "outputs": [],
   "source": [
    "#import dependencies\n",
    "from sqlalchemy import create_engine, Column, Integer, String, Float, ForeignKey, Date\n",
    "from sqlalchemy.ext.declarative import declarative_base\n",
    "from sqlalchemy.orm import Session\n",
    "import pandas as pd\n",
    "from sqlalchemy.ext.automap import automap_base\n",
    "from sqlalchemy import func, inspect\n",
    "\n",
    "# from sqlalchemy import create_engine\n",
    "# from sqlalchemy import inspect"
   ]
  },
  {
   "cell_type": "code",
   "execution_count": 2,
   "id": "f9982bbd-6ad9-4a87-b604-cd84b1fc3ed1",
   "metadata": {
    "tags": []
   },
   "outputs": [
    {
     "data": {
      "text/html": [
       "<div>\n",
       "<style scoped>\n",
       "    .dataframe tbody tr th:only-of-type {\n",
       "        vertical-align: middle;\n",
       "    }\n",
       "\n",
       "    .dataframe tbody tr th {\n",
       "        vertical-align: top;\n",
       "    }\n",
       "\n",
       "    .dataframe thead th {\n",
       "        text-align: right;\n",
       "    }\n",
       "</style>\n",
       "<table border=\"1\" class=\"dataframe\">\n",
       "  <thead>\n",
       "    <tr style=\"text-align: right;\">\n",
       "      <th></th>\n",
       "      <th>industry_name</th>\n",
       "      <th>industry_id</th>\n",
       "    </tr>\n",
       "  </thead>\n",
       "  <tbody>\n",
       "    <tr>\n",
       "      <th>0</th>\n",
       "      <td>Automobiles &amp; Components</td>\n",
       "      <td>1</td>\n",
       "    </tr>\n",
       "    <tr>\n",
       "      <th>1</th>\n",
       "      <td>Banks</td>\n",
       "      <td>2</td>\n",
       "    </tr>\n",
       "    <tr>\n",
       "      <th>2</th>\n",
       "      <td>Capital Goods</td>\n",
       "      <td>3</td>\n",
       "    </tr>\n",
       "    <tr>\n",
       "      <th>3</th>\n",
       "      <td>Class Pend</td>\n",
       "      <td>4</td>\n",
       "    </tr>\n",
       "    <tr>\n",
       "      <th>4</th>\n",
       "      <td>Commercial &amp; Professional Services</td>\n",
       "      <td>5</td>\n",
       "    </tr>\n",
       "  </tbody>\n",
       "</table>\n",
       "</div>"
      ],
      "text/plain": [
       "                        industry_name  industry_id\n",
       "0            Automobiles & Components            1\n",
       "1                               Banks            2\n",
       "2                       Capital Goods            3\n",
       "3                          Class Pend            4\n",
       "4  Commercial & Professional Services            5"
      ]
     },
     "execution_count": 2,
     "metadata": {},
     "output_type": "execute_result"
    }
   ],
   "source": [
    "# Step 1: Read CSV Files into DataFrames\n",
    "industry_groups_df = pd.read_csv('Resources/Industry_Groups.csv')\n",
    "top_ten_df = pd.read_csv('Resources/top_ten_with_industryID.csv')\n",
    "top_ten_historic_df = pd.read_csv('Resources/top_ten_historic_5y.csv')\n",
    "fundamental_df_clean = pd.read_csv('Resources/02_ASX_Fundamental_Final_Clean.csv')\n",
    "industry_groups_df.head()"
   ]
  },
  {
   "cell_type": "code",
   "execution_count": null,
   "id": "851dfd25-d1b0-40a8-8829-76f823f8a644",
   "metadata": {
    "tags": []
   },
   "outputs": [],
   "source": [
    "# #trying to see if i had any null values in 'Date' column of top_ten_historic_df\n",
    "print(top_ten_historic_df['Ticker'].isnull().sum())"
   ]
  },
  {
   "cell_type": "code",
   "execution_count": null,
   "id": "fbdb5ee0-ea9b-4abb-a4b2-a9653844c15c",
   "metadata": {
    "tags": []
   },
   "outputs": [],
   "source": [
    "industry_groups_df.info()"
   ]
  },
  {
   "cell_type": "code",
   "execution_count": null,
   "id": "74600ca6-4dbb-4367-8b7b-33e06e6dce74",
   "metadata": {
    "tags": []
   },
   "outputs": [],
   "source": [
    "fundamental_df_clean.info()"
   ]
  },
  {
   "cell_type": "code",
   "execution_count": 3,
   "id": "b52e06b7-4022-49f0-b2c1-1c27af362e70",
   "metadata": {
    "tags": []
   },
   "outputs": [],
   "source": [
    "#convert datatype to date\n",
    "top_ten_historic_df['Date'] = pd.to_datetime(top_ten_historic_df['Date'])\n"
   ]
  },
  {
   "cell_type": "code",
   "execution_count": null,
   "id": "c17d3c75-3871-494d-bc6e-4a45e188c968",
   "metadata": {
    "tags": []
   },
   "outputs": [],
   "source": [
    "top_ten_historic_df.info()"
   ]
  },
  {
   "cell_type": "code",
   "execution_count": null,
   "id": "73ca729a-b3b3-4ac7-901c-276a492de4f7",
   "metadata": {
    "tags": []
   },
   "outputs": [],
   "source": [
    "#top_ten_historic_df['Date'] = pd.to_datetime(top_ten_historic_df['Date']).apply(lambda x: x.date())"
   ]
  },
  {
   "cell_type": "code",
   "execution_count": null,
   "id": "8988a7db-2a4a-41e5-8597-fd848b75c2db",
   "metadata": {
    "tags": []
   },
   "outputs": [],
   "source": [
    "#print(top_ten_historic_df['Date'].unique())"
   ]
  },
  {
   "cell_type": "code",
   "execution_count": null,
   "id": "095b7048-3d83-4822-b61a-d3a384a1c5b2",
   "metadata": {
    "tags": []
   },
   "outputs": [],
   "source": [
    "industry_groups_df.info()"
   ]
  },
  {
   "cell_type": "code",
   "execution_count": 4,
   "id": "beac57a7-6de3-417c-ba58-20a8104a8382",
   "metadata": {
    "tags": []
   },
   "outputs": [],
   "source": [
    "# Define Database Schema\n",
    "Base = declarative_base()\n",
    "\n",
    "class IndustryGroups(Base):\n",
    "    __tablename__ = 'industry_groups'\n",
    "    \n",
    "    industry_name = Column(String)\n",
    "    industry_id = Column(Integer, primary_key=True)\n",
    "    \n",
    "\n",
    "class TopTen(Base):\n",
    "    __tablename__ = 'top_ten'\n",
    "    \n",
    "    ticker = Column(String, primary_key=True)\n",
    "    company_name = Column(String)\n",
    "    market_cap = Column(Float)\n",
    "    industry_id = Column(Integer, ForeignKey('industry_groups.industry_id'))\n",
    "\n",
    "class TopTenHistoric(Base):\n",
    "    __tablename__ = 'top_ten_historic'\n",
    "    \n",
    "    id = Column (Integer, primary_key=True, autoincrement=True)\n",
    "    Ticker = Column(String, ForeignKey('top_ten.ticker'))\n",
    "    Date = Column(Date)\n",
    "    Open = Column(Float)\n",
    "    High = Column(Float)\n",
    "    Low = Column(Float)\n",
    "    Close = Column(Float)\n",
    "    Adj_Close = Column('Adj Close', Float)\n",
    "    Volume = Column(Integer)\n",
    "    \n",
    "class Fundamental(Base):\n",
    "    __tablename__ = 'fundamental'\n",
    "    \n",
    "    id = Column (Integer, primary_key=True, autoincrement=True)\n",
    "    Ticker = Column(String,ForeignKey('top_ten.ticker'))\n",
    "    lastPrice = Column(Float)         \n",
    "    Change = Column(String)       \n",
    "    Bid_Ask = Column(String)           \n",
    "    volumePerDay = Column(Float)         \n",
    "    volume4wAvg = Column(Float)          \n",
    "    Open = Column(Float)              \n",
    "    dayRange = Column(String)              \n",
    "    prevClose = Column(String)        \n",
    "    lastTrade = Column(String)            \n",
    "    oneWeek = Column(String)             \n",
    "    oneMonth = Column(String)           \n",
    "    YTD2023 = Column(String)            \n",
    "    oneYear = Column(String)            \n",
    "    vsSectorOneYr = Column(String)         \n",
    "    vsASX200OneYr = Column(String)         \n",
    "    marketCap = Column(Float)          \n",
    "    ASXRank = Column(String)            \n",
    "    sectorRank = Column(String)         \n",
    "    sharesIssued = Column(Float)       \n",
    "    Sector = Column(String)               \n",
    "    similarCompanies = Column(String)     \n",
    "    EPS = Column(Float)                 \n",
    "    DPS = Column(Float)                \n",
    "    bookValuePerShare = Column(Float)    \n",
    "    Breakdown = Column(String)          \n",
    "    Recommendation = Column(String)       \n",
    "    lastUpdated = Column(String)                     \n",
    "    PE= Column(Float) \n",
    "        \n",
    "#Connect to the Database and Create Tables\n",
    "# Replace 'sqlite:///asx.db' with your actual database connection string\n",
    "engine = create_engine('sqlite:///Resources/top_ten_asx.db')\n",
    "Base.metadata.create_all(engine)\n",
    "\n",
    "\n"
   ]
  },
  {
   "cell_type": "markdown",
   "id": "db9df402-fbf3-4c5f-94b2-c19185a6c3ad",
   "metadata": {},
   "source": [
    "## 1. Job to inspect the tables in the sdlite database"
   ]
  },
  {
   "cell_type": "code",
   "execution_count": 9,
   "id": "0b060ea4-625a-48a4-84ad-7c8f3d93937c",
   "metadata": {},
   "outputs": [],
   "source": [
    "from sqlalchemy import create_engine\n",
    "from sqlalchemy import inspect"
   ]
  },
  {
   "cell_type": "code",
   "execution_count": 10,
   "id": "05d1c6d9-b6c4-43fe-80f1-4195be16ab0d",
   "metadata": {
    "tags": []
   },
   "outputs": [],
   "source": [
    "# Create an sqlalchemy engine to connect to the database\n",
    "engine = create_engine('sqlite:///Resources/top_ten_asx.db')"
   ]
  },
  {
   "cell_type": "code",
   "execution_count": 11,
   "id": "4acc63f7-ceaa-4456-912d-021870911f0f",
   "metadata": {},
   "outputs": [
    {
     "name": "stdout",
     "output_type": "stream",
     "text": [
      "fundamental\n",
      "industry_groups\n",
      "top_ten\n",
      "top_ten_historic\n"
     ]
    }
   ],
   "source": [
    "# Create inspector object and use it to reflect the database and get a list of table names\n",
    "inspector = inspect(engine)\n",
    "\n",
    "# Get a list of table names in the database\n",
    "table_names = inspector.get_table_names()\n",
    "\n",
    "# Print the table names\n",
    "for table_name in table_names:\n",
    "    print(table_name)"
   ]
  },
  {
   "cell_type": "markdown",
   "id": "3696c345-b6da-497f-bba2-488ab7d34f41",
   "metadata": {},
   "source": [
    "## 2. Job to print all the columsn of each table in the database"
   ]
  },
  {
   "cell_type": "code",
   "execution_count": 5,
   "id": "12355390-f235-4212-8b18-f61e00b0420f",
   "metadata": {},
   "outputs": [
    {
     "name": "stdout",
     "output_type": "stream",
     "text": [
      "Table: industry_groups\n",
      "Column: industry_name - Type: VARCHAR\n",
      "Column: industry_id - Type: INTEGER\n",
      "\n",
      "\n",
      "Table: top_ten\n",
      "Column: ticker - Type: VARCHAR\n",
      "Column: company_name - Type: VARCHAR\n",
      "Column: market_cap - Type: FLOAT\n",
      "Column: industry_id - Type: INTEGER\n",
      "\n",
      "\n",
      "Table: top_ten_historic\n",
      "Column: id - Type: INTEGER\n",
      "Column: Ticker - Type: VARCHAR\n",
      "Column: Date - Type: DATE\n",
      "Column: Open - Type: FLOAT\n",
      "Column: High - Type: FLOAT\n",
      "Column: Low - Type: FLOAT\n",
      "Column: Close - Type: FLOAT\n",
      "Column: Adj Close - Type: FLOAT\n",
      "Column: Volume - Type: INTEGER\n",
      "\n",
      "\n"
     ]
    }
   ],
   "source": [
    "from sqlalchemy import create_engine\n",
    "from sqlalchemy import inspect\n",
    "\n",
    "# Create an sqlalchemy engine to connect to the database\n",
    "engine = create_engine('sqlite:///Resources/top_ten_asx.db')\n",
    "\n",
    "# Create an inspector object\n",
    "inspector = inspect(engine)\n",
    "\n",
    "# Get a list of table names in the database\n",
    "table_names = inspector.get_table_names()\n",
    "\n",
    "# Iterate through the table names and print the columns for each table\n",
    "for table_name in table_names:\n",
    "    print(f\"Table: {table_name}\")\n",
    "    columns = inspector.get_columns(table_name)\n",
    "    for column in columns:\n",
    "        print(f\"Column: {column['name']} - Type: {column['type']}\")\n",
    "    print(\"\\n\")"
   ]
  },
  {
   "cell_type": "markdown",
   "id": "e1158822-00ea-426c-ae29-067d70603fb0",
   "metadata": {},
   "source": [
    "## 3. Fetch the data from selected table"
   ]
  },
  {
   "cell_type": "code",
   "execution_count": 12,
   "id": "2d071ee6-6587-4d82-9257-84b26916e304",
   "metadata": {},
   "outputs": [],
   "source": [
    "# SQLAlchemy\n",
    "from pathlib import Path\n",
    "from sqlalchemy import create_engine, text\n",
    "\n",
    "\n",
    "# Create an sqlalchemy engine to connect to the database\n",
    "engine = create_engine('sqlite:///Resources/top_ten_asx.db')\n",
    "connection = engine.connect()"
   ]
  },
  {
   "cell_type": "code",
   "execution_count": 28,
   "id": "90922a53-e8db-4ff6-81a0-3455cf3914ed",
   "metadata": {},
   "outputs": [],
   "source": [
    "# Query All Records in the the Database - Need to run this line again...\n",
    "data = connection.execute(text(\"SELECT * FROM industry_groups\"))"
   ]
  },
  {
   "cell_type": "code",
   "execution_count": 13,
   "id": "ec7039f5-dd46-4a76-a3d9-60925c1e61b2",
   "metadata": {},
   "outputs": [],
   "source": [
    "# Query All Records in the the Database - Need to run this line again...\n",
    "data = connection.execute(text(\"SELECT * FROM fundamental LIMIT 5\"))"
   ]
  },
  {
   "cell_type": "code",
   "execution_count": null,
   "id": "79ac3633-aa79-4d50-9af4-f237db62c006",
   "metadata": {},
   "outputs": [],
   "source": [
    "# Query All Records in the the Database - Need to run this line again...\n",
    "data = connection.execute(text(\"SELECT * FROM top_ten LIMIT 5\"))"
   ]
  },
  {
   "cell_type": "code",
   "execution_count": 35,
   "id": "cd024e46-877e-4670-b6ae-a412742593de",
   "metadata": {},
   "outputs": [],
   "source": [
    "# Query All Records in the the Database - Need to run this line again...\n",
    "data = connection.execute(text(\"SELECT * FROM top_ten_historic LIMIT 5\"))"
   ]
  },
  {
   "cell_type": "code",
   "execution_count": 14,
   "id": "e55aa816-eee4-4836-9980-ded5d307435d",
   "metadata": {},
   "outputs": [
    {
     "name": "stdout",
     "output_type": "stream",
     "text": [
      "(1, 'ARB', 31.26, '1.02 (3.37%)', '$29.88 - $31.35', 160245.0, 245483.0, 31.07, '$30.56 - $31.45', '$30.24', '6:58pm 03/11 (AEDT)', '+3.30%', '+1.20%', '+21.78%', '+11.96%', '+5.78%', '+10.21%', 2570210986.0, '152 of 2,408', '14 of 150', 82220441.0, 'Consumer Cyclical', 'CTD / WEB / SUL', 1.079, 0.62, 0.6, '6 Buy · 5 Hold · 2 Sell', 'Hold', '01/10/23', 28.97126969416126)\n",
      "(2, 'GUD', 11.08, '0.17 (1.56%)', '$10.77 - $11.35', 366353.0, 441797.0, 10.95, '$10.725 - $11.10', '$10.91', '6:58pm 03/11 (AEDT)', '+2.59%', '-4.24%', '+46.17%', '+37.98%', '+31.80%', '+36.23%', 1561113232.0, '234 of 2,408', '23 of 150', 140894696.0, 'Consumer Cyclical', 'SGR / LNW / SKC', 0.693, 0.39, 0.526, '11 Buy · 2 Hold · 0 Sell', 'Strong Buy', '01/10/23', 15.98845598845599)\n",
      "(3, 'PWH', 10.12, '0.07 (0.70%)', '$9.96 - $10.92', 37398.0, 127350.0, 10.16, '$10.06 - $10.22', '$10.05', '6:58pm 03/11 (AEDT)', '-0.88%', '-8.08%', '-6.04%', '-3.98%', '-10.17%', '-5.74%', 1016899406.0, '295 of 2,408', '28 of 150', 100484131.0, 'Consumer Cyclical', 'BGP / CTT / AX1', 0.217, 0.125, 0.722, '7 Buy · 4 Hold · 1 Sell', 'Buy', '01/10/23', 46.635944700460826)\n",
      "(4, 'SFC', 16.1, '0.65 (-3.88%)', '$16.15 - $17.10', 5570.0, 758.0, 16.75, '$16.01 - $16.75', '$16.75', '6:58pm 03/11 (AEDT)', '-3.88%', '-5.35%', '-11.05%', '-10.26%', '-16.44%', '-12.01%', 218469868.0, '672 of 2,408', '58 of 150', 13569557.0, 'Consumer Cyclical', 'NDO / ALG / BST', 1.811, 0.9, 3.324, None, None, None, 8.890115958034237)\n",
      "(5, 'AHL', 0.89, '0.00 (0.00)', '$0.845 - $0.90', 0.0, 11146.0, None, '‐ - ‐', '$0.89', '6:58pm 03/11 (AEDT)', '+3.49%', '-6.32%', '-19.09%', '-34.07%', '-40.26%', '-35.83%', 72343803.0, '1,034 of 2,408', '88 of 150', 81285172.0, 'Consumer Cyclical', 'ISU / KED / CCX', 0.084, 0.0233, 0.986, None, None, None, 10.595238095238097)\n"
     ]
    }
   ],
   "source": [
    "# Once this is executed, we need to run the codes again to populate data\n",
    "for record in data:\n",
    "    print(record)"
   ]
  },
  {
   "cell_type": "code",
   "execution_count": 26,
   "id": "28563d87-2e58-4773-ba88-accfd460dbcb",
   "metadata": {},
   "outputs": [
    {
     "data": {
      "text/plain": [
       "[('Automobiles & Components', 1),\n",
       " ('Banks', 2),\n",
       " ('Capital Goods', 3),\n",
       " ('Class Pend', 4),\n",
       " ('Commercial & Professional Services', 5),\n",
       " ('Consumer Discretionary Distribution & Retail', 6),\n",
       " ('Consumer Durables & Apparel', 7),\n",
       " ('Consumer Services', 8),\n",
       " ('Consumer Staples Distribution & Retail', 9),\n",
       " ('Energy', 10),\n",
       " ('Equity Real Estate Investment Trusts (REITs)', 11),\n",
       " ('Financial Services', 12),\n",
       " ('Food, Beverage & Tobacco', 13),\n",
       " ('Health Care Equipment & Services', 14),\n",
       " ('Household & Personal Products', 15),\n",
       " ('Insurance', 16),\n",
       " ('Materials', 17),\n",
       " ('Media & Entertainment', 18),\n",
       " ('Not Applic', 19),\n",
       " ('Pharmaceuticals, Biotechnology & Life Sciences', 20),\n",
       " ('Real Estate Management & Development', 21),\n",
       " ('Semiconductors & Semiconductor Equipment', 22),\n",
       " ('Software & Services', 23),\n",
       " ('Technology Hardware & Equipment', 24),\n",
       " ('Telecommunication Services', 25),\n",
       " ('Transportation', 26),\n",
       " ('Utilities', 27)]"
      ]
     },
     "execution_count": 26,
     "metadata": {},
     "output_type": "execute_result"
    }
   ],
   "source": [
    "data.fetchall()"
   ]
  },
  {
   "cell_type": "code",
   "execution_count": 29,
   "id": "618df8c1-d10e-4515-821a-006e5960451d",
   "metadata": {},
   "outputs": [
    {
     "data": {
      "text/plain": [
       "('Automobiles & Components', 1)"
      ]
     },
     "execution_count": 29,
     "metadata": {},
     "output_type": "execute_result"
    }
   ],
   "source": [
    "data.fetchone()"
   ]
  },
  {
   "cell_type": "code",
   "execution_count": 60,
   "id": "4b7ee89d-0a36-4217-8860-8c9c2ab411a6",
   "metadata": {},
   "outputs": [
    {
     "ename": "AttributeError",
     "evalue": "type object 'Base' has no attribute 'classes'",
     "output_type": "error",
     "traceback": [
      "\u001b[1;31m---------------------------------------------------------------------------\u001b[0m",
      "\u001b[1;31mAttributeError\u001b[0m                            Traceback (most recent call last)",
      "Cell \u001b[1;32mIn[60], line 2\u001b[0m\n\u001b[0;32m      1\u001b[0m \u001b[38;5;66;03m#save a reference to the top_ten table as 'top_ten'\u001b[39;00m\n\u001b[1;32m----> 2\u001b[0m top_ten \u001b[38;5;241m=\u001b[39m Base\u001b[38;5;241m.\u001b[39mclasses\u001b[38;5;241m.\u001b[39mtop_ten\n\u001b[0;32m      4\u001b[0m \u001b[38;5;66;03m#list all of the tickers found in the top_ten table \u001b[39;00m\n\u001b[0;32m      5\u001b[0m session\u001b[38;5;241m.\u001b[39mquery(top_ten\u001b[38;5;241m.\u001b[39mticker)\u001b[38;5;241m.\u001b[39mall()\n",
      "\u001b[1;31mAttributeError\u001b[0m: type object 'Base' has no attribute 'classes'"
     ]
    }
   ],
   "source": [
    "#save a reference to the top_ten table as 'top_ten'\n",
    "top_ten = Base.classes.top_ten\n",
    "\n",
    "#list all of the tickers found in the top_ten table \n",
    "session.query(top_ten.ticker).all()"
   ]
  },
  {
   "cell_type": "code",
   "execution_count": null,
   "id": "c2f9a5b7-52cb-4cea-af15-6e8e99382abe",
   "metadata": {},
   "outputs": [],
   "source": []
  },
  {
   "cell_type": "code",
   "execution_count": 5,
   "id": "0a0716d9-cb2b-4bae-969c-3e3bd1014314",
   "metadata": {
    "tags": []
   },
   "outputs": [],
   "source": [
    "from sqlalchemy.orm import sessionmaker\n",
    "\n",
    "#Insert DataFrames into Database\n",
    "Session = sessionmaker(bind=engine)\n",
    "\n",
    "\n",
    "session = Session()\n",
    "\n",
    "# Insert IndustryGroups\n",
    "session.bulk_insert_mappings(IndustryGroups, industry_groups_df.to_dict(orient=\"records\"))\n",
    "\n",
    "# Insert TopTen\n",
    "session.bulk_insert_mappings(TopTen, top_ten_df.to_dict(orient=\"records\"))\n",
    "\n",
    "# Insert TopTenHistoric\n",
    "session.bulk_insert_mappings(TopTenHistoric, top_ten_historic_df.to_dict(orient=\"records\"))\n",
    "\n",
    "# Insert ASX_Fundamental\n",
    "session.bulk_insert_mappings(Fundamental, fundamental_df_clean.to_dict(orient=\"records\"))\n",
    "\n",
    "\n",
    "session.commit()\n",
    "\n",
    "\n"
   ]
  },
  {
   "cell_type": "code",
   "execution_count": 47,
   "id": "ac595c54-fb53-4500-8d75-288bbdba1612",
   "metadata": {},
   "outputs": [],
   "source": [
    "# #Query the Database and Create DataFrame\n",
    "# # Example: Querying the TopTen table and creating a DataFrame\n",
    "# top_ten_query = session.query(TopTen).all()\n",
    "# asx = pd.DataFrame([{\n",
    "#     'ticker': record.ticker,\n",
    "#     'company_name': record.company_name,\n",
    "#     'market_cap': record.market_cap,\n",
    "#     'industry_id': record.industry_id\n",
    "# } for record in top_ten_query])\n",
    "\n",
    "# print(asx)\n"
   ]
  },
  {
   "cell_type": "code",
   "execution_count": 49,
   "id": "95fce3c2-9612-4227-81c7-680440277d4f",
   "metadata": {
    "tags": []
   },
   "outputs": [],
   "source": [
    "#import dependencies for inspector\n",
    "from sqlalchemy import inspect"
   ]
  },
  {
   "cell_type": "code",
   "execution_count": 50,
   "id": "44823547-3362-4698-9a85-80a4092b83da",
   "metadata": {
    "tags": []
   },
   "outputs": [],
   "source": [
    "# Instantiate an Inspector with the engine\n",
    "inspector = inspect(engine)"
   ]
  },
  {
   "cell_type": "code",
   "execution_count": 8,
   "id": "6201fbd9-7ade-46fe-ab01-87add0ef01e8",
   "metadata": {
    "tags": []
   },
   "outputs": [
    {
     "name": "stdout",
     "output_type": "stream",
     "text": [
      "['fundamental', 'industry_groups', 'top_ten', 'top_ten_historic']\n"
     ]
    }
   ],
   "source": [
    "# Get a list of table names\n",
    "table_names = inspector.get_table_names()\n",
    "print(table_names)"
   ]
  },
  {
   "cell_type": "code",
   "execution_count": 9,
   "id": "faf3b27b-cba3-4696-87fa-9cdcf7c3112a",
   "metadata": {
    "tags": []
   },
   "outputs": [
    {
     "name": "stdout",
     "output_type": "stream",
     "text": [
      "ticker\n",
      "company_name\n",
      "market_cap\n",
      "industry_id\n"
     ]
    }
   ],
   "source": [
    "#Get columns of top_ten_historic\n",
    "columns = inspector.get_columns('top_ten')\n",
    "for column in columns:\n",
    "    print(column['name'])"
   ]
  },
  {
   "cell_type": "code",
   "execution_count": 10,
   "id": "dd5c6f98-7651-45d9-b347-c4acb465312a",
   "metadata": {
    "tags": []
   },
   "outputs": [
    {
     "data": {
      "text/plain": [
       "['fundamental', 'top_ten', 'industry_groups', 'top_ten_historic']"
      ]
     },
     "execution_count": 10,
     "metadata": {},
     "output_type": "execute_result"
    }
   ],
   "source": [
    "#reflect database into ORM classes \n",
    "Base = automap_base()\n",
    "Base.prepare(autoload_with=engine)\n",
    "Base.classes.keys()"
   ]
  },
  {
   "cell_type": "code",
   "execution_count": 51,
   "id": "be152779-09ed-4284-a347-ca027fb2f732",
   "metadata": {
    "tags": []
   },
   "outputs": [
    {
     "ename": "AttributeError",
     "evalue": "type object 'Base' has no attribute 'classes'",
     "output_type": "error",
     "traceback": [
      "\u001b[1;31m---------------------------------------------------------------------------\u001b[0m",
      "\u001b[1;31mAttributeError\u001b[0m                            Traceback (most recent call last)",
      "Cell \u001b[1;32mIn[51], line 2\u001b[0m\n\u001b[0;32m      1\u001b[0m \u001b[38;5;66;03m#save a reference to the top_ten table as 'top_ten'\u001b[39;00m\n\u001b[1;32m----> 2\u001b[0m top_ten \u001b[38;5;241m=\u001b[39m Base\u001b[38;5;241m.\u001b[39mclasses\u001b[38;5;241m.\u001b[39mtop_ten\n",
      "\u001b[1;31mAttributeError\u001b[0m: type object 'Base' has no attribute 'classes'"
     ]
    }
   ],
   "source": [
    "#save a reference to the top_ten table as 'top_ten'\n",
    "top_ten = Base.classes.top_ten"
   ]
  },
  {
   "cell_type": "code",
   "execution_count": 12,
   "id": "208bbfda-cacd-4545-86aa-42ea8c47b4fb",
   "metadata": {
    "tags": []
   },
   "outputs": [],
   "source": [
    "#create a database session object\n",
    "session = Session(bind =engine)"
   ]
  },
  {
   "cell_type": "code",
   "execution_count": 13,
   "id": "7aa9d19f-4047-440a-a988-9724089182d5",
   "metadata": {
    "tags": []
   },
   "outputs": [
    {
     "data": {
      "text/plain": [
       "[('360',),\n",
       " ('4DS',),\n",
       " ('A2M',),\n",
       " ('AAC',),\n",
       " ('ABB',),\n",
       " ('ABV',),\n",
       " ('AD8',),\n",
       " ('AFI',),\n",
       " ('AFP',),\n",
       " ('AGL',),\n",
       " ('AHL',),\n",
       " ('AIA',),\n",
       " ('AIZ',),\n",
       " ('AKP',),\n",
       " ('ALD',),\n",
       " ('ALL',),\n",
       " ('ALQ',),\n",
       " ('ALU',),\n",
       " ('ALX',),\n",
       " ('AMC',),\n",
       " ('AMP',),\n",
       " ('ANN',),\n",
       " ('ANZ',),\n",
       " ('APA',),\n",
       " ('APE',),\n",
       " ('APM',),\n",
       " ('ARB',),\n",
       " ('ARG',),\n",
       " ('ASX',),\n",
       " ('AUB',),\n",
       " ('AUI',),\n",
       " ('AVH',),\n",
       " ('AVJ',),\n",
       " ('AX1',),\n",
       " ('AXE',),\n",
       " ('AZJ',),\n",
       " ('BAP',),\n",
       " ('BEN',),\n",
       " ('BFL',),\n",
       " ('BGA',),\n",
       " ('BGP',),\n",
       " ('BHP',),\n",
       " ('BIO',),\n",
       " ('BKI',),\n",
       " ('BLG',),\n",
       " ('BOQ',),\n",
       " ('BPT',),\n",
       " ('BRG',),\n",
       " ('BXB',),\n",
       " ('BXN',),\n",
       " ('CAR',),\n",
       " ('CBA',),\n",
       " ('CBO',),\n",
       " ('CCO',),\n",
       " ('CDA',),\n",
       " ('CEN',),\n",
       " ('CGC',),\n",
       " ('CGF',),\n",
       " ('CHC',),\n",
       " ('CNU',),\n",
       " ('COH',),\n",
       " ('COL',),\n",
       " ('CPU',),\n",
       " ('CSL',),\n",
       " ('CTD',),\n",
       " ('CUV',),\n",
       " ('CVW',),\n",
       " ('CWP',),\n",
       " ('CWY',),\n",
       " ('D2O',),\n",
       " ('DBI',),\n",
       " ('DDR',),\n",
       " ('DDT',),\n",
       " ('DHG',),\n",
       " ('DMP',),\n",
       " ('DOW',),\n",
       " ('DTL',),\n",
       " ('DTZ',),\n",
       " ('DXS',),\n",
       " ('DY6',),\n",
       " ('EBO',),\n",
       " ('EDV',),\n",
       " ('ELD',),\n",
       " ('ERD',),\n",
       " ('EVT',),\n",
       " ('EXL',),\n",
       " ('FBU',),\n",
       " ('FLT',),\n",
       " ('FMG',),\n",
       " ('FPH',),\n",
       " ('FRI',),\n",
       " ('FRW',),\n",
       " ('FSG',),\n",
       " ('FWD',),\n",
       " ('GAP',),\n",
       " ('GDG',),\n",
       " ('GLB',),\n",
       " ('GMG',),\n",
       " ('GNC',),\n",
       " ('GNE',),\n",
       " ('GNX',),\n",
       " ('GPT',),\n",
       " ('GQG',),\n",
       " ('GUD',),\n",
       " ('HCT',),\n",
       " ('HGH',),\n",
       " ('HPC',),\n",
       " ('HRE',),\n",
       " ('HTA',),\n",
       " ('HUB',),\n",
       " ('HVN',),\n",
       " ('IAG',),\n",
       " ('IEL',),\n",
       " ('IFT',),\n",
       " ('IKE',),\n",
       " ('IMM',),\n",
       " ('IMU',),\n",
       " ('ING',),\n",
       " ('IPH',),\n",
       " ('IVC',),\n",
       " ('JBH',),\n",
       " ('JDO',),\n",
       " ('JHG',),\n",
       " ('JHX',),\n",
       " ('JLG',),\n",
       " ('KLI',),\n",
       " ('KLS',),\n",
       " ('LGI',),\n",
       " ('LIC',),\n",
       " ('LLC',),\n",
       " ('LNW',),\n",
       " ('LOV',),\n",
       " ('LSF',),\n",
       " ('MAD',),\n",
       " ('MAQ',),\n",
       " ('MCP',),\n",
       " ('MCY',),\n",
       " ('MEZ',),\n",
       " ('MFF',),\n",
       " ('MGF',),\n",
       " ('MGR',),\n",
       " ('MIN',),\n",
       " ('MMM',),\n",
       " ('MMS',),\n",
       " ('MND',),\n",
       " ('MP1',),\n",
       " ('MPL',),\n",
       " ('MQG',),\n",
       " ('MSB',),\n",
       " ('MTS',),\n",
       " ('MXT',),\n",
       " ('MYX',),\n",
       " ('NAB',),\n",
       " ('NAN',),\n",
       " ('NEC',),\n",
       " ('NEM',),\n",
       " ('NEU',),\n",
       " ('NHC',),\n",
       " ('NHF',),\n",
       " ('NSR',),\n",
       " ('NST',),\n",
       " ('NVX',),\n",
       " ('NWL',),\n",
       " ('NWS',),\n",
       " ('NWSLV',),\n",
       " ('NXG',),\n",
       " ('NXT',),\n",
       " ('OML',),\n",
       " ('ORG',),\n",
       " ('OXT',),\n",
       " ('PDN',),\n",
       " ('PLS',),\n",
       " ('PME',),\n",
       " ('PMV',),\n",
       " ('PPC',),\n",
       " ('PSI',),\n",
       " ('PTL',),\n",
       " ('PVS',),\n",
       " ('PWH',),\n",
       " ('PXA',),\n",
       " ('QAL',),\n",
       " ('QAN',),\n",
       " ('QBE',),\n",
       " ('QUB',),\n",
       " ('RDX',),\n",
       " ('REA',),\n",
       " ('REH',),\n",
       " ('RHC',),\n",
       " ('RIC',),\n",
       " ('RIO',),\n",
       " ('RMD',),\n",
       " ('RPM',),\n",
       " ('RVS',),\n",
       " ('RWC',),\n",
       " ('RWL',),\n",
       " ('S32',),\n",
       " ('S3N',),\n",
       " ('S66',),\n",
       " ('SCG',),\n",
       " ('SDF',),\n",
       " ('SDR',),\n",
       " ('SEK',),\n",
       " ('SFC',),\n",
       " ('SGP',),\n",
       " ('SHL',),\n",
       " ('SHM',),\n",
       " ('SHV',),\n",
       " ('SIO',),\n",
       " ('SIQ',),\n",
       " ('SIX',),\n",
       " ('SKN',),\n",
       " ('SLB',),\n",
       " ('SLC',),\n",
       " ('SMN',),\n",
       " ('SNZ',),\n",
       " ('SOL',),\n",
       " ('SPK',),\n",
       " ('SPZ',),\n",
       " ('SQ2',),\n",
       " ('SRV',),\n",
       " ('STO',),\n",
       " ('SUL',),\n",
       " ('SUN',),\n",
       " ('SVW',),\n",
       " ('SWM',),\n",
       " ('SWP',),\n",
       " ('TAH',),\n",
       " ('TCL',),\n",
       " ('TLC',),\n",
       " ('TLS',),\n",
       " ('TLX',),\n",
       " ('TNE',),\n",
       " ('TPG',),\n",
       " ('TRE',),\n",
       " ('TUA',),\n",
       " ('TWD',),\n",
       " ('TWE',),\n",
       " ('UOS',),\n",
       " ('URW',),\n",
       " ('VCX',),\n",
       " ('VEA',),\n",
       " ('VMT',),\n",
       " ('VNT',),\n",
       " ('VUK',),\n",
       " ('WAM',),\n",
       " ('WAT',),\n",
       " ('WBC',),\n",
       " ('WBT',),\n",
       " ('WDS',),\n",
       " ('WEB',),\n",
       " ('WES',),\n",
       " ('WHC',),\n",
       " ('WLE',),\n",
       " ('WOR',),\n",
       " ('WOW',),\n",
       " ('WTC',),\n",
       " ('WTN',),\n",
       " ('XRO',),\n",
       " ('YAL',)]"
      ]
     },
     "execution_count": 13,
     "metadata": {},
     "output_type": "execute_result"
    }
   ],
   "source": [
    "#list all of the tickers found in the top_ten table \n",
    "session.query(top_ten.ticker).all()"
   ]
  },
  {
   "cell_type": "code",
   "execution_count": 52,
   "id": "636c4a8e-f830-4def-a866-379026839be8",
   "metadata": {},
   "outputs": [
    {
     "ename": "AttributeError",
     "evalue": "'Engine' object has no attribute 'execute'",
     "output_type": "error",
     "traceback": [
      "\u001b[1;31m---------------------------------------------------------------------------\u001b[0m",
      "\u001b[1;31mAttributeError\u001b[0m                            Traceback (most recent call last)",
      "Cell \u001b[1;32mIn[52], line 8\u001b[0m\n\u001b[0;32m      6\u001b[0m \u001b[38;5;66;03m# Consulta para seleccionar algunos registros de la tabla IndustryGroups\u001b[39;00m\n\u001b[0;32m      7\u001b[0m query \u001b[38;5;241m=\u001b[39m text(\u001b[38;5;124m\"\u001b[39m\u001b[38;5;124mSELECT * FROM industry_groups LIMIT 5\u001b[39m\u001b[38;5;124m\"\u001b[39m)\n\u001b[1;32m----> 8\u001b[0m results \u001b[38;5;241m=\u001b[39m engine\u001b[38;5;241m.\u001b[39mexecute(query)\n\u001b[0;32m      9\u001b[0m \u001b[38;5;28mprint\u001b[39m(\u001b[38;5;124m\"\u001b[39m\u001b[38;5;130;01m\\n\u001b[39;00m\u001b[38;5;124mRegistros en la tabla IndustryGroups:\u001b[39m\u001b[38;5;124m\"\u001b[39m)\n\u001b[0;32m     10\u001b[0m \u001b[38;5;28;01mfor\u001b[39;00m row \u001b[38;5;129;01min\u001b[39;00m results:\n",
      "\u001b[1;31mAttributeError\u001b[0m: 'Engine' object has no attribute 'execute'"
     ]
    }
   ],
   "source": [
    "from sqlalchemy import text\n",
    "\n",
    "# Conectarse a la base de datos\n",
    "engine = create_engine('sqlite:///Resources/top_ten_asx.db')\n",
    "\n",
    "# Consulta para seleccionar algunos registros de la tabla IndustryGroups\n",
    "query = text(\"SELECT * FROM industry_groups LIMIT 5\")\n",
    "results = engine.execute(query)\n",
    "print(\"\\nRegistros en la tabla IndustryGroups:\")\n",
    "for row in results:\n",
    "    print(row)"
   ]
  },
  {
   "cell_type": "code",
   "execution_count": null,
   "id": "cd29cec8-9d7f-4cb3-8fbf-4bb0e8199457",
   "metadata": {},
   "outputs": [],
   "source": []
  }
 ],
 "metadata": {
  "kernelspec": {
   "display_name": "PythonData",
   "language": "python",
   "name": "pythondata"
  },
  "language_info": {
   "codemirror_mode": {
    "name": "ipython",
    "version": 3
   },
   "file_extension": ".py",
   "mimetype": "text/x-python",
   "name": "python",
   "nbconvert_exporter": "python",
   "pygments_lexer": "ipython3",
   "version": "3.11.5"
  }
 },
 "nbformat": 4,
 "nbformat_minor": 5
}
