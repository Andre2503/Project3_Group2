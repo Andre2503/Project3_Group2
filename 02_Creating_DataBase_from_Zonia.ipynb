{
 "cells": [
  {
   "cell_type": "code",
   "execution_count": 1,
   "id": "157e4918-d46f-48fe-aa38-9eeaec1556aa",
   "metadata": {
    "tags": []
   },
   "outputs": [],
   "source": [
    "#import dependencies\n",
    "from sqlalchemy import create_engine, Column, Integer, String, Float, ForeignKey, Date\n",
    "# from sqlalchemy.ext.declarative import declarative_base\n",
    "from sqlalchemy.orm import Session\n",
    "import pandas as pd\n",
    "from sqlalchemy.ext.automap import automap_base\n",
    "from sqlalchemy import func, inspect\n",
    "\n",
    "from sqlalchemy.ext.declarative import declarative_base\n",
    "from sqlalchemy.orm import declarative_base\n",
    "\n",
    "# from sqlalchemy import create_engine\n",
    "# from sqlalchemy import inspect"
   ]
  },
  {
   "cell_type": "code",
   "execution_count": 2,
   "id": "f9982bbd-6ad9-4a87-b604-cd84b1fc3ed1",
   "metadata": {
    "tags": []
   },
   "outputs": [
    {
     "data": {
      "text/html": [
       "<div>\n",
       "<style scoped>\n",
       "    .dataframe tbody tr th:only-of-type {\n",
       "        vertical-align: middle;\n",
       "    }\n",
       "\n",
       "    .dataframe tbody tr th {\n",
       "        vertical-align: top;\n",
       "    }\n",
       "\n",
       "    .dataframe thead th {\n",
       "        text-align: right;\n",
       "    }\n",
       "</style>\n",
       "<table border=\"1\" class=\"dataframe\">\n",
       "  <thead>\n",
       "    <tr style=\"text-align: right;\">\n",
       "      <th></th>\n",
       "      <th>industry_name</th>\n",
       "      <th>industry_id</th>\n",
       "    </tr>\n",
       "  </thead>\n",
       "  <tbody>\n",
       "    <tr>\n",
       "      <th>0</th>\n",
       "      <td>Automobiles &amp; Components</td>\n",
       "      <td>1</td>\n",
       "    </tr>\n",
       "    <tr>\n",
       "      <th>1</th>\n",
       "      <td>Banks</td>\n",
       "      <td>2</td>\n",
       "    </tr>\n",
       "    <tr>\n",
       "      <th>2</th>\n",
       "      <td>Capital Goods</td>\n",
       "      <td>3</td>\n",
       "    </tr>\n",
       "    <tr>\n",
       "      <th>3</th>\n",
       "      <td>Class Pend</td>\n",
       "      <td>4</td>\n",
       "    </tr>\n",
       "    <tr>\n",
       "      <th>4</th>\n",
       "      <td>Commercial &amp; Professional Services</td>\n",
       "      <td>5</td>\n",
       "    </tr>\n",
       "  </tbody>\n",
       "</table>\n",
       "</div>"
      ],
      "text/plain": [
       "                        industry_name  industry_id\n",
       "0            Automobiles & Components            1\n",
       "1                               Banks            2\n",
       "2                       Capital Goods            3\n",
       "3                          Class Pend            4\n",
       "4  Commercial & Professional Services            5"
      ]
     },
     "execution_count": 2,
     "metadata": {},
     "output_type": "execute_result"
    }
   ],
   "source": [
    "# Step 1: Read CSV Files into DataFrames\n",
    "industry_groups_df = pd.read_csv('Resources/Industry_Groups.csv')\n",
    "top_ten_df = pd.read_csv('Resources/top_ten_with_industryID.csv')\n",
    "top_ten_historic_df = pd.read_csv('Resources/top_ten_historic_5y.csv')\n",
    "fundamental_df_clean = pd.read_csv('Resources/02_ASX_Fundamental_Final_Clean.csv')\n",
    "industry_groups_df.head()"
   ]
  },
  {
   "cell_type": "code",
   "execution_count": 3,
   "id": "3044c9ed-4d10-4c06-972a-2e5297f520f1",
   "metadata": {},
   "outputs": [
    {
     "data": {
      "text/html": [
       "<div>\n",
       "<style scoped>\n",
       "    .dataframe tbody tr th:only-of-type {\n",
       "        vertical-align: middle;\n",
       "    }\n",
       "\n",
       "    .dataframe tbody tr th {\n",
       "        vertical-align: top;\n",
       "    }\n",
       "\n",
       "    .dataframe thead th {\n",
       "        text-align: right;\n",
       "    }\n",
       "</style>\n",
       "<table border=\"1\" class=\"dataframe\">\n",
       "  <thead>\n",
       "    <tr style=\"text-align: right;\">\n",
       "      <th></th>\n",
       "      <th>fundamental_ID</th>\n",
       "      <th>Ticker</th>\n",
       "      <th>industry_gp</th>\n",
       "      <th>lastPrice</th>\n",
       "      <th>Change</th>\n",
       "      <th>Bid_Ask</th>\n",
       "      <th>volumePerDay</th>\n",
       "      <th>volume4wAvg</th>\n",
       "      <th>Open</th>\n",
       "      <th>dayRange</th>\n",
       "      <th>...</th>\n",
       "      <th>sharesIssued</th>\n",
       "      <th>Sector</th>\n",
       "      <th>similarCompanies</th>\n",
       "      <th>EPS</th>\n",
       "      <th>DPS</th>\n",
       "      <th>bookValuePerShare</th>\n",
       "      <th>Breakdown</th>\n",
       "      <th>Recommendation</th>\n",
       "      <th>lastUpdated</th>\n",
       "      <th>PE</th>\n",
       "    </tr>\n",
       "  </thead>\n",
       "  <tbody>\n",
       "    <tr>\n",
       "      <th>0</th>\n",
       "      <td>1</td>\n",
       "      <td>ARB</td>\n",
       "      <td>Automobiles &amp; Components</td>\n",
       "      <td>31.260</td>\n",
       "      <td>1.02 (3.37%)</td>\n",
       "      <td>$29.88 - $31.35</td>\n",
       "      <td>160245.0</td>\n",
       "      <td>245483.0</td>\n",
       "      <td>31.070</td>\n",
       "      <td>$30.56 - $31.45</td>\n",
       "      <td>...</td>\n",
       "      <td>8.222044e+07</td>\n",
       "      <td>Consumer Cyclical</td>\n",
       "      <td>CTD / WEB / SUL</td>\n",
       "      <td>1.079</td>\n",
       "      <td>0.6200</td>\n",
       "      <td>0.600</td>\n",
       "      <td>6 Buy · 5 Hold · 2 Sell</td>\n",
       "      <td>Hold</td>\n",
       "      <td>01/10/23</td>\n",
       "      <td>28.971</td>\n",
       "    </tr>\n",
       "    <tr>\n",
       "      <th>1</th>\n",
       "      <td>2</td>\n",
       "      <td>GUD</td>\n",
       "      <td>Automobiles &amp; Components</td>\n",
       "      <td>11.080</td>\n",
       "      <td>0.17 (1.56%)</td>\n",
       "      <td>$10.77 - $11.35</td>\n",
       "      <td>366353.0</td>\n",
       "      <td>441797.0</td>\n",
       "      <td>10.950</td>\n",
       "      <td>$10.725 - $11.10</td>\n",
       "      <td>...</td>\n",
       "      <td>1.408947e+08</td>\n",
       "      <td>Consumer Cyclical</td>\n",
       "      <td>SGR / LNW / SKC</td>\n",
       "      <td>0.693</td>\n",
       "      <td>0.3900</td>\n",
       "      <td>0.526</td>\n",
       "      <td>11 Buy · 2 Hold · 0 Sell</td>\n",
       "      <td>Strong Buy</td>\n",
       "      <td>01/10/23</td>\n",
       "      <td>15.988</td>\n",
       "    </tr>\n",
       "    <tr>\n",
       "      <th>2</th>\n",
       "      <td>3</td>\n",
       "      <td>PWH</td>\n",
       "      <td>Automobiles &amp; Components</td>\n",
       "      <td>10.120</td>\n",
       "      <td>0.07 (0.70%)</td>\n",
       "      <td>$9.96 - $10.92</td>\n",
       "      <td>37398.0</td>\n",
       "      <td>127350.0</td>\n",
       "      <td>10.160</td>\n",
       "      <td>$10.06 - $10.22</td>\n",
       "      <td>...</td>\n",
       "      <td>1.004841e+08</td>\n",
       "      <td>Consumer Cyclical</td>\n",
       "      <td>BGP / CTT / AX1</td>\n",
       "      <td>0.217</td>\n",
       "      <td>0.1250</td>\n",
       "      <td>0.722</td>\n",
       "      <td>7 Buy · 4 Hold · 1 Sell</td>\n",
       "      <td>Buy</td>\n",
       "      <td>01/10/23</td>\n",
       "      <td>46.636</td>\n",
       "    </tr>\n",
       "    <tr>\n",
       "      <th>3</th>\n",
       "      <td>4</td>\n",
       "      <td>SFC</td>\n",
       "      <td>Automobiles &amp; Components</td>\n",
       "      <td>16.100</td>\n",
       "      <td>0.65 (-3.88%)</td>\n",
       "      <td>$16.15 - $17.10</td>\n",
       "      <td>5570.0</td>\n",
       "      <td>758.0</td>\n",
       "      <td>16.750</td>\n",
       "      <td>$16.01 - $16.75</td>\n",
       "      <td>...</td>\n",
       "      <td>1.356956e+07</td>\n",
       "      <td>Consumer Cyclical</td>\n",
       "      <td>NDO / ALG / BST</td>\n",
       "      <td>1.811</td>\n",
       "      <td>0.9000</td>\n",
       "      <td>3.324</td>\n",
       "      <td>NaN</td>\n",
       "      <td>NaN</td>\n",
       "      <td>NaN</td>\n",
       "      <td>8.890</td>\n",
       "    </tr>\n",
       "    <tr>\n",
       "      <th>4</th>\n",
       "      <td>5</td>\n",
       "      <td>AHL</td>\n",
       "      <td>Automobiles &amp; Components</td>\n",
       "      <td>0.890</td>\n",
       "      <td>0.00 (0.00)</td>\n",
       "      <td>$0.845 - $0.90</td>\n",
       "      <td>0.0</td>\n",
       "      <td>11146.0</td>\n",
       "      <td>NaN</td>\n",
       "      <td>‐ - ‐</td>\n",
       "      <td>...</td>\n",
       "      <td>8.128517e+07</td>\n",
       "      <td>Consumer Cyclical</td>\n",
       "      <td>ISU / KED / CCX</td>\n",
       "      <td>0.084</td>\n",
       "      <td>0.0233</td>\n",
       "      <td>0.986</td>\n",
       "      <td>NaN</td>\n",
       "      <td>NaN</td>\n",
       "      <td>NaN</td>\n",
       "      <td>10.595</td>\n",
       "    </tr>\n",
       "    <tr>\n",
       "      <th>5</th>\n",
       "      <td>6</td>\n",
       "      <td>VMT</td>\n",
       "      <td>Automobiles &amp; Components</td>\n",
       "      <td>0.155</td>\n",
       "      <td>0.005 (3.33%)</td>\n",
       "      <td>$0.145 - $0.155</td>\n",
       "      <td>82262.0</td>\n",
       "      <td>432421.0</td>\n",
       "      <td>0.155</td>\n",
       "      <td>$0.145 - $0.155</td>\n",
       "      <td>...</td>\n",
       "      <td>2.902403e+08</td>\n",
       "      <td>Consumer Cyclical</td>\n",
       "      <td>DNA / BBT / MFD</td>\n",
       "      <td>0.025</td>\n",
       "      <td>0.0000</td>\n",
       "      <td>0.202</td>\n",
       "      <td>NaN</td>\n",
       "      <td>NaN</td>\n",
       "      <td>NaN</td>\n",
       "      <td>6.200</td>\n",
       "    </tr>\n",
       "    <tr>\n",
       "      <th>6</th>\n",
       "      <td>7</td>\n",
       "      <td>RPM</td>\n",
       "      <td>Automobiles &amp; Components</td>\n",
       "      <td>0.081</td>\n",
       "      <td>0.0005 (0.62%)</td>\n",
       "      <td>$0.078 - $0.085</td>\n",
       "      <td>92000.0</td>\n",
       "      <td>26007.0</td>\n",
       "      <td>0.081</td>\n",
       "      <td>$0.081 - $0.082</td>\n",
       "      <td>...</td>\n",
       "      <td>1.954481e+08</td>\n",
       "      <td>Consumer Cyclical</td>\n",
       "      <td>XRG / ABV / CLU</td>\n",
       "      <td>0.010</td>\n",
       "      <td>0.0000</td>\n",
       "      <td>0.031</td>\n",
       "      <td>NaN</td>\n",
       "      <td>NaN</td>\n",
       "      <td>NaN</td>\n",
       "      <td>8.100</td>\n",
       "    </tr>\n",
       "    <tr>\n",
       "      <th>7</th>\n",
       "      <td>8</td>\n",
       "      <td>ABV</td>\n",
       "      <td>Automobiles &amp; Components</td>\n",
       "      <td>0.044</td>\n",
       "      <td>0.002 (4.76%)</td>\n",
       "      <td>$0.043 - $0.046</td>\n",
       "      <td>231792.0</td>\n",
       "      <td>154298.0</td>\n",
       "      <td>0.042</td>\n",
       "      <td>$0.042 - $0.045</td>\n",
       "      <td>...</td>\n",
       "      <td>3.794669e+08</td>\n",
       "      <td>Consumer Cyclical</td>\n",
       "      <td>XRG / RPM / UCW</td>\n",
       "      <td>0.004</td>\n",
       "      <td>0.0000</td>\n",
       "      <td>0.017</td>\n",
       "      <td>NaN</td>\n",
       "      <td>NaN</td>\n",
       "      <td>NaN</td>\n",
       "      <td>11.000</td>\n",
       "    </tr>\n",
       "    <tr>\n",
       "      <th>8</th>\n",
       "      <td>9</td>\n",
       "      <td>DDT</td>\n",
       "      <td>Automobiles &amp; Components</td>\n",
       "      <td>0.004</td>\n",
       "      <td>0.00 (0.00)</td>\n",
       "      <td>$0.004 - $0.005</td>\n",
       "      <td>286645.0</td>\n",
       "      <td>1241239.0</td>\n",
       "      <td>0.004</td>\n",
       "      <td>$0.004 - $0.004</td>\n",
       "      <td>...</td>\n",
       "      <td>1.210953e+09</td>\n",
       "      <td>Consumer Cyclical</td>\n",
       "      <td>MHI / SIX / AUA</td>\n",
       "      <td>0.000</td>\n",
       "      <td>0.0000</td>\n",
       "      <td>0.008</td>\n",
       "      <td>NaN</td>\n",
       "      <td>NaN</td>\n",
       "      <td>NaN</td>\n",
       "      <td>0.000</td>\n",
       "    </tr>\n",
       "    <tr>\n",
       "      <th>9</th>\n",
       "      <td>10</td>\n",
       "      <td>SIX</td>\n",
       "      <td>Automobiles &amp; Components</td>\n",
       "      <td>0.014</td>\n",
       "      <td>0.00 (0.00)</td>\n",
       "      <td>$0.012 - $0.014</td>\n",
       "      <td>176.0</td>\n",
       "      <td>555355.0</td>\n",
       "      <td>0.014</td>\n",
       "      <td>$0.014 - $0.014</td>\n",
       "      <td>...</td>\n",
       "      <td>3.389980e+08</td>\n",
       "      <td>Consumer Cyclical</td>\n",
       "      <td>AUA / MHI / DDT</td>\n",
       "      <td>-0.020</td>\n",
       "      <td>0.0000</td>\n",
       "      <td>0.003</td>\n",
       "      <td>NaN</td>\n",
       "      <td>NaN</td>\n",
       "      <td>NaN</td>\n",
       "      <td>-0.700</td>\n",
       "    </tr>\n",
       "    <tr>\n",
       "      <th>10</th>\n",
       "      <td>11</td>\n",
       "      <td>CBA</td>\n",
       "      <td>Banks</td>\n",
       "      <td>99.930</td>\n",
       "      <td>1.50 (1.52%)</td>\n",
       "      <td>$99.75 - $99.95</td>\n",
       "      <td>2507791.0</td>\n",
       "      <td>1993484.0</td>\n",
       "      <td>99.600</td>\n",
       "      <td>$99.20 - $99.99</td>\n",
       "      <td>...</td>\n",
       "      <td>1.675528e+09</td>\n",
       "      <td>Financial Services</td>\n",
       "      <td>NAB / ANZ / WBC</td>\n",
       "      <td>5.893</td>\n",
       "      <td>4.5000</td>\n",
       "      <td>38.582</td>\n",
       "      <td>0 Buy · 5 Hold · 15 Sell</td>\n",
       "      <td>Strong Sell</td>\n",
       "      <td>01/10/23</td>\n",
       "      <td>16.957</td>\n",
       "    </tr>\n",
       "    <tr>\n",
       "      <th>11</th>\n",
       "      <td>12</td>\n",
       "      <td>NAB</td>\n",
       "      <td>Banks</td>\n",
       "      <td>29.060</td>\n",
       "      <td>0.49 (1.72%)</td>\n",
       "      <td>$28.92 - $29.10</td>\n",
       "      <td>4699140.0</td>\n",
       "      <td>4334055.0</td>\n",
       "      <td>28.950</td>\n",
       "      <td>$28.78 - $29.13</td>\n",
       "      <td>...</td>\n",
       "      <td>3.128949e+09</td>\n",
       "      <td>Financial Services</td>\n",
       "      <td>ANZ / WBC / MQG</td>\n",
       "      <td>2.268</td>\n",
       "      <td>1.6100</td>\n",
       "      <td>17.372</td>\n",
       "      <td>9 Buy · 5 Hold · 4 Sell</td>\n",
       "      <td>Hold</td>\n",
       "      <td>01/10/23</td>\n",
       "      <td>12.813</td>\n",
       "    </tr>\n",
       "  </tbody>\n",
       "</table>\n",
       "<p>12 rows × 31 columns</p>\n",
       "</div>"
      ],
      "text/plain": [
       "    fundamental_ID Ticker               industry_gp  lastPrice  \\\n",
       "0                1    ARB  Automobiles & Components     31.260   \n",
       "1                2    GUD  Automobiles & Components     11.080   \n",
       "2                3    PWH  Automobiles & Components     10.120   \n",
       "3                4    SFC  Automobiles & Components     16.100   \n",
       "4                5    AHL  Automobiles & Components      0.890   \n",
       "5                6    VMT  Automobiles & Components      0.155   \n",
       "6                7    RPM  Automobiles & Components      0.081   \n",
       "7                8    ABV  Automobiles & Components      0.044   \n",
       "8                9    DDT  Automobiles & Components      0.004   \n",
       "9               10    SIX  Automobiles & Components      0.014   \n",
       "10              11    CBA                     Banks     99.930   \n",
       "11              12    NAB                     Banks     29.060   \n",
       "\n",
       "            Change          Bid_Ask  volumePerDay  volume4wAvg    Open  \\\n",
       "0     1.02 (3.37%)  $29.88 - $31.35      160245.0     245483.0  31.070   \n",
       "1     0.17 (1.56%)  $10.77 - $11.35      366353.0     441797.0  10.950   \n",
       "2     0.07 (0.70%)   $9.96 - $10.92       37398.0     127350.0  10.160   \n",
       "3    0.65 (-3.88%)  $16.15 - $17.10        5570.0        758.0  16.750   \n",
       "4      0.00 (0.00)   $0.845 - $0.90           0.0      11146.0     NaN   \n",
       "5    0.005 (3.33%)  $0.145 - $0.155       82262.0     432421.0   0.155   \n",
       "6   0.0005 (0.62%)  $0.078 - $0.085       92000.0      26007.0   0.081   \n",
       "7    0.002 (4.76%)  $0.043 - $0.046      231792.0     154298.0   0.042   \n",
       "8      0.00 (0.00)  $0.004 - $0.005      286645.0    1241239.0   0.004   \n",
       "9      0.00 (0.00)  $0.012 - $0.014         176.0     555355.0   0.014   \n",
       "10    1.50 (1.52%)  $99.75 - $99.95     2507791.0    1993484.0  99.600   \n",
       "11    0.49 (1.72%)  $28.92 - $29.10     4699140.0    4334055.0  28.950   \n",
       "\n",
       "            dayRange  ...  sharesIssued              Sector similarCompanies  \\\n",
       "0    $30.56 - $31.45  ...  8.222044e+07   Consumer Cyclical  CTD / WEB / SUL   \n",
       "1   $10.725 - $11.10  ...  1.408947e+08   Consumer Cyclical  SGR / LNW / SKC   \n",
       "2    $10.06 - $10.22  ...  1.004841e+08   Consumer Cyclical  BGP / CTT / AX1   \n",
       "3    $16.01 - $16.75  ...  1.356956e+07   Consumer Cyclical  NDO / ALG / BST   \n",
       "4              ‐ - ‐  ...  8.128517e+07   Consumer Cyclical  ISU / KED / CCX   \n",
       "5    $0.145 - $0.155  ...  2.902403e+08   Consumer Cyclical  DNA / BBT / MFD   \n",
       "6    $0.081 - $0.082  ...  1.954481e+08   Consumer Cyclical  XRG / ABV / CLU   \n",
       "7    $0.042 - $0.045  ...  3.794669e+08   Consumer Cyclical  XRG / RPM / UCW   \n",
       "8    $0.004 - $0.004  ...  1.210953e+09   Consumer Cyclical  MHI / SIX / AUA   \n",
       "9    $0.014 - $0.014  ...  3.389980e+08   Consumer Cyclical  AUA / MHI / DDT   \n",
       "10   $99.20 - $99.99  ...  1.675528e+09  Financial Services  NAB / ANZ / WBC   \n",
       "11   $28.78 - $29.13  ...  3.128949e+09  Financial Services  ANZ / WBC / MQG   \n",
       "\n",
       "      EPS     DPS bookValuePerShare                 Breakdown Recommendation  \\\n",
       "0   1.079  0.6200             0.600   6 Buy · 5 Hold · 2 Sell           Hold   \n",
       "1   0.693  0.3900             0.526  11 Buy · 2 Hold · 0 Sell     Strong Buy   \n",
       "2   0.217  0.1250             0.722   7 Buy · 4 Hold · 1 Sell            Buy   \n",
       "3   1.811  0.9000             3.324                       NaN            NaN   \n",
       "4   0.084  0.0233             0.986                       NaN            NaN   \n",
       "5   0.025  0.0000             0.202                       NaN            NaN   \n",
       "6   0.010  0.0000             0.031                       NaN            NaN   \n",
       "7   0.004  0.0000             0.017                       NaN            NaN   \n",
       "8   0.000  0.0000             0.008                       NaN            NaN   \n",
       "9  -0.020  0.0000             0.003                       NaN            NaN   \n",
       "10  5.893  4.5000            38.582  0 Buy · 5 Hold · 15 Sell    Strong Sell   \n",
       "11  2.268  1.6100            17.372   9 Buy · 5 Hold · 4 Sell           Hold   \n",
       "\n",
       "    lastUpdated      PE  \n",
       "0      01/10/23  28.971  \n",
       "1      01/10/23  15.988  \n",
       "2      01/10/23  46.636  \n",
       "3           NaN   8.890  \n",
       "4           NaN  10.595  \n",
       "5           NaN   6.200  \n",
       "6           NaN   8.100  \n",
       "7           NaN  11.000  \n",
       "8           NaN   0.000  \n",
       "9           NaN  -0.700  \n",
       "10     01/10/23  16.957  \n",
       "11     01/10/23  12.813  \n",
       "\n",
       "[12 rows x 31 columns]"
      ]
     },
     "execution_count": 3,
     "metadata": {},
     "output_type": "execute_result"
    }
   ],
   "source": [
    "fundamental_df_clean.head(12)"
   ]
  },
  {
   "cell_type": "code",
   "execution_count": 4,
   "id": "851dfd25-d1b0-40a8-8829-76f823f8a644",
   "metadata": {
    "tags": []
   },
   "outputs": [
    {
     "name": "stdout",
     "output_type": "stream",
     "text": [
      "0\n"
     ]
    }
   ],
   "source": [
    "# #trying to see if i had any null values in 'Date' column of top_ten_historic_df\n",
    "print(top_ten_historic_df['Ticker'].isnull().sum())"
   ]
  },
  {
   "cell_type": "code",
   "execution_count": 5,
   "id": "fbdb5ee0-ea9b-4abb-a4b2-a9653844c15c",
   "metadata": {
    "tags": []
   },
   "outputs": [
    {
     "name": "stdout",
     "output_type": "stream",
     "text": [
      "<class 'pandas.core.frame.DataFrame'>\n",
      "RangeIndex: 27 entries, 0 to 26\n",
      "Data columns (total 2 columns):\n",
      " #   Column         Non-Null Count  Dtype \n",
      "---  ------         --------------  ----- \n",
      " 0   industry_name  27 non-null     object\n",
      " 1   industry_id    27 non-null     int64 \n",
      "dtypes: int64(1), object(1)\n",
      "memory usage: 564.0+ bytes\n"
     ]
    }
   ],
   "source": [
    "industry_groups_df.info()"
   ]
  },
  {
   "cell_type": "code",
   "execution_count": 6,
   "id": "74600ca6-4dbb-4367-8b7b-33e06e6dce74",
   "metadata": {
    "tags": []
   },
   "outputs": [
    {
     "name": "stdout",
     "output_type": "stream",
     "text": [
      "<class 'pandas.core.frame.DataFrame'>\n",
      "RangeIndex: 259 entries, 0 to 258\n",
      "Data columns (total 31 columns):\n",
      " #   Column             Non-Null Count  Dtype  \n",
      "---  ------             --------------  -----  \n",
      " 0   fundamental_ID     259 non-null    int64  \n",
      " 1   Ticker             259 non-null    object \n",
      " 2   industry_gp        259 non-null    object \n",
      " 3   lastPrice          259 non-null    float64\n",
      " 4   Change             259 non-null    object \n",
      " 5   Bid_Ask            259 non-null    object \n",
      " 6   volumePerDay       259 non-null    float64\n",
      " 7   volume4wAvg        259 non-null    float64\n",
      " 8   Open               245 non-null    float64\n",
      " 9   dayRange           259 non-null    object \n",
      " 10  prevClose          259 non-null    object \n",
      " 11  lastTrade          259 non-null    object \n",
      " 12  oneWeek            259 non-null    object \n",
      " 13  oneMonth           259 non-null    object \n",
      " 14  YTD2023            259 non-null    object \n",
      " 15  oneYear            259 non-null    object \n",
      " 16  vsSectorOneYr      259 non-null    object \n",
      " 17  vsASX200OneYr      259 non-null    object \n",
      " 18  marketCap          259 non-null    float64\n",
      " 19  ASXRank            259 non-null    object \n",
      " 20  sectorRank         259 non-null    object \n",
      " 21  sharesIssued       259 non-null    float64\n",
      " 22  Sector             257 non-null    object \n",
      " 23  similarCompanies   259 non-null    object \n",
      " 24  EPS                259 non-null    float64\n",
      " 25  DPS                259 non-null    float64\n",
      " 26  bookValuePerShare  259 non-null    float64\n",
      " 27  Breakdown          196 non-null    object \n",
      " 28  Recommendation     196 non-null    object \n",
      " 29  lastUpdated        196 non-null    object \n",
      " 30  PE                 259 non-null    float64\n",
      "dtypes: float64(10), int64(1), object(20)\n",
      "memory usage: 62.9+ KB\n"
     ]
    }
   ],
   "source": [
    "fundamental_df_clean.info()"
   ]
  },
  {
   "cell_type": "code",
   "execution_count": 7,
   "id": "b52e06b7-4022-49f0-b2c1-1c27af362e70",
   "metadata": {
    "tags": []
   },
   "outputs": [],
   "source": [
    "#convert datatype to date\n",
    "top_ten_historic_df['Date'] = pd.to_datetime(top_ten_historic_df['Date'])\n"
   ]
  },
  {
   "cell_type": "code",
   "execution_count": 8,
   "id": "c17d3c75-3871-494d-bc6e-4a45e188c968",
   "metadata": {
    "tags": []
   },
   "outputs": [
    {
     "name": "stdout",
     "output_type": "stream",
     "text": [
      "<class 'pandas.core.frame.DataFrame'>\n",
      "RangeIndex: 60881 entries, 0 to 60880\n",
      "Data columns (total 8 columns):\n",
      " #   Column     Non-Null Count  Dtype         \n",
      "---  ------     --------------  -----         \n",
      " 0   Ticker     60881 non-null  object        \n",
      " 1   Date       60881 non-null  datetime64[ns]\n",
      " 2   Open       60881 non-null  float64       \n",
      " 3   High       60881 non-null  float64       \n",
      " 4   Low        60881 non-null  float64       \n",
      " 5   Close      60881 non-null  float64       \n",
      " 6   Adj Close  60881 non-null  float64       \n",
      " 7   Volume     60881 non-null  int64         \n",
      "dtypes: datetime64[ns](1), float64(5), int64(1), object(1)\n",
      "memory usage: 3.7+ MB\n"
     ]
    }
   ],
   "source": [
    "top_ten_historic_df.info()"
   ]
  },
  {
   "cell_type": "code",
   "execution_count": 9,
   "id": "73ca729a-b3b3-4ac7-901c-276a492de4f7",
   "metadata": {
    "tags": []
   },
   "outputs": [],
   "source": [
    "#top_ten_historic_df['Date'] = pd.to_datetime(top_ten_historic_df['Date']).apply(lambda x: x.date())"
   ]
  },
  {
   "cell_type": "code",
   "execution_count": 10,
   "id": "8988a7db-2a4a-41e5-8597-fd848b75c2db",
   "metadata": {
    "tags": []
   },
   "outputs": [],
   "source": [
    "#print(top_ten_historic_df['Date'].unique())"
   ]
  },
  {
   "cell_type": "code",
   "execution_count": 11,
   "id": "095b7048-3d83-4822-b61a-d3a384a1c5b2",
   "metadata": {
    "tags": []
   },
   "outputs": [
    {
     "name": "stdout",
     "output_type": "stream",
     "text": [
      "<class 'pandas.core.frame.DataFrame'>\n",
      "RangeIndex: 27 entries, 0 to 26\n",
      "Data columns (total 2 columns):\n",
      " #   Column         Non-Null Count  Dtype \n",
      "---  ------         --------------  ----- \n",
      " 0   industry_name  27 non-null     object\n",
      " 1   industry_id    27 non-null     int64 \n",
      "dtypes: int64(1), object(1)\n",
      "memory usage: 564.0+ bytes\n"
     ]
    }
   ],
   "source": [
    "industry_groups_df.info()"
   ]
  },
  {
   "cell_type": "code",
   "execution_count": 12,
   "id": "beac57a7-6de3-417c-ba58-20a8104a8382",
   "metadata": {
    "tags": []
   },
   "outputs": [],
   "source": [
    "# Define Database Schema\n",
    "Base = declarative_base()\n",
    "\n",
    "class IndustryGroups(Base):\n",
    "    __tablename__ = 'industry_groups'\n",
    "    \n",
    "    industry_name = Column(String)\n",
    "    industry_id = Column(Integer, primary_key=True)\n",
    "    \n",
    "\n",
    "class TopTen(Base):\n",
    "    __tablename__ = 'top_ten'\n",
    "    \n",
    "    ticker = Column(String, primary_key=True)\n",
    "    company_name = Column(String)\n",
    "    market_cap = Column(Float)\n",
    "    industry_id = Column(Integer, ForeignKey('industry_groups.industry_id'))\n",
    "\n",
    "class TopTenHistoric(Base):\n",
    "    __tablename__ = 'top_ten_historic'\n",
    "    \n",
    "    id = Column (Integer, primary_key=True, autoincrement=True)\n",
    "    Ticker = Column(String, ForeignKey('top_ten.ticker'))\n",
    "    Date = Column(Date)\n",
    "    Open = Column(Float)\n",
    "    High = Column(Float)\n",
    "    Low = Column(Float)\n",
    "    Close = Column(Float)\n",
    "    Adj_Close = Column('Adj Close', Float)\n",
    "    Volume = Column(Integer)\n",
    "    \n",
    "class Fundamental(Base):\n",
    "    __tablename__ = 'fundamental'\n",
    "    \n",
    "    id = Column (Integer, primary_key=True, autoincrement=True)\n",
    "    Ticker = Column(String,ForeignKey('top_ten.ticker'))\n",
    "    industry_gp = Column(String) \n",
    "    lastPrice = Column(Float)         \n",
    "    Change = Column(String)       \n",
    "    Bid_Ask = Column(String)           \n",
    "    volumePerDay = Column(Float)         \n",
    "    volume4wAvg = Column(Float)          \n",
    "    Open = Column(Float)              \n",
    "    dayRange = Column(String)              \n",
    "    prevClose = Column(String)        \n",
    "    lastTrade = Column(String)            \n",
    "    oneWeek = Column(String)             \n",
    "    oneMonth = Column(String)           \n",
    "    YTD2023 = Column(String)            \n",
    "    oneYear = Column(String)            \n",
    "    vsSectorOneYr = Column(String)         \n",
    "    vsASX200OneYr = Column(String)         \n",
    "    marketCap = Column(Float)          \n",
    "    ASXRank = Column(String)            \n",
    "    sectorRank = Column(String)         \n",
    "    sharesIssued = Column(Float)       \n",
    "    Sector = Column(String)               \n",
    "    similarCompanies = Column(String)     \n",
    "    EPS = Column(Float)                 \n",
    "    DPS = Column(Float)                \n",
    "    bookValuePerShare = Column(Float)    \n",
    "    Breakdown = Column(String)          \n",
    "    Recommendation = Column(String)       \n",
    "    lastUpdated = Column(String)                     \n",
    "    PE= Column(Float) \n",
    "        \n",
    "#Connect to the Database and Create Tables\n",
    "# Replace 'sqlite:///asx.db' with your actual database connection string\n",
    "engine = create_engine('sqlite:///Resources/top_ten_asx_new.db')\n",
    "Base.metadata.create_all(engine)\n",
    "\n",
    "\n"
   ]
  },
  {
   "cell_type": "markdown",
   "id": "db9df402-fbf3-4c5f-94b2-c19185a6c3ad",
   "metadata": {},
   "source": [
    "## 1. Job to inspect the tables in the sdlite database"
   ]
  },
  {
   "cell_type": "code",
   "execution_count": 16,
   "id": "0b060ea4-625a-48a4-84ad-7c8f3d93937c",
   "metadata": {},
   "outputs": [],
   "source": [
    "from sqlalchemy import create_engine\n",
    "from sqlalchemy import inspect"
   ]
  },
  {
   "cell_type": "code",
   "execution_count": 17,
   "id": "05d1c6d9-b6c4-43fe-80f1-4195be16ab0d",
   "metadata": {
    "tags": []
   },
   "outputs": [],
   "source": [
    "# Create an sqlalchemy engine to connect to the database\n",
    "engine = create_engine('sqlite:///Resources/top_ten_asx_new.db')"
   ]
  },
  {
   "cell_type": "code",
   "execution_count": 18,
   "id": "4acc63f7-ceaa-4456-912d-021870911f0f",
   "metadata": {},
   "outputs": [
    {
     "name": "stdout",
     "output_type": "stream",
     "text": [
      "fundamental\n",
      "industry_groups\n",
      "top_ten\n",
      "top_ten_historic\n"
     ]
    }
   ],
   "source": [
    "# Create inspector object and use it to reflect the database and get a list of table names\n",
    "inspector = inspect(engine)\n",
    "\n",
    "# Get a list of table names in the database\n",
    "table_names = inspector.get_table_names()\n",
    "\n",
    "# Print the table names\n",
    "for table_name in table_names:\n",
    "    print(table_name)"
   ]
  },
  {
   "cell_type": "markdown",
   "id": "3696c345-b6da-497f-bba2-488ab7d34f41",
   "metadata": {},
   "source": [
    "## 2. Job to print all the columsn of each table in the database"
   ]
  },
  {
   "cell_type": "code",
   "execution_count": 19,
   "id": "12355390-f235-4212-8b18-f61e00b0420f",
   "metadata": {},
   "outputs": [
    {
     "name": "stdout",
     "output_type": "stream",
     "text": [
      "Table: fundamental\n",
      "Column: id - Type: INTEGER\n",
      "Column: Ticker - Type: VARCHAR\n",
      "Column: industry_gp - Type: VARCHAR\n",
      "Column: lastPrice - Type: FLOAT\n",
      "Column: Change - Type: VARCHAR\n",
      "Column: Bid_Ask - Type: VARCHAR\n",
      "Column: volumePerDay - Type: FLOAT\n",
      "Column: volume4wAvg - Type: FLOAT\n",
      "Column: Open - Type: FLOAT\n",
      "Column: dayRange - Type: VARCHAR\n",
      "Column: prevClose - Type: VARCHAR\n",
      "Column: lastTrade - Type: VARCHAR\n",
      "Column: oneWeek - Type: VARCHAR\n",
      "Column: oneMonth - Type: VARCHAR\n",
      "Column: YTD2023 - Type: VARCHAR\n",
      "Column: oneYear - Type: VARCHAR\n",
      "Column: vsSectorOneYr - Type: VARCHAR\n",
      "Column: vsASX200OneYr - Type: VARCHAR\n",
      "Column: marketCap - Type: FLOAT\n",
      "Column: ASXRank - Type: VARCHAR\n",
      "Column: sectorRank - Type: VARCHAR\n",
      "Column: sharesIssued - Type: FLOAT\n",
      "Column: Sector - Type: VARCHAR\n",
      "Column: similarCompanies - Type: VARCHAR\n",
      "Column: EPS - Type: FLOAT\n",
      "Column: DPS - Type: FLOAT\n",
      "Column: bookValuePerShare - Type: FLOAT\n",
      "Column: Breakdown - Type: VARCHAR\n",
      "Column: Recommendation - Type: VARCHAR\n",
      "Column: lastUpdated - Type: VARCHAR\n",
      "Column: PE - Type: FLOAT\n",
      "\n",
      "\n",
      "Table: industry_groups\n",
      "Column: industry_name - Type: VARCHAR\n",
      "Column: industry_id - Type: INTEGER\n",
      "\n",
      "\n",
      "Table: top_ten\n",
      "Column: ticker - Type: VARCHAR\n",
      "Column: company_name - Type: VARCHAR\n",
      "Column: market_cap - Type: FLOAT\n",
      "Column: industry_id - Type: INTEGER\n",
      "\n",
      "\n",
      "Table: top_ten_historic\n",
      "Column: id - Type: INTEGER\n",
      "Column: Ticker - Type: VARCHAR\n",
      "Column: Date - Type: DATE\n",
      "Column: Open - Type: FLOAT\n",
      "Column: High - Type: FLOAT\n",
      "Column: Low - Type: FLOAT\n",
      "Column: Close - Type: FLOAT\n",
      "Column: Adj Close - Type: FLOAT\n",
      "Column: Volume - Type: INTEGER\n",
      "\n",
      "\n"
     ]
    }
   ],
   "source": [
    "from sqlalchemy import create_engine\n",
    "from sqlalchemy import inspect\n",
    "\n",
    "# Create an sqlalchemy engine to connect to the database\n",
    "engine = create_engine('sqlite:///Resources/top_ten_asx_new.db')\n",
    "\n",
    "# Create an inspector object\n",
    "inspector = inspect(engine)\n",
    "\n",
    "# Get a list of table names in the database\n",
    "table_names = inspector.get_table_names()\n",
    "\n",
    "# Iterate through the table names and print the columns for each table\n",
    "for table_name in table_names:\n",
    "    print(f\"Table: {table_name}\")\n",
    "    columns = inspector.get_columns(table_name)\n",
    "    for column in columns:\n",
    "        print(f\"Column: {column['name']} - Type: {column['type']}\")\n",
    "    print(\"\\n\")"
   ]
  },
  {
   "cell_type": "markdown",
   "id": "e1158822-00ea-426c-ae29-067d70603fb0",
   "metadata": {},
   "source": [
    "## 3. Fetch the data from selected table"
   ]
  },
  {
   "cell_type": "code",
   "execution_count": 20,
   "id": "2d071ee6-6587-4d82-9257-84b26916e304",
   "metadata": {},
   "outputs": [],
   "source": [
    "# SQLAlchemy\n",
    "from pathlib import Path\n",
    "from sqlalchemy import create_engine, text\n",
    "\n",
    "\n",
    "# Create an sqlalchemy engine to connect to the database\n",
    "engine = create_engine('sqlite:///Resources/top_ten_asx_new.db')\n",
    "connection = engine.connect()"
   ]
  },
  {
   "cell_type": "code",
   "execution_count": 21,
   "id": "90922a53-e8db-4ff6-81a0-3455cf3914ed",
   "metadata": {},
   "outputs": [],
   "source": [
    "# Query All Records in the the Database - Need to run this line again...\n",
    "data = connection.execute(text(\"SELECT * FROM industry_groups\"))"
   ]
  },
  {
   "cell_type": "code",
   "execution_count": 29,
   "id": "ec7039f5-dd46-4a76-a3d9-60925c1e61b2",
   "metadata": {},
   "outputs": [],
   "source": [
    "# Query All Records in the the Database - Need to run this line again...\n",
    "data = connection.execute(text(\"SELECT * FROM fundamental LIMIT 5\"))"
   ]
  },
  {
   "cell_type": "code",
   "execution_count": 25,
   "id": "79ac3633-aa79-4d50-9af4-f237db62c006",
   "metadata": {},
   "outputs": [],
   "source": [
    "# Query All Records in the the Database - Need to run this line again...\n",
    "data = connection.execute(text(\"SELECT * FROM top_ten LIMIT 5\"))"
   ]
  },
  {
   "cell_type": "code",
   "execution_count": 27,
   "id": "cd024e46-877e-4670-b6ae-a412742593de",
   "metadata": {},
   "outputs": [],
   "source": [
    "# Query All Records in the the Database - Need to run this line again...\n",
    "data = connection.execute(text(\"SELECT * FROM top_ten_historic LIMIT 5\"))"
   ]
  },
  {
   "cell_type": "code",
   "execution_count": 30,
   "id": "e55aa816-eee4-4836-9980-ded5d307435d",
   "metadata": {},
   "outputs": [
    {
     "name": "stdout",
     "output_type": "stream",
     "text": [
      "(1, 'ARB', 'Automobiles & Components', 31.26, '1.02 (3.37%)', '$29.88 - $31.35', 160245.0, 245483.0, 31.07, '$30.56 - $31.45', '$30.24', '6:58pm 03/11 (AEDT)', '+3.30%', '+1.20%', '+21.78%', '+11.96%', '+5.78%', '+10.21%', 2570210986.0, '152 of 2,408', '14 of 150', 82220441.0, 'Consumer Cyclical', 'CTD / WEB / SUL', 1.079, 0.62, 0.6, '6 Buy · 5 Hold · 2 Sell', 'Hold', '01/10/23', 28.971)\n",
      "(2, 'GUD', 'Automobiles & Components', 11.08, '0.17 (1.56%)', '$10.77 - $11.35', 366353.0, 441797.0, 10.95, '$10.725 - $11.10', '$10.91', '6:58pm 03/11 (AEDT)', '+2.59%', '-4.24%', '+46.17%', '+37.98%', '+31.80%', '+36.23%', 1561113232.0, '234 of 2,408', '23 of 150', 140894696.0, 'Consumer Cyclical', 'SGR / LNW / SKC', 0.693, 0.39, 0.526, '11 Buy · 2 Hold · 0 Sell', 'Strong Buy', '01/10/23', 15.988)\n",
      "(3, 'PWH', 'Automobiles & Components', 10.12, '0.07 (0.70%)', '$9.96 - $10.92', 37398.0, 127350.0, 10.16, '$10.06 - $10.22', '$10.05', '6:58pm 03/11 (AEDT)', '-0.88%', '-8.08%', '-6.04%', '-3.98%', '-10.17%', '-5.74%', 1016899406.0, '295 of 2,408', '28 of 150', 100484131.0, 'Consumer Cyclical', 'BGP / CTT / AX1', 0.217, 0.125, 0.722, '7 Buy · 4 Hold · 1 Sell', 'Buy', '01/10/23', 46.636)\n",
      "(4, 'SFC', 'Automobiles & Components', 16.1, '0.65 (-3.88%)', '$16.15 - $17.10', 5570.0, 758.0, 16.75, '$16.01 - $16.75', '$16.75', '6:58pm 03/11 (AEDT)', '-3.88%', '-5.35%', '-11.05%', '-10.26%', '-16.44%', '-12.01%', 218469868.0, '672 of 2,408', '58 of 150', 13569557.0, 'Consumer Cyclical', 'NDO / ALG / BST', 1.811, 0.9, 3.324, None, None, None, 8.89)\n",
      "(5, 'AHL', 'Automobiles & Components', 0.89, '0.00 (0.00)', '$0.845 - $0.90', 0.0, 11146.0, None, '‐ - ‐', '$0.89', '6:58pm 03/11 (AEDT)', '+3.49%', '-6.32%', '-19.09%', '-34.07%', '-40.26%', '-35.83%', 72343803.0, '1,034 of 2,408', '88 of 150', 81285172.0, 'Consumer Cyclical', 'ISU / KED / CCX', 0.084, 0.0233, 0.986, None, None, None, 10.595)\n"
     ]
    }
   ],
   "source": [
    "# Once this is executed, we need to run the codes again to populate data\n",
    "for record in data:\n",
    "    print(record)"
   ]
  },
  {
   "cell_type": "code",
   "execution_count": 31,
   "id": "28563d87-2e58-4773-ba88-accfd460dbcb",
   "metadata": {},
   "outputs": [
    {
     "data": {
      "text/plain": [
       "[]"
      ]
     },
     "execution_count": 31,
     "metadata": {},
     "output_type": "execute_result"
    }
   ],
   "source": [
    "data.fetchall()"
   ]
  },
  {
   "cell_type": "code",
   "execution_count": 29,
   "id": "618df8c1-d10e-4515-821a-006e5960451d",
   "metadata": {},
   "outputs": [
    {
     "data": {
      "text/plain": [
       "('Automobiles & Components', 1)"
      ]
     },
     "execution_count": 29,
     "metadata": {},
     "output_type": "execute_result"
    }
   ],
   "source": [
    "data.fetchone()"
   ]
  },
  {
   "cell_type": "code",
   "execution_count": 60,
   "id": "4b7ee89d-0a36-4217-8860-8c9c2ab411a6",
   "metadata": {},
   "outputs": [
    {
     "ename": "AttributeError",
     "evalue": "type object 'Base' has no attribute 'classes'",
     "output_type": "error",
     "traceback": [
      "\u001b[1;31m---------------------------------------------------------------------------\u001b[0m",
      "\u001b[1;31mAttributeError\u001b[0m                            Traceback (most recent call last)",
      "Cell \u001b[1;32mIn[60], line 2\u001b[0m\n\u001b[0;32m      1\u001b[0m \u001b[38;5;66;03m#save a reference to the top_ten table as 'top_ten'\u001b[39;00m\n\u001b[1;32m----> 2\u001b[0m top_ten \u001b[38;5;241m=\u001b[39m Base\u001b[38;5;241m.\u001b[39mclasses\u001b[38;5;241m.\u001b[39mtop_ten\n\u001b[0;32m      4\u001b[0m \u001b[38;5;66;03m#list all of the tickers found in the top_ten table \u001b[39;00m\n\u001b[0;32m      5\u001b[0m session\u001b[38;5;241m.\u001b[39mquery(top_ten\u001b[38;5;241m.\u001b[39mticker)\u001b[38;5;241m.\u001b[39mall()\n",
      "\u001b[1;31mAttributeError\u001b[0m: type object 'Base' has no attribute 'classes'"
     ]
    }
   ],
   "source": [
    "#save a reference to the top_ten table as 'top_ten'\n",
    "top_ten = Base.classes.top_ten\n",
    "\n",
    "#list all of the tickers found in the top_ten table \n",
    "session.query(top_ten.ticker).all()"
   ]
  },
  {
   "cell_type": "markdown",
   "id": "9febf1c4-41f1-419d-83ed-916f4d2ea2eb",
   "metadata": {},
   "source": [
    "## Need to run this to put the data to the table and commit"
   ]
  },
  {
   "cell_type": "code",
   "execution_count": 15,
   "id": "0a0716d9-cb2b-4bae-969c-3e3bd1014314",
   "metadata": {
    "tags": []
   },
   "outputs": [],
   "source": [
    "from sqlalchemy.orm import sessionmaker\n",
    "\n",
    "#Insert DataFrames into Database\n",
    "Session = sessionmaker(bind=engine)\n",
    "\n",
    "\n",
    "session = Session()\n",
    "\n",
    "# Insert IndustryGroups\n",
    "session.bulk_insert_mappings(IndustryGroups, industry_groups_df.to_dict(orient=\"records\"))\n",
    "\n",
    "# Insert TopTen\n",
    "session.bulk_insert_mappings(TopTen, top_ten_df.to_dict(orient=\"records\"))\n",
    "\n",
    "# Insert TopTenHistoric\n",
    "session.bulk_insert_mappings(TopTenHistoric, top_ten_historic_df.to_dict(orient=\"records\"))\n",
    "\n",
    "# Insert ASX_Fundamental\n",
    "session.bulk_insert_mappings(Fundamental, fundamental_df_clean.to_dict(orient=\"records\"))\n",
    "\n",
    "\n",
    "session.commit()\n",
    "\n",
    "\n"
   ]
  },
  {
   "cell_type": "code",
   "execution_count": 47,
   "id": "ac595c54-fb53-4500-8d75-288bbdba1612",
   "metadata": {},
   "outputs": [],
   "source": [
    "# #Query the Database and Create DataFrame\n",
    "# # Example: Querying the TopTen table and creating a DataFrame\n",
    "# top_ten_query = session.query(TopTen).all()\n",
    "# asx = pd.DataFrame([{\n",
    "#     'ticker': record.ticker,\n",
    "#     'company_name': record.company_name,\n",
    "#     'market_cap': record.market_cap,\n",
    "#     'industry_id': record.industry_id\n",
    "# } for record in top_ten_query])\n",
    "\n",
    "# print(asx)\n"
   ]
  },
  {
   "cell_type": "code",
   "execution_count": 49,
   "id": "95fce3c2-9612-4227-81c7-680440277d4f",
   "metadata": {
    "tags": []
   },
   "outputs": [],
   "source": [
    "#import dependencies for inspector\n",
    "from sqlalchemy import inspect"
   ]
  },
  {
   "cell_type": "code",
   "execution_count": 50,
   "id": "44823547-3362-4698-9a85-80a4092b83da",
   "metadata": {
    "tags": []
   },
   "outputs": [],
   "source": [
    "# Instantiate an Inspector with the engine\n",
    "inspector = inspect(engine)"
   ]
  },
  {
   "cell_type": "code",
   "execution_count": 8,
   "id": "6201fbd9-7ade-46fe-ab01-87add0ef01e8",
   "metadata": {
    "tags": []
   },
   "outputs": [
    {
     "name": "stdout",
     "output_type": "stream",
     "text": [
      "['fundamental', 'industry_groups', 'top_ten', 'top_ten_historic']\n"
     ]
    }
   ],
   "source": [
    "# Get a list of table names\n",
    "table_names = inspector.get_table_names()\n",
    "print(table_names)"
   ]
  },
  {
   "cell_type": "code",
   "execution_count": 9,
   "id": "faf3b27b-cba3-4696-87fa-9cdcf7c3112a",
   "metadata": {
    "tags": []
   },
   "outputs": [
    {
     "name": "stdout",
     "output_type": "stream",
     "text": [
      "ticker\n",
      "company_name\n",
      "market_cap\n",
      "industry_id\n"
     ]
    }
   ],
   "source": [
    "#Get columns of top_ten_historic\n",
    "columns = inspector.get_columns('top_ten')\n",
    "for column in columns:\n",
    "    print(column['name'])"
   ]
  },
  {
   "cell_type": "code",
   "execution_count": 10,
   "id": "dd5c6f98-7651-45d9-b347-c4acb465312a",
   "metadata": {
    "tags": []
   },
   "outputs": [
    {
     "data": {
      "text/plain": [
       "['fundamental', 'top_ten', 'industry_groups', 'top_ten_historic']"
      ]
     },
     "execution_count": 10,
     "metadata": {},
     "output_type": "execute_result"
    }
   ],
   "source": [
    "#reflect database into ORM classes \n",
    "Base = automap_base()\n",
    "Base.prepare(autoload_with=engine)\n",
    "Base.classes.keys()"
   ]
  },
  {
   "cell_type": "code",
   "execution_count": 51,
   "id": "be152779-09ed-4284-a347-ca027fb2f732",
   "metadata": {
    "tags": []
   },
   "outputs": [
    {
     "ename": "AttributeError",
     "evalue": "type object 'Base' has no attribute 'classes'",
     "output_type": "error",
     "traceback": [
      "\u001b[1;31m---------------------------------------------------------------------------\u001b[0m",
      "\u001b[1;31mAttributeError\u001b[0m                            Traceback (most recent call last)",
      "Cell \u001b[1;32mIn[51], line 2\u001b[0m\n\u001b[0;32m      1\u001b[0m \u001b[38;5;66;03m#save a reference to the top_ten table as 'top_ten'\u001b[39;00m\n\u001b[1;32m----> 2\u001b[0m top_ten \u001b[38;5;241m=\u001b[39m Base\u001b[38;5;241m.\u001b[39mclasses\u001b[38;5;241m.\u001b[39mtop_ten\n",
      "\u001b[1;31mAttributeError\u001b[0m: type object 'Base' has no attribute 'classes'"
     ]
    }
   ],
   "source": [
    "#save a reference to the top_ten table as 'top_ten'\n",
    "top_ten = Base.classes.top_ten"
   ]
  },
  {
   "cell_type": "code",
   "execution_count": 12,
   "id": "208bbfda-cacd-4545-86aa-42ea8c47b4fb",
   "metadata": {
    "tags": []
   },
   "outputs": [],
   "source": [
    "#create a database session object\n",
    "session = Session(bind =engine)"
   ]
  },
  {
   "cell_type": "code",
   "execution_count": 13,
   "id": "7aa9d19f-4047-440a-a988-9724089182d5",
   "metadata": {
    "tags": []
   },
   "outputs": [
    {
     "data": {
      "text/plain": [
       "[('360',),\n",
       " ('4DS',),\n",
       " ('A2M',),\n",
       " ('AAC',),\n",
       " ('ABB',),\n",
       " ('ABV',),\n",
       " ('AD8',),\n",
       " ('AFI',),\n",
       " ('AFP',),\n",
       " ('AGL',),\n",
       " ('AHL',),\n",
       " ('AIA',),\n",
       " ('AIZ',),\n",
       " ('AKP',),\n",
       " ('ALD',),\n",
       " ('ALL',),\n",
       " ('ALQ',),\n",
       " ('ALU',),\n",
       " ('ALX',),\n",
       " ('AMC',),\n",
       " ('AMP',),\n",
       " ('ANN',),\n",
       " ('ANZ',),\n",
       " ('APA',),\n",
       " ('APE',),\n",
       " ('APM',),\n",
       " ('ARB',),\n",
       " ('ARG',),\n",
       " ('ASX',),\n",
       " ('AUB',),\n",
       " ('AUI',),\n",
       " ('AVH',),\n",
       " ('AVJ',),\n",
       " ('AX1',),\n",
       " ('AXE',),\n",
       " ('AZJ',),\n",
       " ('BAP',),\n",
       " ('BEN',),\n",
       " ('BFL',),\n",
       " ('BGA',),\n",
       " ('BGP',),\n",
       " ('BHP',),\n",
       " ('BIO',),\n",
       " ('BKI',),\n",
       " ('BLG',),\n",
       " ('BOQ',),\n",
       " ('BPT',),\n",
       " ('BRG',),\n",
       " ('BXB',),\n",
       " ('BXN',),\n",
       " ('CAR',),\n",
       " ('CBA',),\n",
       " ('CBO',),\n",
       " ('CCO',),\n",
       " ('CDA',),\n",
       " ('CEN',),\n",
       " ('CGC',),\n",
       " ('CGF',),\n",
       " ('CHC',),\n",
       " ('CNU',),\n",
       " ('COH',),\n",
       " ('COL',),\n",
       " ('CPU',),\n",
       " ('CSL',),\n",
       " ('CTD',),\n",
       " ('CUV',),\n",
       " ('CVW',),\n",
       " ('CWP',),\n",
       " ('CWY',),\n",
       " ('D2O',),\n",
       " ('DBI',),\n",
       " ('DDR',),\n",
       " ('DDT',),\n",
       " ('DHG',),\n",
       " ('DMP',),\n",
       " ('DOW',),\n",
       " ('DTL',),\n",
       " ('DTZ',),\n",
       " ('DXS',),\n",
       " ('DY6',),\n",
       " ('EBO',),\n",
       " ('EDV',),\n",
       " ('ELD',),\n",
       " ('ERD',),\n",
       " ('EVT',),\n",
       " ('EXL',),\n",
       " ('FBU',),\n",
       " ('FLT',),\n",
       " ('FMG',),\n",
       " ('FPH',),\n",
       " ('FRI',),\n",
       " ('FRW',),\n",
       " ('FSG',),\n",
       " ('FWD',),\n",
       " ('GAP',),\n",
       " ('GDG',),\n",
       " ('GLB',),\n",
       " ('GMG',),\n",
       " ('GNC',),\n",
       " ('GNE',),\n",
       " ('GNX',),\n",
       " ('GPT',),\n",
       " ('GQG',),\n",
       " ('GUD',),\n",
       " ('HCT',),\n",
       " ('HGH',),\n",
       " ('HPC',),\n",
       " ('HRE',),\n",
       " ('HTA',),\n",
       " ('HUB',),\n",
       " ('HVN',),\n",
       " ('IAG',),\n",
       " ('IEL',),\n",
       " ('IFT',),\n",
       " ('IKE',),\n",
       " ('IMM',),\n",
       " ('IMU',),\n",
       " ('ING',),\n",
       " ('IPH',),\n",
       " ('IVC',),\n",
       " ('JBH',),\n",
       " ('JDO',),\n",
       " ('JHG',),\n",
       " ('JHX',),\n",
       " ('JLG',),\n",
       " ('KLI',),\n",
       " ('KLS',),\n",
       " ('LGI',),\n",
       " ('LIC',),\n",
       " ('LLC',),\n",
       " ('LNW',),\n",
       " ('LOV',),\n",
       " ('LSF',),\n",
       " ('MAD',),\n",
       " ('MAQ',),\n",
       " ('MCP',),\n",
       " ('MCY',),\n",
       " ('MEZ',),\n",
       " ('MFF',),\n",
       " ('MGF',),\n",
       " ('MGR',),\n",
       " ('MIN',),\n",
       " ('MMM',),\n",
       " ('MMS',),\n",
       " ('MND',),\n",
       " ('MP1',),\n",
       " ('MPL',),\n",
       " ('MQG',),\n",
       " ('MSB',),\n",
       " ('MTS',),\n",
       " ('MXT',),\n",
       " ('MYX',),\n",
       " ('NAB',),\n",
       " ('NAN',),\n",
       " ('NEC',),\n",
       " ('NEM',),\n",
       " ('NEU',),\n",
       " ('NHC',),\n",
       " ('NHF',),\n",
       " ('NSR',),\n",
       " ('NST',),\n",
       " ('NVX',),\n",
       " ('NWL',),\n",
       " ('NWS',),\n",
       " ('NWSLV',),\n",
       " ('NXG',),\n",
       " ('NXT',),\n",
       " ('OML',),\n",
       " ('ORG',),\n",
       " ('OXT',),\n",
       " ('PDN',),\n",
       " ('PLS',),\n",
       " ('PME',),\n",
       " ('PMV',),\n",
       " ('PPC',),\n",
       " ('PSI',),\n",
       " ('PTL',),\n",
       " ('PVS',),\n",
       " ('PWH',),\n",
       " ('PXA',),\n",
       " ('QAL',),\n",
       " ('QAN',),\n",
       " ('QBE',),\n",
       " ('QUB',),\n",
       " ('RDX',),\n",
       " ('REA',),\n",
       " ('REH',),\n",
       " ('RHC',),\n",
       " ('RIC',),\n",
       " ('RIO',),\n",
       " ('RMD',),\n",
       " ('RPM',),\n",
       " ('RVS',),\n",
       " ('RWC',),\n",
       " ('RWL',),\n",
       " ('S32',),\n",
       " ('S3N',),\n",
       " ('S66',),\n",
       " ('SCG',),\n",
       " ('SDF',),\n",
       " ('SDR',),\n",
       " ('SEK',),\n",
       " ('SFC',),\n",
       " ('SGP',),\n",
       " ('SHL',),\n",
       " ('SHM',),\n",
       " ('SHV',),\n",
       " ('SIO',),\n",
       " ('SIQ',),\n",
       " ('SIX',),\n",
       " ('SKN',),\n",
       " ('SLB',),\n",
       " ('SLC',),\n",
       " ('SMN',),\n",
       " ('SNZ',),\n",
       " ('SOL',),\n",
       " ('SPK',),\n",
       " ('SPZ',),\n",
       " ('SQ2',),\n",
       " ('SRV',),\n",
       " ('STO',),\n",
       " ('SUL',),\n",
       " ('SUN',),\n",
       " ('SVW',),\n",
       " ('SWM',),\n",
       " ('SWP',),\n",
       " ('TAH',),\n",
       " ('TCL',),\n",
       " ('TLC',),\n",
       " ('TLS',),\n",
       " ('TLX',),\n",
       " ('TNE',),\n",
       " ('TPG',),\n",
       " ('TRE',),\n",
       " ('TUA',),\n",
       " ('TWD',),\n",
       " ('TWE',),\n",
       " ('UOS',),\n",
       " ('URW',),\n",
       " ('VCX',),\n",
       " ('VEA',),\n",
       " ('VMT',),\n",
       " ('VNT',),\n",
       " ('VUK',),\n",
       " ('WAM',),\n",
       " ('WAT',),\n",
       " ('WBC',),\n",
       " ('WBT',),\n",
       " ('WDS',),\n",
       " ('WEB',),\n",
       " ('WES',),\n",
       " ('WHC',),\n",
       " ('WLE',),\n",
       " ('WOR',),\n",
       " ('WOW',),\n",
       " ('WTC',),\n",
       " ('WTN',),\n",
       " ('XRO',),\n",
       " ('YAL',)]"
      ]
     },
     "execution_count": 13,
     "metadata": {},
     "output_type": "execute_result"
    }
   ],
   "source": [
    "#list all of the tickers found in the top_ten table \n",
    "session.query(top_ten.ticker).all()"
   ]
  },
  {
   "cell_type": "code",
   "execution_count": 52,
   "id": "636c4a8e-f830-4def-a866-379026839be8",
   "metadata": {},
   "outputs": [
    {
     "ename": "AttributeError",
     "evalue": "'Engine' object has no attribute 'execute'",
     "output_type": "error",
     "traceback": [
      "\u001b[1;31m---------------------------------------------------------------------------\u001b[0m",
      "\u001b[1;31mAttributeError\u001b[0m                            Traceback (most recent call last)",
      "Cell \u001b[1;32mIn[52], line 8\u001b[0m\n\u001b[0;32m      6\u001b[0m \u001b[38;5;66;03m# Consulta para seleccionar algunos registros de la tabla IndustryGroups\u001b[39;00m\n\u001b[0;32m      7\u001b[0m query \u001b[38;5;241m=\u001b[39m text(\u001b[38;5;124m\"\u001b[39m\u001b[38;5;124mSELECT * FROM industry_groups LIMIT 5\u001b[39m\u001b[38;5;124m\"\u001b[39m)\n\u001b[1;32m----> 8\u001b[0m results \u001b[38;5;241m=\u001b[39m engine\u001b[38;5;241m.\u001b[39mexecute(query)\n\u001b[0;32m      9\u001b[0m \u001b[38;5;28mprint\u001b[39m(\u001b[38;5;124m\"\u001b[39m\u001b[38;5;130;01m\\n\u001b[39;00m\u001b[38;5;124mRegistros en la tabla IndustryGroups:\u001b[39m\u001b[38;5;124m\"\u001b[39m)\n\u001b[0;32m     10\u001b[0m \u001b[38;5;28;01mfor\u001b[39;00m row \u001b[38;5;129;01min\u001b[39;00m results:\n",
      "\u001b[1;31mAttributeError\u001b[0m: 'Engine' object has no attribute 'execute'"
     ]
    }
   ],
   "source": [
    "from sqlalchemy import text\n",
    "\n",
    "# Conectarse a la base de datos\n",
    "engine = create_engine('sqlite:///Resources/top_ten_asx.db')\n",
    "\n",
    "# Consulta para seleccionar algunos registros de la tabla IndustryGroups\n",
    "query = text(\"SELECT * FROM industry_groups LIMIT 5\")\n",
    "results = engine.execute(query)\n",
    "print(\"\\nRegistros en la tabla IndustryGroups:\")\n",
    "for row in results:\n",
    "    print(row)"
   ]
  },
  {
   "cell_type": "code",
   "execution_count": null,
   "id": "cd29cec8-9d7f-4cb3-8fbf-4bb0e8199457",
   "metadata": {},
   "outputs": [],
   "source": []
  }
 ],
 "metadata": {
  "kernelspec": {
   "display_name": "PythonData",
   "language": "python",
   "name": "pythondata"
  },
  "language_info": {
   "codemirror_mode": {
    "name": "ipython",
    "version": 3
   },
   "file_extension": ".py",
   "mimetype": "text/x-python",
   "name": "python",
   "nbconvert_exporter": "python",
   "pygments_lexer": "ipython3",
   "version": "3.11.5"
  }
 },
 "nbformat": 4,
 "nbformat_minor": 5
}
